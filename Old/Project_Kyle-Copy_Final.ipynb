{
 "cells": [
  {
   "cell_type": "code",
<<<<<<< HEAD
   "execution_count": 85,
   "metadata": {},
   "outputs": [],
   "source": [
    "# Import packages\n",
    "import pandas as pd\n",
    "import matplotlib.pyplot as plt\n",
    "import seaborn as sns\n",
=======
   "execution_count": 1,
   "metadata": {},
   "outputs": [
    {
     "ename": "KeyboardInterrupt",
     "evalue": "",
     "output_type": "error",
     "traceback": [
      "\u001b[0;31m---------------------------------------------------------------------------\u001b[0m",
      "\u001b[0;31mKeyboardInterrupt\u001b[0m                         Traceback (most recent call last)",
      "\u001b[0;32m<ipython-input-1-c0977b6a2a37>\u001b[0m in \u001b[0;36m<module>\u001b[0;34m\u001b[0m\n\u001b[1;32m      2\u001b[0m \u001b[0;32mimport\u001b[0m \u001b[0mpandas\u001b[0m \u001b[0;32mas\u001b[0m \u001b[0mpd\u001b[0m\u001b[0;34m\u001b[0m\u001b[0;34m\u001b[0m\u001b[0m\n\u001b[1;32m      3\u001b[0m \u001b[0;32mimport\u001b[0m \u001b[0mnumpy\u001b[0m \u001b[0;32mas\u001b[0m \u001b[0mnp\u001b[0m\u001b[0;34m\u001b[0m\u001b[0;34m\u001b[0m\u001b[0m\n\u001b[0;32m----> 4\u001b[0;31m \u001b[0;32mimport\u001b[0m \u001b[0mmatplotlib\u001b[0m\u001b[0;34m.\u001b[0m\u001b[0mpyplot\u001b[0m \u001b[0;32mas\u001b[0m \u001b[0mplt\u001b[0m\u001b[0;34m\u001b[0m\u001b[0;34m\u001b[0m\u001b[0m\n\u001b[0m\u001b[1;32m      5\u001b[0m \u001b[0;32mimport\u001b[0m \u001b[0mstring\u001b[0m\u001b[0;34m\u001b[0m\u001b[0;34m\u001b[0m\u001b[0m\n\u001b[1;32m      6\u001b[0m \u001b[0;32mimport\u001b[0m \u001b[0mseaborn\u001b[0m \u001b[0;32mas\u001b[0m \u001b[0msns\u001b[0m\u001b[0;34m\u001b[0m\u001b[0;34m\u001b[0m\u001b[0m\n",
      "\u001b[0;32m~/anaconda3/lib/python3.7/site-packages/matplotlib/pyplot.py\u001b[0m in \u001b[0;36m<module>\u001b[0;34m\u001b[0m\n\u001b[1;32m     30\u001b[0m \u001b[0;32mfrom\u001b[0m \u001b[0mcycler\u001b[0m \u001b[0;32mimport\u001b[0m \u001b[0mcycler\u001b[0m\u001b[0;34m\u001b[0m\u001b[0;34m\u001b[0m\u001b[0m\n\u001b[1;32m     31\u001b[0m \u001b[0;32mimport\u001b[0m \u001b[0mmatplotlib\u001b[0m\u001b[0;34m\u001b[0m\u001b[0;34m\u001b[0m\u001b[0m\n\u001b[0;32m---> 32\u001b[0;31m \u001b[0;32mimport\u001b[0m \u001b[0mmatplotlib\u001b[0m\u001b[0;34m.\u001b[0m\u001b[0mcolorbar\u001b[0m\u001b[0;34m\u001b[0m\u001b[0;34m\u001b[0m\u001b[0m\n\u001b[0m\u001b[1;32m     33\u001b[0m \u001b[0;32mimport\u001b[0m \u001b[0mmatplotlib\u001b[0m\u001b[0;34m.\u001b[0m\u001b[0mimage\u001b[0m\u001b[0;34m\u001b[0m\u001b[0;34m\u001b[0m\u001b[0m\n\u001b[1;32m     34\u001b[0m \u001b[0;32mfrom\u001b[0m \u001b[0mmatplotlib\u001b[0m \u001b[0;32mimport\u001b[0m \u001b[0mrcsetup\u001b[0m\u001b[0;34m,\u001b[0m \u001b[0mstyle\u001b[0m\u001b[0;34m\u001b[0m\u001b[0;34m\u001b[0m\u001b[0m\n",
      "\u001b[0;32m~/anaconda3/lib/python3.7/site-packages/matplotlib/colorbar.py\u001b[0m in \u001b[0;36m<module>\u001b[0;34m\u001b[0m\n\u001b[1;32m     29\u001b[0m \u001b[0;32mimport\u001b[0m \u001b[0mmatplotlib\u001b[0m\u001b[0;34m.\u001b[0m\u001b[0mcollections\u001b[0m \u001b[0;32mas\u001b[0m \u001b[0mcollections\u001b[0m\u001b[0;34m\u001b[0m\u001b[0;34m\u001b[0m\u001b[0m\n\u001b[1;32m     30\u001b[0m \u001b[0;32mimport\u001b[0m \u001b[0mmatplotlib\u001b[0m\u001b[0;34m.\u001b[0m\u001b[0mcolors\u001b[0m \u001b[0;32mas\u001b[0m \u001b[0mcolors\u001b[0m\u001b[0;34m\u001b[0m\u001b[0;34m\u001b[0m\u001b[0m\n\u001b[0;32m---> 31\u001b[0;31m \u001b[0;32mimport\u001b[0m \u001b[0mmatplotlib\u001b[0m\u001b[0;34m.\u001b[0m\u001b[0mcontour\u001b[0m \u001b[0;32mas\u001b[0m \u001b[0mcontour\u001b[0m\u001b[0;34m\u001b[0m\u001b[0;34m\u001b[0m\u001b[0m\n\u001b[0m\u001b[1;32m     32\u001b[0m \u001b[0;32mimport\u001b[0m \u001b[0mmatplotlib\u001b[0m\u001b[0;34m.\u001b[0m\u001b[0mcm\u001b[0m \u001b[0;32mas\u001b[0m \u001b[0mcm\u001b[0m\u001b[0;34m\u001b[0m\u001b[0;34m\u001b[0m\u001b[0m\n\u001b[1;32m     33\u001b[0m \u001b[0;32mimport\u001b[0m \u001b[0mmatplotlib\u001b[0m\u001b[0;34m.\u001b[0m\u001b[0mgridspec\u001b[0m \u001b[0;32mas\u001b[0m \u001b[0mgridspec\u001b[0m\u001b[0;34m\u001b[0m\u001b[0;34m\u001b[0m\u001b[0m\n",
      "\u001b[0;32m~/anaconda3/lib/python3.7/site-packages/matplotlib/contour.py\u001b[0m in \u001b[0;36m<module>\u001b[0;34m\u001b[0m\n\u001b[1;32m     15\u001b[0m \u001b[0;32mimport\u001b[0m \u001b[0mmatplotlib\u001b[0m\u001b[0;34m.\u001b[0m\u001b[0mcollections\u001b[0m \u001b[0;32mas\u001b[0m \u001b[0mmcoll\u001b[0m\u001b[0;34m\u001b[0m\u001b[0;34m\u001b[0m\u001b[0m\n\u001b[1;32m     16\u001b[0m \u001b[0;32mimport\u001b[0m \u001b[0mmatplotlib\u001b[0m\u001b[0;34m.\u001b[0m\u001b[0mfont_manager\u001b[0m \u001b[0;32mas\u001b[0m \u001b[0mfont_manager\u001b[0m\u001b[0;34m\u001b[0m\u001b[0;34m\u001b[0m\u001b[0m\n\u001b[0;32m---> 17\u001b[0;31m \u001b[0;32mimport\u001b[0m \u001b[0mmatplotlib\u001b[0m\u001b[0;34m.\u001b[0m\u001b[0mtext\u001b[0m \u001b[0;32mas\u001b[0m \u001b[0mtext\u001b[0m\u001b[0;34m\u001b[0m\u001b[0;34m\u001b[0m\u001b[0m\n\u001b[0m\u001b[1;32m     18\u001b[0m \u001b[0;32mimport\u001b[0m \u001b[0mmatplotlib\u001b[0m\u001b[0;34m.\u001b[0m\u001b[0mcbook\u001b[0m \u001b[0;32mas\u001b[0m \u001b[0mcbook\u001b[0m\u001b[0;34m\u001b[0m\u001b[0;34m\u001b[0m\u001b[0m\n\u001b[1;32m     19\u001b[0m \u001b[0;32mimport\u001b[0m \u001b[0mmatplotlib\u001b[0m\u001b[0;34m.\u001b[0m\u001b[0mmathtext\u001b[0m \u001b[0;32mas\u001b[0m \u001b[0mmathtext\u001b[0m\u001b[0;34m\u001b[0m\u001b[0;34m\u001b[0m\u001b[0m\n",
      "\u001b[0;32m~/anaconda3/lib/python3.7/site-packages/matplotlib/text.py\u001b[0m in \u001b[0;36m<module>\u001b[0;34m\u001b[0m\n\u001b[1;32m   1652\u001b[0m         \u001b[0mself\u001b[0m\u001b[0;34m.\u001b[0m\u001b[0mdashline\u001b[0m\u001b[0;34m.\u001b[0m\u001b[0mset_figure\u001b[0m\u001b[0;34m(\u001b[0m\u001b[0mfig\u001b[0m\u001b[0;34m)\u001b[0m\u001b[0;34m\u001b[0m\u001b[0;34m\u001b[0m\u001b[0m\n\u001b[1;32m   1653\u001b[0m \u001b[0;34m\u001b[0m\u001b[0m\n\u001b[0;32m-> 1654\u001b[0;31m \u001b[0mdocstring\u001b[0m\u001b[0;34m.\u001b[0m\u001b[0minterpd\u001b[0m\u001b[0;34m.\u001b[0m\u001b[0mupdate\u001b[0m\u001b[0;34m(\u001b[0m\u001b[0mTextWithDash\u001b[0m\u001b[0;34m=\u001b[0m\u001b[0martist\u001b[0m\u001b[0;34m.\u001b[0m\u001b[0mkwdoc\u001b[0m\u001b[0;34m(\u001b[0m\u001b[0mTextWithDash\u001b[0m\u001b[0;34m)\u001b[0m\u001b[0;34m)\u001b[0m\u001b[0;34m\u001b[0m\u001b[0;34m\u001b[0m\u001b[0m\n\u001b[0m\u001b[1;32m   1655\u001b[0m \u001b[0;34m\u001b[0m\u001b[0m\n\u001b[1;32m   1656\u001b[0m \u001b[0;34m\u001b[0m\u001b[0m\n",
      "\u001b[0;32m~/anaconda3/lib/python3.7/site-packages/matplotlib/artist.py\u001b[0m in \u001b[0;36mkwdoc\u001b[0;34m(artist)\u001b[0m\n\u001b[1;32m   1581\u001b[0m     \u001b[0;32melse\u001b[0m\u001b[0;34m:\u001b[0m\u001b[0;34m\u001b[0m\u001b[0;34m\u001b[0m\u001b[0m\n\u001b[1;32m   1582\u001b[0m         return '\\n'.join(ArtistInspector(artist).pprint_setters(\n\u001b[0;32m-> 1583\u001b[0;31m                          leadingspace=2))\n\u001b[0m\u001b[1;32m   1584\u001b[0m \u001b[0;34m\u001b[0m\u001b[0m\n\u001b[1;32m   1585\u001b[0m \u001b[0mdocstring\u001b[0m\u001b[0;34m.\u001b[0m\u001b[0minterpd\u001b[0m\u001b[0;34m.\u001b[0m\u001b[0mupdate\u001b[0m\u001b[0;34m(\u001b[0m\u001b[0mArtist\u001b[0m\u001b[0;34m=\u001b[0m\u001b[0mkwdoc\u001b[0m\u001b[0;34m(\u001b[0m\u001b[0mArtist\u001b[0m\u001b[0;34m)\u001b[0m\u001b[0;34m)\u001b[0m\u001b[0;34m\u001b[0m\u001b[0;34m\u001b[0m\u001b[0m\n",
      "\u001b[0;32m~/anaconda3/lib/python3.7/site-packages/matplotlib/artist.py\u001b[0m in \u001b[0;36mpprint_setters\u001b[0;34m(self, prop, leadingspace)\u001b[0m\n\u001b[1;32m   1347\u001b[0m             \u001b[0;32mreturn\u001b[0m \u001b[0;34m'%s%s: %s'\u001b[0m \u001b[0;34m%\u001b[0m \u001b[0;34m(\u001b[0m\u001b[0mpad\u001b[0m\u001b[0;34m,\u001b[0m \u001b[0mprop\u001b[0m\u001b[0;34m,\u001b[0m \u001b[0maccepts\u001b[0m\u001b[0;34m)\u001b[0m\u001b[0;34m\u001b[0m\u001b[0;34m\u001b[0m\u001b[0m\n\u001b[1;32m   1348\u001b[0m \u001b[0;34m\u001b[0m\u001b[0m\n\u001b[0;32m-> 1349\u001b[0;31m         \u001b[0mattrs\u001b[0m \u001b[0;34m=\u001b[0m \u001b[0mself\u001b[0m\u001b[0;34m.\u001b[0m\u001b[0m_get_setters_and_targets\u001b[0m\u001b[0;34m(\u001b[0m\u001b[0;34m)\u001b[0m\u001b[0;34m\u001b[0m\u001b[0;34m\u001b[0m\u001b[0m\n\u001b[0m\u001b[1;32m   1350\u001b[0m         \u001b[0mattrs\u001b[0m\u001b[0;34m.\u001b[0m\u001b[0msort\u001b[0m\u001b[0;34m(\u001b[0m\u001b[0;34m)\u001b[0m\u001b[0;34m\u001b[0m\u001b[0;34m\u001b[0m\u001b[0m\n\u001b[1;32m   1351\u001b[0m         \u001b[0mlines\u001b[0m \u001b[0;34m=\u001b[0m \u001b[0;34m[\u001b[0m\u001b[0;34m]\u001b[0m\u001b[0;34m\u001b[0m\u001b[0;34m\u001b[0m\u001b[0m\n",
      "\u001b[0;32m~/anaconda3/lib/python3.7/site-packages/matplotlib/artist.py\u001b[0m in \u001b[0;36m_get_setters_and_targets\u001b[0;34m(self)\u001b[0m\n\u001b[1;32m   1271\u001b[0m                 \u001b[0;32mcontinue\u001b[0m\u001b[0;34m\u001b[0m\u001b[0;34m\u001b[0m\u001b[0m\n\u001b[1;32m   1272\u001b[0m             \u001b[0mnargs\u001b[0m \u001b[0;34m=\u001b[0m \u001b[0mlen\u001b[0m\u001b[0;34m(\u001b[0m\u001b[0minspect\u001b[0m\u001b[0;34m.\u001b[0m\u001b[0mgetfullargspec\u001b[0m\u001b[0;34m(\u001b[0m\u001b[0mfunc\u001b[0m\u001b[0;34m)\u001b[0m\u001b[0;34m.\u001b[0m\u001b[0margs\u001b[0m\u001b[0;34m)\u001b[0m\u001b[0;34m\u001b[0m\u001b[0;34m\u001b[0m\u001b[0m\n\u001b[0;32m-> 1273\u001b[0;31m             \u001b[0;32mif\u001b[0m \u001b[0mnargs\u001b[0m \u001b[0;34m<\u001b[0m \u001b[0;36m2\u001b[0m \u001b[0;32mor\u001b[0m \u001b[0mself\u001b[0m\u001b[0;34m.\u001b[0m\u001b[0mis_alias\u001b[0m\u001b[0;34m(\u001b[0m\u001b[0mfunc\u001b[0m\u001b[0;34m)\u001b[0m\u001b[0;34m:\u001b[0m\u001b[0;34m\u001b[0m\u001b[0;34m\u001b[0m\u001b[0m\n\u001b[0m\u001b[1;32m   1274\u001b[0m                 \u001b[0;32mcontinue\u001b[0m\u001b[0;34m\u001b[0m\u001b[0;34m\u001b[0m\u001b[0m\n\u001b[1;32m   1275\u001b[0m             \u001b[0msource_class\u001b[0m \u001b[0;34m=\u001b[0m \u001b[0mself\u001b[0m\u001b[0;34m.\u001b[0m\u001b[0mo\u001b[0m\u001b[0;34m.\u001b[0m\u001b[0m__module__\u001b[0m \u001b[0;34m+\u001b[0m \u001b[0;34m\".\"\u001b[0m \u001b[0;34m+\u001b[0m \u001b[0mself\u001b[0m\u001b[0;34m.\u001b[0m\u001b[0mo\u001b[0m\u001b[0;34m.\u001b[0m\u001b[0m__name__\u001b[0m\u001b[0;34m\u001b[0m\u001b[0;34m\u001b[0m\u001b[0m\n",
      "\u001b[0;32m~/anaconda3/lib/python3.7/site-packages/matplotlib/artist.py\u001b[0m in \u001b[0;36mis_alias\u001b[0;34m(self, o)\u001b[0m\n\u001b[1;32m   1302\u001b[0m     \u001b[0;32mdef\u001b[0m \u001b[0mis_alias\u001b[0m\u001b[0;34m(\u001b[0m\u001b[0mself\u001b[0m\u001b[0;34m,\u001b[0m \u001b[0mo\u001b[0m\u001b[0;34m)\u001b[0m\u001b[0;34m:\u001b[0m\u001b[0;34m\u001b[0m\u001b[0;34m\u001b[0m\u001b[0m\n\u001b[1;32m   1303\u001b[0m         \u001b[0;34m\"\"\"Return whether method object *o* is an alias for another method.\"\"\"\u001b[0m\u001b[0;34m\u001b[0m\u001b[0;34m\u001b[0m\u001b[0m\n\u001b[0;32m-> 1304\u001b[0;31m         \u001b[0mds\u001b[0m \u001b[0;34m=\u001b[0m \u001b[0minspect\u001b[0m\u001b[0;34m.\u001b[0m\u001b[0mgetdoc\u001b[0m\u001b[0;34m(\u001b[0m\u001b[0mo\u001b[0m\u001b[0;34m)\u001b[0m\u001b[0;34m\u001b[0m\u001b[0;34m\u001b[0m\u001b[0m\n\u001b[0m\u001b[1;32m   1305\u001b[0m         \u001b[0;32mif\u001b[0m \u001b[0mds\u001b[0m \u001b[0;32mis\u001b[0m \u001b[0;32mNone\u001b[0m\u001b[0;34m:\u001b[0m\u001b[0;34m\u001b[0m\u001b[0;34m\u001b[0m\u001b[0m\n\u001b[1;32m   1306\u001b[0m             \u001b[0;32mreturn\u001b[0m \u001b[0;32mFalse\u001b[0m\u001b[0;34m\u001b[0m\u001b[0;34m\u001b[0m\u001b[0m\n",
      "\u001b[0;32m~/anaconda3/lib/python3.7/inspect.py\u001b[0m in \u001b[0;36mgetdoc\u001b[0;34m(object)\u001b[0m\n\u001b[1;32m    609\u001b[0m     \u001b[0;32mif\u001b[0m \u001b[0;32mnot\u001b[0m \u001b[0misinstance\u001b[0m\u001b[0;34m(\u001b[0m\u001b[0mdoc\u001b[0m\u001b[0;34m,\u001b[0m \u001b[0mstr\u001b[0m\u001b[0;34m)\u001b[0m\u001b[0;34m:\u001b[0m\u001b[0;34m\u001b[0m\u001b[0;34m\u001b[0m\u001b[0m\n\u001b[1;32m    610\u001b[0m         \u001b[0;32mreturn\u001b[0m \u001b[0;32mNone\u001b[0m\u001b[0;34m\u001b[0m\u001b[0;34m\u001b[0m\u001b[0m\n\u001b[0;32m--> 611\u001b[0;31m     \u001b[0;32mreturn\u001b[0m \u001b[0mcleandoc\u001b[0m\u001b[0;34m(\u001b[0m\u001b[0mdoc\u001b[0m\u001b[0;34m)\u001b[0m\u001b[0;34m\u001b[0m\u001b[0;34m\u001b[0m\u001b[0m\n\u001b[0m\u001b[1;32m    612\u001b[0m \u001b[0;34m\u001b[0m\u001b[0m\n\u001b[1;32m    613\u001b[0m \u001b[0;32mdef\u001b[0m \u001b[0mcleandoc\u001b[0m\u001b[0;34m(\u001b[0m\u001b[0mdoc\u001b[0m\u001b[0;34m)\u001b[0m\u001b[0;34m:\u001b[0m\u001b[0;34m\u001b[0m\u001b[0;34m\u001b[0m\u001b[0m\n",
      "\u001b[0;32m~/anaconda3/lib/python3.7/inspect.py\u001b[0m in \u001b[0;36mcleandoc\u001b[0;34m(doc)\u001b[0m\n\u001b[1;32m    632\u001b[0m             \u001b[0mlines\u001b[0m\u001b[0;34m[\u001b[0m\u001b[0;36m0\u001b[0m\u001b[0;34m]\u001b[0m \u001b[0;34m=\u001b[0m \u001b[0mlines\u001b[0m\u001b[0;34m[\u001b[0m\u001b[0;36m0\u001b[0m\u001b[0;34m]\u001b[0m\u001b[0;34m.\u001b[0m\u001b[0mlstrip\u001b[0m\u001b[0;34m(\u001b[0m\u001b[0;34m)\u001b[0m\u001b[0;34m\u001b[0m\u001b[0;34m\u001b[0m\u001b[0m\n\u001b[1;32m    633\u001b[0m         \u001b[0;32mif\u001b[0m \u001b[0mmargin\u001b[0m \u001b[0;34m<\u001b[0m \u001b[0msys\u001b[0m\u001b[0;34m.\u001b[0m\u001b[0mmaxsize\u001b[0m\u001b[0;34m:\u001b[0m\u001b[0;34m\u001b[0m\u001b[0;34m\u001b[0m\u001b[0m\n\u001b[0;32m--> 634\u001b[0;31m             \u001b[0;32mfor\u001b[0m \u001b[0mi\u001b[0m \u001b[0;32min\u001b[0m \u001b[0mrange\u001b[0m\u001b[0;34m(\u001b[0m\u001b[0;36m1\u001b[0m\u001b[0;34m,\u001b[0m \u001b[0mlen\u001b[0m\u001b[0;34m(\u001b[0m\u001b[0mlines\u001b[0m\u001b[0;34m)\u001b[0m\u001b[0;34m)\u001b[0m\u001b[0;34m:\u001b[0m \u001b[0mlines\u001b[0m\u001b[0;34m[\u001b[0m\u001b[0mi\u001b[0m\u001b[0;34m]\u001b[0m \u001b[0;34m=\u001b[0m \u001b[0mlines\u001b[0m\u001b[0;34m[\u001b[0m\u001b[0mi\u001b[0m\u001b[0;34m]\u001b[0m\u001b[0;34m[\u001b[0m\u001b[0mmargin\u001b[0m\u001b[0;34m:\u001b[0m\u001b[0;34m]\u001b[0m\u001b[0;34m\u001b[0m\u001b[0;34m\u001b[0m\u001b[0m\n\u001b[0m\u001b[1;32m    635\u001b[0m         \u001b[0;31m# Remove any trailing or leading blank lines.\u001b[0m\u001b[0;34m\u001b[0m\u001b[0;34m\u001b[0m\u001b[0;34m\u001b[0m\u001b[0m\n\u001b[1;32m    636\u001b[0m         \u001b[0;32mwhile\u001b[0m \u001b[0mlines\u001b[0m \u001b[0;32mand\u001b[0m \u001b[0;32mnot\u001b[0m \u001b[0mlines\u001b[0m\u001b[0;34m[\u001b[0m\u001b[0;34m-\u001b[0m\u001b[0;36m1\u001b[0m\u001b[0;34m]\u001b[0m\u001b[0;34m:\u001b[0m\u001b[0;34m\u001b[0m\u001b[0;34m\u001b[0m\u001b[0m\n",
      "\u001b[0;31mKeyboardInterrupt\u001b[0m: "
     ]
    }
   ],
   "source": [
    "# Import packages\n",
    "import pandas as pd\n",
    "import numpy as np\n",
    "import matplotlib.pyplot as plt\n",
    "import string\n",
    "import seaborn as sns\n",
    "get_ipython().run_line_magic('matplotlib', 'inline')\n",
>>>>>>> fourth-feature
    "\n",
    "# Turn off scientific notation in Pandas\n",
    "pd.set_option('display.float_format', lambda x: '%.2f' % x)\n",
    "\n",
    "# Import data\n",
<<<<<<< HEAD
    "tn_budget = pd.read_csv('Data/Zipped_Data/tn.movie_budgets.csv.gz',\n",
    "                        compression='gzip')\n",
    "bom_gross = pd.read_csv('Data/Zipped_Data/bom.movie_gross.csv.gz',\n",
    "                        compression='gzip')\n",
    "imbd_basics = pd.read_csv('Data/Zipped_Data/imdb.title.basics.csv.gz',\n",
    "                          compression='gzip')\n",
    "imbd_name = pd.read_csv('Data/Zipped_Data/imdb.name.basics.csv.gz',\n",
    "                        compression='gzip')\n",
    "imbd_principals = pd.read_csv('Data/Zipped_Data/imdb.title.principals.csv.gz',\n",
=======
    "tn_budget = pd.read_csv('Data/Zipped_Data/tn.movie_budgets.csv.gz',\\\n",
    "                        compression='gzip')\n",
    "bom_gross = pd.read_csv('Data/Zipped_Data/bom.movie_gross.csv.gz',\\\n",
    "                        compression='gzip')\n",
    "imbd_basics = pd.read_csv('Data/Zipped_Data/imdb.title.basics.csv.gz',\\\n",
    "                          compression='gzip')\n",
    "imbd_name = pd.read_csv('Data/Zipped_Data/imdb.name.basics.csv.gz',\\\n",
    "                        compression='gzip')\n",
    "imbd_principals = pd.read_csv('Data/Zipped_Data/imdb.title.principals.csv.gz',\\\n",
>>>>>>> fourth-feature
    "                              compression='gzip')"
   ]
  },
  {
   "cell_type": "code",
<<<<<<< HEAD
   "execution_count": 86,
   "metadata": {},
   "outputs": [],
   "source": [
    "# Remove punctuation from producton and worldwide.\n",
    "# Switch variables from string to float.\n",
    "tn_budget['production_budget'] = tn_budget['production_budget'].\\\n",
    " apply(lambda x: x.translate(str.maketrans\n",
    "                             ('', '', '!\"#$%&\\'()*+,-./:;<=>?@[\\\\]^_`{|}~')))\n",
    "tn_budget['worldwide_gross'] = tn_budget['worldwide_gross'].\\\n",
    " apply(lambda x: x.translate(str.maketrans\n",
    "                             ('', '', '!\"#$%&\\'()*+,-./:;<=>?@[\\\\]^_`{|}~')))\n",
    "tn_budget['production_budget'] = pd.to_numeric(tn_budget.production_budget,\n",
    "                                               downcast='float',\n",
    "                                               errors='coerce')\n",
=======
   "execution_count": null,
   "metadata": {},
   "outputs": [],
   "source": [
    "# Remove punctuation from production and worldwide.\n",
    "# Switch variables from string to float.\n",
    "tn_budget['production_budget'] = tn_budget['production_budget']\\\n",
    ".apply(lambda x: x.translate(str.maketrans\n",
    "                             ('', '', '!\"#$%&\\'()*+,-./:;<=>?@[\\\\]^_`{|}~')))\n",
    "tn_budget['worldwide_gross'] = tn_budget['worldwide_gross'].\\\n",
    "apply(lambda x: x.translate(str.maketrans\\\n",
    "                             ('', '', '!\"#$%&\\'()*+,-./:;<=>?@[\\\\]^_`{|}~')))\n",
    "tn_budget['production_budget'] = pd.to_numeric(tn_budget.production_budget,\n",
    "                                               downcast='float', errors='coerce')\n",
>>>>>>> fourth-feature
    "tn_budget['worldwide_gross'] = pd.to_numeric(tn_budget.worldwide_gross,\n",
    "                                             downcast='float',\n",
    "                                             errors='coerce')"
   ]
  },
  {
   "cell_type": "code",
<<<<<<< HEAD
   "execution_count": 87,
=======
   "execution_count": null,
>>>>>>> fourth-feature
   "metadata": {},
   "outputs": [],
   "source": [
    "# Create column for net profit (worldwide gross minus production budget).\n",
    "tn_budget['net'] = list(tn_budget.apply(lambda x:\n",
    "                                        x.worldwide_gross\n",
    "                                        - x.production_budget,\n",
    "                                        axis=1))\n",
    "\n",
    "# Create column for ratio (net profit divided by production budget)\n",
    "tn_budget['ratio'] = list(tn_budget.apply\n",
    "                          (lambda x: x.net / x.production_budget, axis=1))\n",
    "\n",
    "# Rename column 'movie' to 'title'\n",
    "tn_budget = tn_budget.rename(columns={'movie': 'title'})\n",
    "\n",
    "# Remove whitespace, potential extra words, punctuation, and case from titles\n",
<<<<<<< HEAD
    "years = [r'\\(2010\\)', r\"\\(2011\\)\",\n",
    "         r\"\\(2012\\)\", r\"\\(2013\\)\", r\"\\(2014\\)\",\n",
    "         r\"\\(2015\\)\", r\"\\(2016\\)\", r\"\\(2017\\)\", r\"\\(2018\\)\"]\n",
=======
    "years = ['\\(2010\\)', \"\\(2011\\)\",\n",
    "         \"\\(2012\\)\", \"\\(2013\\)\", \"\\(2014\\)\",\n",
    "         \"\\(2015\\)\", \"\\(2016\\)\", \"\\(2017\\)\", \"\\(2018\\)\"]\n",
>>>>>>> fourth-feature
    "tn_budget.title = tn_budget.title.replace(years, value='', regex=True)\n",
    "tn_budget.title = tn_budget.title.str.strip()\n",
    "tn_budget.title = tn_budget.title.apply(lambda x: x.lower())\n",
    "tn_budget.title = tn_budget.title.\\\n",
    "apply(lambda x: x.translate(str.maketrans\n",
    "                             ('', '', '!\"#$%&\\'()*+,-./:;<=>?@[\\\\]^_`{|}~')))\n",
    "tn_budget.title = tn_budget.title.replace(['the', 'and'], value='', regex=True)\n",
    "\n",
<<<<<<< HEAD
    "# Remove month and year from date. Drop redundant columns\n",
=======
    "# Remove month and year from date.Drop redundant columns\n",
>>>>>>> fourth-feature
    "tn_budget['year'] = list(tn_budget['release_date'].str[-4:])\n",
    "tn_budget = tn_budget.drop(columns=['id', 'domestic_gross', 'release_date'])"
   ]
  },
  {
   "cell_type": "code",
<<<<<<< HEAD
   "execution_count": 88,
=======
   "execution_count": null,
>>>>>>> fourth-feature
   "metadata": {},
   "outputs": [],
   "source": [
    "# Remove 'studio', 'domestic_gross', 'foreign_gross' column.\n",
<<<<<<< HEAD
    "# Set 'foreign_gross' to float and 'year' to string\n",
=======
    "# Set 'year' to string\n",
>>>>>>> fourth-feature
    "bom_gross = bom_gross.drop(columns=['domestic_gross', 'foreign_gross'])\n",
    "bom_gross['year'] = bom_gross['year'].astype(str)\n",
    "\n",
    "# Remove years and right whitespace from titles.\n",
    "# Remove potentially extraneous words.\n",
<<<<<<< HEAD
    "years = [r'\\(2010\\)', r\"\\(2011\\)\",\n",
    "         r\"\\(2012\\)\", r\"\\(2013\\)\", r\"\\(2014\\)\",\n",
    "         r\"\\(2015\\)\", r\"\\(2016\\)\", r\"\\(2017\\)\", r\"\\(2018\\)\"]\n",
=======
    "years = ['\\(2010\\)', \"\\(2011\\)\",\n",
    "         \"\\(2012\\)\", \"\\(2013\\)\", \"\\(2014\\)\",\n",
    "         \"\\(2015\\)\", \"\\(2016\\)\", \"\\(2017\\)\", \"\\(2018\\)\"]\n",
>>>>>>> fourth-feature
    "bom_gross.title = bom_gross.title.replace(years, value='', regex=True)\n",
    "bom_gross.title = bom_gross.title.str.strip()\n",
    "bom_gross.title = bom_gross.title.apply(lambda x: x.lower())\n",
    "bom_gross.title = bom_gross.title.\\\n",
    "apply(lambda x: x.translate(str.maketrans\n",
    "                             ('', '', '!\"#$%&\\'()*+,-./:;<=>?@[\\\\]^_`{|}~')))\n",
    "bom_gross.title = bom_gross.title.replace(['the', 'and'], value='', regex=True)"
   ]
  },
  {
   "cell_type": "code",
<<<<<<< HEAD
   "execution_count": 89,
=======
   "execution_count": null,
>>>>>>> fourth-feature
   "metadata": {},
   "outputs": [],
   "source": [
    "# Merge tn_budget and bom_gross\n",
    "merged_df = pd.merge(tn_budget, bom_gross, on=[\"title\", \"year\"], how=\"left\")\n",
    "\n",
    "# Replace null studio values\n",
    "merged_df['studio'] = merged_df.studio.fillna('Unknown')"
   ]
  },
  {
   "cell_type": "code",
<<<<<<< HEAD
   "execution_count": 90,
=======
   "execution_count": null,
>>>>>>> fourth-feature
   "metadata": {},
   "outputs": [],
   "source": [
    "# Create 'year' string column from 'start_year'\n",
    "imbd_basics['year'] = imbd_basics['start_year'].astype(str)\n",
    "\n",
    "# Drop unused columns\n",
    "imbd_basics = imbd_basics.drop(columns=['original_title', 'start_year'])\n",
    "\n",
    "# Rename column for easier merging\n",
    "imbd_basics = imbd_basics.rename(columns={'primary_title': 'title'})\n",
    "\n",
    "# Remove years and right whitespace from titles.\n",
    "# Remove potentially extraneous words.\n",
<<<<<<< HEAD
    "years = [r'\\(2010\\)', r\"\\(2011\\)\",\n",
    "         r\"\\(2012\\)\", r\"\\(2013\\)\", r\"\\(2014\\)\",\n",
    "         r\"\\(2015\\)\", r\"\\(2016\\)\", r\"\\(2017\\)\", r\"\\(2018\\)\"]\n",
=======
    "years = ['\\(2010\\)', \"\\(2011\\)\",\n",
    "         \"\\(2012\\)\", \"\\(2013\\)\", \"\\(2014\\)\",\n",
    "         \"\\(2015\\)\", \"\\(2016\\)\", \"\\(2017\\)\", \"\\(2018\\)\"]\n",
>>>>>>> fourth-feature
    "imbd_basics.title = imbd_basics.title.replace(years, value='', regex=True)\n",
    "imbd_basics.title = imbd_basics.title.str.strip()\n",
    "imbd_basics.title = imbd_basics.title.apply(lambda x: x.lower())\n",
    "imbd_basics.title = imbd_basics.title.\\\n",
    "apply(lambda x: x.translate(str.maketrans\n",
    "                             ('', '', '!\"#$%&\\'()*+,-./:;<=>?@[\\\\]^_`{|}~')))\n",
    "imbd_basics.title = imbd_basics.title.replace(['the', 'and'],\n",
    "                                              value='',\n",
    "                                              regex=True)"
   ]
  },
  {
   "cell_type": "code",
<<<<<<< HEAD
   "execution_count": 91,
=======
   "execution_count": null,
>>>>>>> fourth-feature
   "metadata": {},
   "outputs": [],
   "source": [
    "# Merge imbd_basics with merged datafile\n",
<<<<<<< HEAD
    "merged_df2 = pd.merge(merged_df, imbd_basics, on=[\"title\", \"year\"], how=\"left\")\n",
=======
    "merged_df2 = pd.merge\\\n",
    "(merged_df, imbd_basics, on=[\"title\", \"year\"], how=\"left\")\n",
>>>>>>> fourth-feature
    "\n",
    "# Change year to integer, and remove all films made\n",
    "# before 2010. Turn year back to string.\n",
    "merged_df2['year'] = merged_df2['year'].astype(int)\n",
    "merged_df2 = merged_df2.loc[merged_df2.year >= 2010]\n",
    "merged_df2['year'] = merged_df2['year'].astype(str)"
   ]
  },
  {
   "cell_type": "code",
<<<<<<< HEAD
   "execution_count": 92,
=======
   "execution_count": null,
>>>>>>> fourth-feature
   "metadata": {},
   "outputs": [],
   "source": [
    "# Merge imbd_principals and imbd_name\n",
    "imbd_name_prin = pd.merge(imbd_principals, imbd_name,\n",
    "                          on=[\"nconst\"], how=\"left\")\n",
    "\n",
    "# Remove extraneous columns\n",
    "imbd_name_prin = imbd_name_prin.drop(columns=['ordering',\n",
    "                                              'nconst', 'job',\n",
    "                                              'characters', 'birth_year',\n",
    "                                              'death_year',\n",
    "                                              'primary_profession',\n",
    "                                              'known_for_titles'])"
   ]
  },
  {
   "cell_type": "code",
<<<<<<< HEAD
   "execution_count": 93,
=======
   "execution_count": null,
>>>>>>> fourth-feature
   "metadata": {},
   "outputs": [],
   "source": [
    "# Create list of directors from imbd_name_prin\n",
    "directors = imbd_name_prin.loc[imbd_name_prin.category == 'director']"
   ]
  },
  {
   "cell_type": "code",
<<<<<<< HEAD
   "execution_count": 94,
=======
   "execution_count": null,
>>>>>>> fourth-feature
   "metadata": {},
   "outputs": [],
   "source": [
    "# Merge list of directors with merged document\n",
    "merged_df3 = pd.merge(merged_df2, directors, on=[\"tconst\"], how=\"left\")\n",
    "\n",
    "# Remove extra columns, rename primary_name to director\n",
    "merged_df3 = merged_df3.drop(columns=['category', 'runtime_minutes'])\n",
    "merged_df3 = merged_df3.rename(columns={'primary_name': 'director'})\n",
    "\n",
    "# Fill in null values for director\n",
    "merged_df3['director'] = merged_df3.director.fillna('Not listed')"
   ]
  },
  {
   "cell_type": "code",
<<<<<<< HEAD
   "execution_count": 95,
=======
   "execution_count": null,
>>>>>>> fourth-feature
   "metadata": {},
   "outputs": [],
   "source": [
    "# Create list of producers from imbd_name_prin\n",
    "producers = imbd_name_prin.loc[imbd_name_prin.category == 'producer']\n",
    "\n",
    "# Rename column primary_name to producer\n",
    "producers = producers.rename(columns={'primary_name': 'producer'})\n",
    "\n",
    "# Drop column 'category'\n",
    "producers = producers.drop(columns='category')"
   ]
  },
  {
   "cell_type": "code",
<<<<<<< HEAD
   "execution_count": 96,
=======
   "execution_count": null,
>>>>>>> fourth-feature
   "metadata": {},
   "outputs": [],
   "source": [
    "# Merge list of producers with merged document\n",
    "merged_df4 = pd.merge(merged_df3, producers, on=[\"tconst\"], how=\"left\")\n",
    "\n",
    "# Fill null producer values\n",
    "merged_df4['producer'] = merged_df4.producer.fillna('Not listed')\n",
    "\n",
    "# Remove duplicate titles\n",
    "merged_df_cleaned = merged_df4.loc[~(merged_df4.title.duplicated())]\n",
    "\n",
    "# Drop extra column\n",
    "merged_df_cleaned = merged_df_cleaned.drop(columns='tconst')"
   ]
  },
  {
   "cell_type": "code",
<<<<<<< HEAD
   "execution_count": 97,
   "metadata": {},
   "outputs": [
    {
     "data": {
      "image/png": "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\n",
      "text/plain": [
       "<Figure size 1440x720 with 1 Axes>"
      ]
     },
     "metadata": {
      "needs_background": "light"
     },
     "output_type": "display_data"
    }
   ],
=======
   "execution_count": null,
   "metadata": {
    "scrolled": true
   },
   "outputs": [],
>>>>>>> fourth-feature
   "source": [
    "# Create earnings/cost graph for films with top ROI\n",
    "top_net = merged_df_cleaned.sort_values(by=['net'], ascending=False)[:10]\n",
    "\n",
    "index = list(top_net['title'])\n",
    "production_budget = list(top_net['production_budget'])\n",
    "worldwide_gross = list(top_net['worldwide_gross'])\n",
    "df = pd.DataFrame({'Production Budget USD (Billion)':\n",
    "                   production_budget,\n",
    "                   'Worldwide Gross USD (Billion)':\n",
    "                   worldwide_gross}, index=index)\n",
    "ax = df.plot.barh(figsize=(20, 10), rot=0)"
   ]
  },
  {
   "cell_type": "code",
<<<<<<< HEAD
   "execution_count": 98,
   "metadata": {},
   "outputs": [
    {
     "data": {
      "image/png": "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\n",
      "text/plain": [
       "<Figure size 1440x720 with 1 Axes>"
      ]
     },
     "metadata": {
      "needs_background": "light"
     },
     "output_type": "display_data"
    }
   ],
=======
   "execution_count": null,
   "metadata": {
    "scrolled": true
   },
   "outputs": [],
>>>>>>> fourth-feature
   "source": [
    "# Create earnings/cost graph for films with top ROI\n",
    "top_ratio = merged_df_cleaned.sort_values(by=['ratio'], ascending=False)[:10]\n",
    "\n",
    "index = list(top_ratio['title'])\n",
    "production_budget = list(top_ratio['production_budget'])\n",
    "worldwide_gross = list(top_ratio['worldwide_gross'])\n",
    "df = pd.DataFrame({'Production Budget USD (Million)': production_budget,\n",
    "                   'Worldwide Gross USD (Million)': worldwide_gross},\n",
    "                  index=index)\n",
    "ax = df.plot.barh(figsize=(20, 10), rot=0)"
   ]
  },
  {
   "cell_type": "code",
<<<<<<< HEAD
   "execution_count": 99,
=======
   "execution_count": null,
>>>>>>> fourth-feature
   "metadata": {},
   "outputs": [],
   "source": [
    "# Create a list of 20 studios with the top ratio means\n",
    "studio_ratio_mean = (merged_df_cleaned.groupby\n",
    "                     (['studio']).ratio.mean().\n",
    "                     sort_values(ascending=False)[:20])\n",
    "\n",
    "# Create a list of 20 directors with the top ratio means\n",
    "director_ratio_mean = (merged_df_cleaned.groupby\n",
    "                       (['director']).ratio.mean().\n",
    "                       sort_values(ascending=False)[0:20])\n",
    "\n",
    "\n",
    "# Create a list of 19 directors with the top ROI means,\n",
    "# with top value removed\n",
    "director_ratio_mean_19 = (merged_df_cleaned.groupby\n",
    "                          (['director']).ratio.mean().\n",
    "                          sort_values(ascending=False)[1:20])\n",
    "\n",
    "# Create a list of 20 producers with the top ROI means\n",
    "producer_ratio_mean = (merged_df_cleaned.groupby\n",
    "                       (['producer']).ratio.mean()\n",
    "                       .sort_values(ascending=False)[:20])\n",
    "\n",
    "# Provides a count for the number of films made by\n",
    "# each director with a top-20 ROI\n",
    "director_ROI_count = (merged_df_cleaned.groupby\n",
    "                      ('director')['ratio', 'title'].agg\n",
    "                      ({'ratio': 'mean', 'title': 'nunique'})\n",
    "                      .sort_values\n",
    "                      (by='ratio', ascending=False))[0:20].reset_index()"
   ]
  },
  {
   "cell_type": "code",
<<<<<<< HEAD
   "execution_count": 100,
   "metadata": {},
   "outputs": [
    {
     "data": {
      "text/plain": [
       "<matplotlib.axes._subplots.AxesSubplot at 0x23b613a14a8>"
      ]
     },
     "execution_count": 100,
     "metadata": {},
     "output_type": "execute_result"
    },
    {
     "data": {
      "image/png": "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\n",
      "text/plain": [
       "<Figure size 1440x720 with 1 Axes>"
      ]
     },
     "metadata": {
      "needs_background": "light"
     },
     "output_type": "display_data"
    }
   ],
=======
   "execution_count": null,
   "metadata": {},
   "outputs": [],
>>>>>>> fourth-feature
   "source": [
    "# Creates a graph of the 2-20 directors with the best ROI\n",
    "director_ratio_mean_19.plot(kind='barh')"
   ]
  },
  {
   "cell_type": "code",
<<<<<<< HEAD
   "execution_count": 101,
   "metadata": {},
   "outputs": [
    {
     "data": {
      "image/png": "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\n",
      "text/plain": [
       "<Figure size 1440x720 with 1 Axes>"
      ]
     },
     "metadata": {
      "needs_background": "light"
     },
     "output_type": "display_data"
    }
   ],
=======
   "execution_count": null,
   "metadata": {},
   "outputs": [],
>>>>>>> fourth-feature
   "source": [
    "# Make a barplot - top 20 directors by ROI - Count\n",
    "top_20_directors_ROI_count = (merged_df_cleaned.groupby\n",
    "                              ('director')['ratio', 'title']\n",
    "                              .agg({'ratio':\n",
    "                                    'mean', 'title': 'nunique'})\n",
    "                              .sort_values\n",
    "                              (by='ratio',\n",
    "                               ascending=False))[0:20].reset_index()\n",
    "ax = sns.barplot(x=top_20_directors_ROI_count['title'],\n",
    "                 y=top_20_directors_ROI_count['director'])\n",
    "ax.set_xticklabels(ax.get_xticklabels(), rotation=45, ha=\"right\")\n",
    "plt.rcParams[\"figure.figsize\"] = (20, 10)\n",
    "plt.rcParams[\"xtick.labelsize\"] = 20\n",
    "plt.rcParams[\"ytick.labelsize\"] = 1\n",
    "plt.tight_layout()\n",
    "plt.show()"
   ]
  },
  {
   "cell_type": "code",
   "execution_count": null,
   "metadata": {},
   "outputs": [],
   "source": []
  }
 ],
 "metadata": {
  "kernelspec": {
   "display_name": "Python 3",
   "language": "python",
   "name": "python3"
  },
  "language_info": {
   "codemirror_mode": {
    "name": "ipython",
    "version": 3
   },
   "file_extension": ".py",
   "mimetype": "text/x-python",
   "name": "python",
   "nbconvert_exporter": "python",
   "pygments_lexer": "ipython3",
   "version": "3.7.3"
  }
 },
 "nbformat": 4,
 "nbformat_minor": 2
}

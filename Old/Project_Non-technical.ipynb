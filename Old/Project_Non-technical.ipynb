{
 "cells": [
  {
   "cell_type": "markdown",
   "metadata": {},
   "source": [
    "# \"Microsoft Studios:\"\n",
    "### _How should Microsoft Enter the Movie Business?_\n",
    "##### __G. Haws & K. Hayes__\n",
    "July 31, 2019\n",
    "***\n",
    ">*Sources:\n",
    "TheMovieDB.org\n",
    "Box Office Mojo\n",
    "IMBD*"
   ]
  },
  {
   "cell_type": "code",
   "execution_count": 1,
   "metadata": {},
   "outputs": [
    {
     "ename": "ModuleNotFoundError",
     "evalue": "No module named 'Microsoft_Cleanup'",
     "output_type": "error",
     "traceback": [
      "\u001b[0;31m---------------------------------------------------------------------------\u001b[0m",
      "\u001b[0;31mModuleNotFoundError\u001b[0m                       Traceback (most recent call last)",
      "\u001b[0;32m<ipython-input-1-b96e248baadf>\u001b[0m in \u001b[0;36m<module>\u001b[0;34m\u001b[0m\n\u001b[1;32m      5\u001b[0m \u001b[0;32mimport\u001b[0m \u001b[0mstring\u001b[0m\u001b[0;34m\u001b[0m\u001b[0;34m\u001b[0m\u001b[0m\n\u001b[1;32m      6\u001b[0m \u001b[0;32mimport\u001b[0m \u001b[0mseaborn\u001b[0m \u001b[0;32mas\u001b[0m \u001b[0msns\u001b[0m\u001b[0;34m\u001b[0m\u001b[0;34m\u001b[0m\u001b[0m\n\u001b[0;32m----> 7\u001b[0;31m \u001b[0;32mfrom\u001b[0m \u001b[0mMicrosoft_Cleanup\u001b[0m \u001b[0;32mimport\u001b[0m \u001b[0;34m*\u001b[0m\u001b[0;34m\u001b[0m\u001b[0;34m\u001b[0m\u001b[0m\n\u001b[0m\u001b[1;32m      8\u001b[0m \u001b[0;34m\u001b[0m\u001b[0m\n\u001b[1;32m      9\u001b[0m \u001b[0mget_ipython\u001b[0m\u001b[0;34m(\u001b[0m\u001b[0;34m)\u001b[0m\u001b[0;34m.\u001b[0m\u001b[0mrun_line_magic\u001b[0m\u001b[0;34m(\u001b[0m\u001b[0;34m'matplotlib'\u001b[0m\u001b[0;34m,\u001b[0m \u001b[0;34m'inline'\u001b[0m\u001b[0;34m)\u001b[0m\u001b[0;34m\u001b[0m\u001b[0;34m\u001b[0m\u001b[0m\n",
      "\u001b[0;31mModuleNotFoundError\u001b[0m: No module named 'Microsoft_Cleanup'"
     ]
    }
   ],
   "source": [
    "# Import packages\n",
    "import pandas as pd\n",
    "import numpy as np\n",
    "import matplotlib.pyplot as plt\n",
    "import string\n",
    "import seaborn as sns\n",
    "from Microsoft_Cleanup import *\n",
    "\n",
    "get_ipython().run_line_magic('matplotlib', 'inline')"
   ]
  },
  {
   "cell_type": "code",
   "execution_count": null,
   "metadata": {},
   "outputs": [],
   "source": [
    "# Turn off scientific notation in Pandas\n",
    "pd.set_option('display.float_format', lambda x: '%.2f' % x)"
   ]
  },
  {
   "cell_type": "code",
   "execution_count": null,
   "metadata": {},
   "outputs": [],
   "source": [
    "# Import data\n",
    "tn_budget = pd.read_csv('Data/Zipped_Data/tn.movie_budgets.csv.gz',\\\n",
    "                        compression='gzip')\n",
    "bom_gross = pd.read_csv('Data/Zipped_Data/bom.movie_gross.csv.gz',\\\n",
    "                        compression='gzip')\n",
    "imbd_basics = pd.read_csv('Data/Zipped_Data/imdb.title.basics.csv.gz',\\\n",
    "                          compression='gzip')\n",
    "imbd_name = pd.read_csv('Data/Zipped_Data/imdb.name.basics.csv.gz',\\\n",
    "                        compression='gzip')\n",
    "imbd_principals = pd.read_csv('Data/Zipped_Data/imdb.title.principals.csv.gz',\\\n",
    "                              compression='gzip')"
   ]
  },
  {
   "cell_type": "markdown",
   "metadata": {},
   "source": [
    "### - Questions:\n",
    ">#### - In order to maximize its investment, what scale of films should Microsoft produce?\n",
    ">#### - What types of studios, producers, and directors should Microsoft seek out?"
   ]
  },
  {
   "cell_type": "markdown",
   "metadata": {},
   "source": [
    "### - First Step: Data Cleaning\n",
    ">#### - Cleaning the \"tn_budget\" file..."
   ]
  },
  {
   "cell_type": "code",
   "execution_count": null,
   "metadata": {},
   "outputs": [],
   "source": [
    "# Switch variables from string to float:\n",
    "cast_to_float32(tn_budget, 'production_budget')\n",
    "cast_to_float32(tn_budget, 'worldwide_gross')"
   ]
  },
  {
   "cell_type": "code",
   "execution_count": null,
   "metadata": {},
   "outputs": [],
   "source": [
    "# Create column for net profit (worldwide gross minus production budget):\n",
    "net_columns(tn_budget, 'worldwide_gross', 'production_budget')"
   ]
  },
  {
   "cell_type": "code",
   "execution_count": null,
   "metadata": {},
   "outputs": [],
   "source": [
    "# Create column for ratio (net profit divided by production budget):\n",
    "divide_columns(tn_budget, 'net', 'production_budget')"
   ]
  },
  {
   "cell_type": "code",
   "execution_count": null,
   "metadata": {},
   "outputs": [],
   "source": [
    "# Rename column 'movie' to 'title':\n",
    "rename_col(tn_budget, 'movie', 'title')"
   ]
  },
  {
   "cell_type": "code",
   "execution_count": null,
   "metadata": {},
   "outputs": [],
   "source": [
    "# Remove whitespace, potential extra words, punctuation, and case from titles:\n",
    "cleanup_text(tn_budget, 'title')"
   ]
  },
  {
   "cell_type": "code",
   "execution_count": null,
   "metadata": {},
   "outputs": [],
   "source": [
    "# Remove month and year from date:\n",
    "convert_year(tn_budget, 'release_date')"
   ]
  },
  {
   "cell_type": "code",
   "execution_count": null,
   "metadata": {},
   "outputs": [],
   "source": [
    "# Drop redundant columns:\n",
    "drop_cols(tn_budget, 'id', 'domestic_gross', 'release_date')"
   ]
  },
  {
   "cell_type": "markdown",
   "metadata": {},
   "source": [
    ">#### Cleaning BOM_Gross file..."
   ]
  },
  {
   "cell_type": "code",
   "execution_count": null,
   "metadata": {},
   "outputs": [],
   "source": [
    "# Remove 'studio', 'domestic_gross', 'foreign_gross' column:\n",
    "drop_cols(bom_gross, 'domestic_gross', 'foreign_gross')"
   ]
  },
  {
   "cell_type": "code",
   "execution_count": null,
   "metadata": {},
   "outputs": [],
   "source": [
    "# Set 'year' to string:\n",
    "cast_to_str(bom_gross, 'year')"
   ]
  },
  {
   "cell_type": "code",
   "execution_count": null,
   "metadata": {},
   "outputs": [],
   "source": [
    "# Remove years, right whitespace, and superfluous verbiage from titles:\n",
    "cleanup_text(bom_gross, 'title')"
   ]
  },
  {
   "cell_type": "code",
   "execution_count": null,
   "metadata": {},
   "outputs": [],
   "source": [
    "# Merge tn_budget and bom_gross:\n",
    "merged_df = left_merge(tn_budget, bom_gross, 'title', 'year')"
   ]
  },
  {
   "cell_type": "code",
   "execution_count": null,
   "metadata": {},
   "outputs": [],
   "source": [
    "# Replace null studio values:\n",
    "fill_na(merged_df, 'studio')"
   ]
  },
  {
   "cell_type": "markdown",
   "metadata": {},
   "source": [
    ">#### Cleaning imbd_basics file..."
   ]
  },
  {
   "cell_type": "code",
   "execution_count": null,
   "metadata": {},
   "outputs": [],
   "source": [
    "# Create 'year' string column from 'start_year':\n",
    "cast_to_str(imbd_basics, 'start_year')\n",
    "rename_col(imbd_basics, 'start_year', 'year')"
   ]
  },
  {
   "cell_type": "code",
   "execution_count": null,
   "metadata": {},
   "outputs": [],
   "source": [
    "# Drop unused/confusing column:\n",
    "drop_cols(imbd_basics, 'original_title')"
   ]
  },
  {
   "cell_type": "code",
   "execution_count": null,
   "metadata": {},
   "outputs": [],
   "source": [
    "# Rename column for easier merging:\n",
    "rename_col(imbd_basics, 'primary_title', 'title')"
   ]
  },
  {
   "cell_type": "code",
   "execution_count": null,
   "metadata": {},
   "outputs": [],
   "source": [
    "# Remove years, right whitespace, and superfluous verbiage from titles:\n",
    "cleanup_text(imbd_basics, 'title')"
   ]
  },
  {
   "cell_type": "markdown",
   "metadata": {},
   "source": [
    ">##### and merge with previous version..."
   ]
  },
  {
   "cell_type": "code",
   "execution_count": null,
   "metadata": {},
   "outputs": [],
   "source": [
    "# Merge imbd_basics with merged datafile:\n",
    "merged_df2 = left_merge(merged_df, imbd_basics, 'title', 'year')"
   ]
  },
  {
   "cell_type": "code",
   "execution_count": null,
   "metadata": {},
   "outputs": [],
   "source": [
    "# Cast year to integer:\n",
    "cast_to_int(merged_df2, 'year')"
   ]
  },
  {
   "cell_type": "code",
   "execution_count": null,
   "metadata": {},
   "outputs": [],
   "source": [
    "# Throw out all films made before 2010:\n",
    "cutoff_series_at(merged_df2, 'year', 2010)"
   ]
  },
  {
   "cell_type": "code",
   "execution_count": null,
   "metadata": {},
   "outputs": [],
   "source": [
    "# Now cast year back to string:\n",
    "cast_to_str(merged_df2, 'year')"
   ]
  },
  {
   "cell_type": "markdown",
   "metadata": {},
   "source": [
    ">#### Now, clean imbd_principals and imbd_name:"
   ]
  },
  {
   "cell_type": "code",
   "execution_count": null,
   "metadata": {},
   "outputs": [],
   "source": [
    "# Merge imbd_principals and imbd_name:\n",
    "imbd_name_prin = pd.merge(imbd_principals, imbd_name,\n",
    "                          on=[\"nconst\"], how=\"left\")"
   ]
  },
  {
   "cell_type": "code",
   "execution_count": null,
   "metadata": {},
   "outputs": [],
   "source": [
    "# Remove extraneous columns:\n",
    "drop_cols(imbd_name_prin, 'ordering',\n",
    "                                              'nconst', 'job',\n",
    "                                              'characters', 'birth_year',\n",
    "                                              'death_year',\n",
    "                                              'primary_profession',\n",
    "                                              'known_for_titles')"
   ]
  },
  {
   "cell_type": "markdown",
   "metadata": {},
   "source": [
    ">##### Subset columns to populate directors:"
   ]
  },
  {
   "cell_type": "code",
   "execution_count": null,
   "metadata": {},
   "outputs": [],
   "source": [
    "# Create list of directors from imbd_name_prin:\n",
    "directors = subset_series(imbd_name_prin, 'category', 'director')"
   ]
  },
  {
   "cell_type": "code",
   "execution_count": null,
   "metadata": {},
   "outputs": [],
   "source": [
    "# Merge list of directors with previous merged document:= \n",
    "merged_df3 = left_merge(merged_df2, directors, 'tconst')"
   ]
  },
  {
   "cell_type": "code",
   "execution_count": null,
   "metadata": {},
   "outputs": [],
   "source": [
    "# Remove extra columns:\n",
    "drop_cols(merged_df3, 'category', 'runtime_minutes')"
   ]
  },
  {
   "cell_type": "code",
   "execution_count": null,
   "metadata": {},
   "outputs": [],
   "source": [
    "#rename primary_name to, \"director\":\n",
    "rename_col(merged_df3, 'primary_name', 'director')"
   ]
  },
  {
   "cell_type": "code",
   "execution_count": null,
   "metadata": {},
   "outputs": [],
   "source": [
    "# Fill in null director values:\n",
    "fill_na(merged_df3, 'director')"
   ]
  },
  {
   "cell_type": "markdown",
   "metadata": {},
   "source": [
    ">##### ... and do the same for producers:"
   ]
  },
  {
   "cell_type": "code",
   "execution_count": null,
   "metadata": {},
   "outputs": [],
   "source": [
    "# Now, create list of producers from imbd_name_prin:\n",
    "producers = subset_series(imbd_name_prin, 'category', 'producer')"
   ]
  },
  {
   "cell_type": "code",
   "execution_count": null,
   "metadata": {},
   "outputs": [],
   "source": [
    "# Rename column primary_name to, \"producer\":\n",
    "rename_col(producers, 'primary_name', 'producer')"
   ]
  },
  {
   "cell_type": "code",
   "execution_count": null,
   "metadata": {},
   "outputs": [],
   "source": [
    "# Drop column 'category':\n",
    "drop_cols(producers, 'category')"
   ]
  },
  {
   "cell_type": "code",
   "execution_count": null,
   "metadata": {},
   "outputs": [],
   "source": [
    "# Merge list of producers with merged document:\n",
    "merged_df4 = pd.merge(merged_df3, producers, on=[\"tconst\"], how=\"left\")"
   ]
  },
  {
   "cell_type": "code",
   "execution_count": null,
   "metadata": {},
   "outputs": [],
   "source": [
    "# Fill null producer values:\n",
    "fill_na(merged_df4, 'producer')"
   ]
  },
  {
   "cell_type": "markdown",
   "metadata": {},
   "source": [
    ">##### And now some final steps:"
   ]
  },
  {
   "cell_type": "code",
   "execution_count": null,
   "metadata": {},
   "outputs": [],
   "source": [
    "# Remove duplicate titles:\n",
    "remove_duplicates(merged_df4, 'title')"
   ]
  },
  {
   "cell_type": "code",
   "execution_count": null,
   "metadata": {},
   "outputs": [],
   "source": [
    "# Finally, drop the extra column:\n",
    "drop_cols(merged_df4, 'tconst')"
   ]
  },
  {
   "cell_type": "code",
   "execution_count": null,
   "metadata": {},
   "outputs": [],
   "source": [
    "# And rename:\n",
    "md_clean = merged_df4"
   ]
  },
  {
   "cell_type": "markdown",
   "metadata": {},
   "source": [
    "### Okay, now that we're done cleaning...\n",
    "### Let's explore:"
   ]
  },
  {
   "cell_type": "code",
   "execution_count": null,
   "metadata": {},
   "outputs": [],
   "source": [
    "# Create earnings/cost graph for films with top ROI\n",
    "top_net = md_clean.sort_values(by=['net'], ascending=False)[:10]\n",
    "\n",
    "index = list(top_net['title'])\n",
    "production_budget = list(top_net['production_budget'])\n",
    "worldwide_gross = list(top_net['worldwide_gross'])\n",
    "df = pd.DataFrame({'Production Budget USD (Billion)':\n",
    "                   production_budget,\n",
    "                   'Worldwide Gross USD (Billion)':\n",
    "                   worldwide_gross}, index=index)\n",
    "ax = df.plot.barh(figsize=(20, 10), rot=0)"
   ]
  },
  {
   "cell_type": "code",
   "execution_count": null,
   "metadata": {},
   "outputs": [],
   "source": [
    "# Create earnings/cost graph for films with top ROI\n",
    "top_ratio = md_clean.sort_values(by=['ratio'], ascending=False)[:10]\n",
    "\n",
    "index = list(top_ratio['title'])\n",
    "production_budget = list(top_ratio['production_budget'])\n",
    "worldwide_gross = list(top_ratio['worldwide_gross'])\n",
    "df = pd.DataFrame({'Production Budget USD (Million)': production_budget,\n",
    "                   'Worldwide Gross USD (Million)': worldwide_gross},\n",
    "                  index=index)\n",
    "ax = df.plot.barh(figsize=(20, 10), rot=0)"
   ]
  },
  {
   "cell_type": "code",
   "execution_count": null,
   "metadata": {},
   "outputs": [],
   "source": [
    "# Create a list of 20 studios with the top ratio means\n",
    "studio_ratio_mean = (md_clean.groupby\n",
    "                     (['studio']).ratio.mean().\n",
    "                     sort_values(ascending=False)[:20])"
   ]
  },
  {
   "cell_type": "code",
   "execution_count": null,
   "metadata": {},
   "outputs": [],
   "source": [
    "# Create a list of 20 directors with the top ratio means\n",
    "director_ratio_mean = (md_clean.groupby\n",
    "                       (['director']).ratio.mean().\n",
    "                       sort_values(ascending=False)[0:20])"
   ]
  },
  {
   "cell_type": "code",
   "execution_count": null,
   "metadata": {},
   "outputs": [],
   "source": [
    "# Create a list of 19 directors with the top ROI means,\n",
    "# with top value removed\n",
    "director_ratio_mean_19 = (md_clean.groupby\n",
    "                          (['director']).ratio.mean().\n",
    "                          sort_values(ascending=False)[1:20])"
   ]
  },
  {
   "cell_type": "code",
   "execution_count": null,
   "metadata": {},
   "outputs": [],
   "source": [
    "# Create a list of 20 producers with the top ROI means\n",
    "producer_ratio_mean = (md_clean.groupby\n",
    "                       (['producer']).ratio.mean()\n",
    "                       .sort_values(ascending=False)[:20])"
   ]
  },
  {
   "cell_type": "code",
   "execution_count": null,
   "metadata": {},
   "outputs": [],
   "source": [
    "# Provides a count for the number of films made by\n",
    "# each director with a top-20 ROI\n",
    "director_ROI_count = (md_clean.groupby\n",
    "                      ('director')['ratio', 'title'].agg\n",
    "                      ({'ratio': 'mean', 'title': 'nunique'})\n",
    "                      .sort_values\n",
    "                      (by='ratio', ascending=False))[0:20].reset_index()"
   ]
  },
  {
   "cell_type": "code",
   "execution_count": null,
   "metadata": {},
   "outputs": [],
   "source": [
    "#Creates a graph of the 2-20 directors with the best ROI\n",
    "director_ratio_mean_19.plot(kind='barh')"
   ]
  },
  {
   "cell_type": "code",
   "execution_count": null,
   "metadata": {},
   "outputs": [],
   "source": [
    "# Make a barplot - top 20 directors by ROI - Count\n",
    "top_20_directors_ROI_count = (md_clean.groupby\n",
    "                              ('director')['ratio', 'title']\n",
    "                              .agg({'ratio':\n",
    "                                    'mean', 'title': 'nunique'})\n",
    "                              .sort_values\n",
    "                              (by='ratio',\n",
    "                               ascending=False))[0:20].reset_index()\n",
    "ax = sns.barplot(x=top_20_directors_ROI_count['title'],\n",
    "                 y=top_20_directors_ROI_count['director'])\n",
    "ax.set_xticklabels(ax.get_xticklabels(), rotation=45, ha=\"right\")\n",
    "plt.rcParams[\"figure.figsize\"] = (20, 10)\n",
    "plt.rcParams[\"xtick.labelsize\"] = 20\n",
    "plt.rcParams[\"ytick.labelsize\"] = 1\n",
    "plt.tight_layout()\n",
    "plt.show()"
   ]
  }
 ],
 "metadata": {
  "kernelspec": {
   "display_name": "Python 3",
   "language": "python",
   "name": "python3"
  },
  "language_info": {
   "codemirror_mode": {
    "name": "ipython",
    "version": 3
   },
   "file_extension": ".py",
   "mimetype": "text/x-python",
   "name": "python",
   "nbconvert_exporter": "python",
   "pygments_lexer": "ipython3",
   "version": "3.7.3"
  }
 },
 "nbformat": 4,
 "nbformat_minor": 2
}

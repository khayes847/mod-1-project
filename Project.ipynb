{
 "cells": [
  {
   "cell_type": "code",
   "execution_count": null,
   "metadata": {},
   "outputs": [],
   "source": [
    "#Import packages\n",
    "import pandas as pd\n",
    "import numpy as np\n",
    "import matplotlib.pyplot as plt\n",
    "%matplotlib inline\n",
    "#Turn off scientific notation in Pandas\n",
    "pd.set_option('display.float_format', lambda x: '%.2f' % x)\n",
    "# Import data\n",
    "bom_gross = pd.read_csv('Data/bom.movie_gross.csv.gz', compression = 'gzip')\n",
    "imbd_name = pd.read_csv('Data/imdb.name.basics.csv.gz', compression = 'gzip')\n",
    "imbd_akas = pd.read_csv('Data/imdb.title.akas.csv.gz', compression = 'gzip')\n",
    "imbd_basics = pd.read_csv('Data/imdb.title.basics.csv.gz', compression = 'gzip')\n",
    "imbd_crews = pd.read_csv('Data/imdb.title.crew.csv.gz', compression = 'gzip')\n",
    "imbd_principals = pd.read_csv('Data/imdb.title.principals.csv.gz', compression = 'gzip')\n",
    "imbd_ratings = pd.read_csv('Data/imdb.title.ratings.csv.gz', compression = 'gzip')\n",
    "rt_info = pd.read_csv('Data/rt.movie_info.tsv.gz', delimiter='\\t', compression = 'gzip')\n",
    "rt_reviews = pd.read_csv('Data/rt.reviews.tsv.gz', delimiter='\\t', compression = 'gzip', encoding='latin-1')\n",
    "tmbd = pd.read_csv('Data/tmdb.movies.csv.gz', compression = 'gzip')\n",
    "tn_budget = pd.read_csv('Data/tn.movie_budgets.csv.gz', compression = 'gzip')"
   ]
  },
  {
   "cell_type": "code",
   "execution_count": null,
   "metadata": {},
   "outputs": [],
   "source": [
    "#Remove null values for 'studio'. Set 'foreign_gross' to float and 'year' to string\n",
    "bom_gross['studio'] = bom_gross.studio.fillna('Unknown')\n",
    "bom_gross['foreign_gross'] = pd.to_numeric(bom_gross.foreign_gross, downcast = 'float', errors = 'coerce')\n",
    "bom_gross['year'] = bom_gross['year'].astype(str)\n",
    "\n",
    "#Use median data to fill in null values for domestic and foreign gross\n",
    "bom_median = bom_gross\n",
    "bom_median['domestic_gross'] = bom_median.domestic_gross.fillna(value=bom_median.domestic_gross.median())\n",
    "bom_median['foreign_gross'] = bom_median.foreign_gross.fillna(value=bom_median.foreign_gross.median())"
   ]
  },
  {
   "cell_type": "code",
   "execution_count": null,
   "metadata": {},
   "outputs": [],
   "source": [
    "#Drop \"birth_year\" and \"death_year\" columns. Fill in null values with 'null'.\n",
    "imbd_name = imbd_name.drop(columns = ['birth_year', 'death_year'])\n",
    "imbd_name = imbd_name.fillna('null')\n",
    "\n",
    "#Turn 'primary_profession' and 'known_for_titles' from string to list\n",
    "imbd_name['primary_profession'] = imbd_name['primary_profession'].str.split(',')\n",
    "imbd_name['known_for_titles'] = imbd_name['known_for_titles'].str.split(',')"
   ]
  },
  {
   "cell_type": "code",
   "execution_count": 2,
   "metadata": {},
   "outputs": [],
   "source": [
    "#Create index of rows that are listed as the original title ('is_original_title'= 1), \n",
    "#but are duplicates. Drop duplicate rows.\n",
    "originals = imbd_akas.loc[imbd_akas.is_original_title == 1]\n",
    "original_repeats = list(originals.loc[originals['title_id'].duplicated() == True].title_id.unique())\n",
    "repeat_index = imbd_akas[(imbd_akas.is_original_title == 1) & (imbd_akas.title_id.isin(original_repeats))].index\n",
    "imbd_akas.drop(repeat_index, inplace = True)\n",
    "\n",
    "#Create column specifying whether each title_id has a row specifying their original title.\n",
    "#Remove rows in which the title_id is not the original title, but has an original title listed.\n",
    "imbd_akas['has_original'] = imbd_akas.title_id.isin(list(imbd_akas.title_id.loc[imbd_akas.is_original_title == 1]))\n",
    "repeat_index2 = imbd_akas[(imbd_akas.is_original_title != 1) \n",
    "                         & (imbd_akas.has_original == True)].index\n",
    "imbd_akas.drop(repeat_index2, inplace = True)"
   ]
  },
  {
   "cell_type": "code",
   "execution_count": 4,
   "metadata": {},
   "outputs": [
    {
     "data": {
      "text/plain": [
       "122301"
      ]
     },
     "execution_count": 4,
     "metadata": {},
     "output_type": "execute_result"
    }
   ],
   "source": [
    "imbd_akas.title_id.nunique()"
   ]
  },
  {
   "cell_type": "code",
   "execution_count": 5,
   "metadata": {},
   "outputs": [
    {
     "name": "stdout",
     "output_type": "stream",
     "text": [
      "<class 'pandas.core.frame.DataFrame'>\n",
      "Int64Index: 122589 entries, 38 to 331700\n",
      "Data columns (total 9 columns):\n",
      "title_id             122589 non-null object\n",
      "ordering             122589 non-null int64\n",
      "title                122589 non-null object\n",
      "region               77925 non-null object\n",
      "language             62 non-null object\n",
      "types                44826 non-null object\n",
      "attributes           18 non-null object\n",
      "is_original_title    122564 non-null float64\n",
      "has_original         122589 non-null bool\n",
      "dtypes: bool(1), float64(1), int64(1), object(6)\n",
      "memory usage: 8.5+ MB\n"
     ]
    }
   ],
   "source": [
    "imbd_akas.info()"
   ]
  },
  {
   "cell_type": "code",
   "execution_count": null,
   "metadata": {},
   "outputs": [],
   "source": [
    "no_original = imbd_akas.loc[imbd_akas.has_original == False]"
   ]
  },
  {
   "cell_type": "code",
   "execution_count": null,
   "metadata": {},
   "outputs": [],
   "source": [
    "no_original_repeats = list(no_original.loc[no_original.title_id.duplicated() == True].title_id.unique())"
   ]
  },
  {
   "cell_type": "code",
   "execution_count": null,
   "metadata": {},
   "outputs": [],
   "source": [
    "imbd_akas.info()"
   ]
  },
  {
   "cell_type": "code",
   "execution_count": null,
   "metadata": {
    "scrolled": true
   },
   "outputs": [],
   "source": [
    "imbd_akas.loc[(imbd_akas.has_original == True) | \n",
    "              ((imbd_akas.has_original == False) & ~(imbd_akas.title_id.isin(no_original_repeats)))].info()"
   ]
  },
  {
   "cell_type": "code",
   "execution_count": null,
   "metadata": {},
   "outputs": [],
   "source": [
    "original_list = list(imbd_akas.loc[(imbd_akas.has_original == True) | \n",
    "              ((imbd_akas.has_original == False) & ~(imbd_akas.title_id.isin(no_original_repeats)))].title_id.unique())"
   ]
  },
  {
   "cell_type": "code",
   "execution_count": null,
   "metadata": {},
   "outputs": [],
   "source": [
    "no_original_repeats = imbd_akas.loc[~(imbd_akas.title_id.isin(original_list))]"
   ]
  },
  {
   "cell_type": "code",
   "execution_count": null,
   "metadata": {},
   "outputs": [],
   "source": [
    "no_original_repeats[~((no_original_repeats.region == \"US\") | (no_original_repeats.language == \"en\"))].title_id.unique()"
   ]
  },
  {
   "cell_type": "code",
   "execution_count": null,
   "metadata": {},
   "outputs": [],
   "source": [
    "imbd_akas.loc[(imbd_akas.title_id.isin(repeat) == True)&(imbd_akas.original == \"yes\")]"
   ]
  },
  {
   "cell_type": "code",
   "execution_count": null,
   "metadata": {},
   "outputs": [],
   "source": [
    "imbd_akas = imbd_akas.loc[(imbd_akas['original'] == \"yes\") | \n",
    "                          ((imbd_akas['original'] == \"no\") & (imbd_akas['has_original'] == False))]"
   ]
  },
  {
   "cell_type": "code",
   "execution_count": null,
   "metadata": {},
   "outputs": [],
   "source": [
    "len(repeat)"
   ]
  },
  {
   "cell_type": "code",
   "execution_count": null,
   "metadata": {},
   "outputs": [],
   "source": [
    "(imbd_akas.loc[(imbd_akas['has_original'] == False)]).title_id.nunique()"
   ]
  },
  {
   "cell_type": "code",
   "execution_count": null,
   "metadata": {},
   "outputs": [],
   "source": [
    "no_original = imbd_akas.loc[(imbd_akas['has_original'] == False)]"
   ]
  },
  {
   "cell_type": "code",
   "execution_count": null,
   "metadata": {},
   "outputs": [],
   "source": [
    "imbd_akas.loc[(imbd_akas['has_original'] == False) & ()]"
   ]
  },
  {
   "cell_type": "code",
   "execution_count": null,
   "metadata": {},
   "outputs": [],
   "source": [
    "duplicates = list((imbd_akas.loc[(imbd_akas.title_id.duplicated() == True)&((imbd_akas['has_original'] == False))]).title_id.unique())"
   ]
  },
  {
   "cell_type": "code",
   "execution_count": null,
   "metadata": {},
   "outputs": [],
   "source": [
    "len(duplicates)"
   ]
  },
  {
   "cell_type": "code",
   "execution_count": null,
   "metadata": {},
   "outputs": [],
   "source": []
  }
 ],
 "metadata": {
  "kernelspec": {
   "display_name": "Python 3",
   "language": "python",
   "name": "python3"
  },
  "language_info": {
   "codemirror_mode": {
    "name": "ipython",
    "version": 3
   },
   "file_extension": ".py",
   "mimetype": "text/x-python",
   "name": "python",
   "nbconvert_exporter": "python",
   "pygments_lexer": "ipython3",
   "version": "3.7.3"
  }
 },
 "nbformat": 4,
 "nbformat_minor": 2
}

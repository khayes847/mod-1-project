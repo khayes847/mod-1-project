{
 "cells": [
  {
   "cell_type": "code",
   "execution_count": 1,
   "metadata": {},
   "outputs": [],
   "source": [
    "#Import packages\n",
    "import pandas as pd\n",
    "import numpy as np\n",
    "import matplotlib.pyplot as plt\n",
    "import string\n",
    "%matplotlib inline\n",
    "\n",
    "#Turn off scientific notation in Pandas\n",
    "pd.set_option('display.float_format', lambda x: '%.2f' % x)\n",
    "\n",
    "# Import data\n",
    "bom_gross = pd.read_csv('Data/Zipped_Data/bom.movie_gross.csv.gz', compression = 'gzip')\n",
    "imbd_name = pd.read_csv('Data/Zipped_Data/imdb.name.basics.csv.gz', compression = 'gzip')\n",
    "imbd_basics = pd.read_csv('Data/Zipped_Data/imdb.title.basics.csv.gz', compression = 'gzip')\n",
    "imbd_crews = pd.read_csv('Data/Zipped_Data/imdb.title.crew.csv.gz', compression = 'gzip')\n",
    "imbd_principals = pd.read_csv('Data/Zipped_Data/imdb.title.principals.csv.gz', compression = 'gzip')\n",
    "imbd_ratings = pd.read_csv('Data/Zipped_Data/imdb.title.ratings.csv.gz', compression = 'gzip')\n",
    "rt_info = pd.read_csv('Data/Zipped_Data/rt.movie_info.tsv.gz', delimiter='\\t', compression = 'gzip')\n",
    "rt_reviews = pd.read_csv('Data/Zipped_Data/rt.reviews.tsv.gz', delimiter='\\t', compression = 'gzip', encoding='latin-1')\n",
    "tmbd = pd.read_csv('Data/Zipped_Data/tmdb.movies.csv.gz', compression = 'gzip')\n",
    "tn_budget = pd.read_csv('Data/Zipped_Data/tn.movie_budgets.csv.gz', compression = 'gzip')"
   ]
  },
  {
   "cell_type": "code",
   "execution_count": 2,
   "metadata": {},
   "outputs": [],
   "source": [
    "#Remove punctuation from producton and worldwide. Switch variables from string to float.\n",
    "tn_budget['production_budget'] = tn_budget['production_budget'].apply(lambda x: x.translate(str.maketrans('', '', '!\"#$%&\\'()*+,-./:;<=>?@[\\\\]^_`{|}~')))\n",
    "tn_budget['worldwide_gross'] = tn_budget['worldwide_gross'].apply(lambda x: x.translate(str.maketrans('', '', '!\"#$%&\\'()*+,-./:;<=>?@[\\\\]^_`{|}~')))\n",
    "tn_budget['production_budget'] = pd.to_numeric(tn_budget.production_budget, downcast = 'float', errors = 'coerce')\n",
    "tn_budget['worldwide_gross'] = pd.to_numeric(tn_budget.worldwide_gross, downcast = 'float', errors = 'coerce')"
   ]
  },
  {
   "cell_type": "code",
   "execution_count": 7,
   "metadata": {},
   "outputs": [],
   "source": [
    "#Create column for net profit (worldwide gross minus production budget).\n",
    "tn_budget['net'] = list(tn_budget.apply(lambda x: x.worldwide_gross - x.production_budget, axis=1))\n",
    "\n",
    "#Create column for ratio (net profit divided by production budget)\n",
    "tn_budget['ratio'] = list(tn_budget.apply(lambda x: x.net / x.production_budget, axis=1))\n",
    "\n",
    "# Rename column 'movie' to 'title'\n",
    "tn_budget = tn_budget.rename(columns = {'movie': 'title'})\n",
    "\n",
    "#remove whitespace, potential extra words, punctuation, and case from titles\n",
    "years = ['\\(2010\\)', \"\\(2011\\)\", \n",
    "         \"\\(2012\\)\", \"\\(2013\\)\", \"\\(2014\\)\", \n",
    "         \"\\(2015\\)\", \"\\(2016\\)\", \"\\(2017\\)\", \"\\(2018\\)\"]\n",
    "tn_budget.title = tn_budget.title.replace(years, value='', regex=True)\n",
    "tn_budget.title = tn_budget.title.str.strip()\n",
    "tn_budget.title = tn_budget.title.apply(lambda x: x.lower())\n",
    "tn_budget.title = tn_budget.title.apply(lambda x: x.translate(str.maketrans('', '', '!\"#$%&\\'()*+,-./:;<=>?@[\\\\]^_`{|}~')))\n",
    "tn_budget.title = tn_budget.title.replace(['the', 'and'], value='', regex=True)\n",
    "\n",
    "#Remove month and year from date. Drop redundant columns\n",
    "tn_budget['year'] = list(tn_budget['release_date'].str[-4:])\n",
    "tn_trimmed = tn_budget.drop(columns = ['id', 'domestic_gross', 'release_date'])"
   ]
  },
  {
   "cell_type": "code",
   "execution_count": 9,
   "metadata": {},
   "outputs": [],
   "source": [
    "#Remove 'studio', 'domestic_gross', 'foreign_gross' column. Set 'foreign_gross' to float and 'year' to string\n",
    "bom_gross = bom_gross.drop(columns = ['domestic_gross', 'foreign_gross'])\n",
    "bom_gross['year'] = bom_gross['year'].astype(str)"
   ]
  },
  {
   "cell_type": "code",
   "execution_count": 10,
   "metadata": {},
   "outputs": [],
   "source": [
    "#Remove years and right whitespace from titles. Remove potentially extraneous words.\n",
    "years = ['\\(2010\\)', \"\\(2011\\)\", \n",
    "         \"\\(2012\\)\", \"\\(2013\\)\", \"\\(2014\\)\", \n",
    "         \"\\(2015\\)\", \"\\(2016\\)\", \"\\(2017\\)\", \"\\(2018\\)\"]\n",
    "bom_gross.title = bom_gross.title.replace(years, value='', regex=True)\n",
    "bom_gross.title = bom_gross.title.str.strip()\n",
    "bom_gross.title = bom_gross.title.apply(lambda x: x.lower())\n",
    "bom_gross.title = bom_gross.title.apply(lambda x: x.translate(str.maketrans('', '', '!\"#$%&\\'()*+,-./:;<=>?@[\\\\]^_`{|}~')))\n",
    "bom_gross.title = bom_gross.title.replace(['the', 'and'], value='', regex=True)"
   ]
  },
  {
   "cell_type": "code",
   "execution_count": 11,
   "metadata": {},
   "outputs": [],
   "source": [
    "#Merge tn_trimmed and bom_gross\n",
    "merged_df = pd.merge(tn_trimmed, bom_gross, on = [\"title\", \"year\"], how = \"left\")"
   ]
  },
  {
   "cell_type": "code",
   "execution_count": 12,
   "metadata": {},
   "outputs": [],
   "source": [
    "#Replace null studio values\n",
    "merged_df['studio'] = merged_df.studio.fillna('Unknown')"
   ]
  },
  {
   "cell_type": "code",
   "execution_count": 13,
   "metadata": {},
   "outputs": [],
   "source": [
    "#Create 'year'column\n",
    "imbd_basics['year'] = imbd_basics['start_year'].astype(str)"
   ]
  },
  {
   "cell_type": "code",
   "execution_count": 14,
   "metadata": {},
   "outputs": [],
   "source": [
    "imbd_basics = imbd_basics.drop(columns = ['original_title', 'start_year'])"
   ]
  },
  {
   "cell_type": "code",
   "execution_count": 15,
   "metadata": {},
   "outputs": [],
   "source": [
    "imbd_basics = imbd_basics.rename(columns = {'primary_title': 'title'})"
   ]
  },
  {
   "cell_type": "code",
   "execution_count": 17,
   "metadata": {},
   "outputs": [],
   "source": [
    "imbd_basics.title = imbd_basics.title.str.strip()\n",
    "imbd_basics.title = imbd_basics.title.apply(lambda x: x.lower())\n",
    "imbd_basics.title = imbd_basics.title.apply(lambda x: x.translate(str.maketrans('', '', '!\"#$%&\\'()*+,-./:;<=>?@[\\\\]^_`{|}~')))\n",
    "imbd_basics.title = imbd_basics.title.replace(['the', 'and'], value='', regex=True)"
   ]
  },
  {
   "cell_type": "code",
   "execution_count": 18,
   "metadata": {},
   "outputs": [],
   "source": [
    "merged_df2 = pd.merge(merged_df, imbd_basics, on = [\"title\", \"year\"], how = \"left\")"
   ]
  },
  {
   "cell_type": "code",
   "execution_count": 19,
   "metadata": {},
   "outputs": [
    {
     "name": "stdout",
     "output_type": "stream",
     "text": [
      "<class 'pandas.core.frame.DataFrame'>\n",
      "Int64Index: 5846 entries, 0 to 5845\n",
      "Data columns (total 10 columns):\n",
      "title                5846 non-null object\n",
      "production_budget    5846 non-null float32\n",
      "worldwide_gross      5846 non-null float32\n",
      "net                  5846 non-null float64\n",
      "ratio                5846 non-null float64\n",
      "year                 5846 non-null object\n",
      "studio               5846 non-null object\n",
      "tconst               1623 non-null object\n",
      "runtime_minutes      1596 non-null float64\n",
      "genres               1617 non-null object\n",
      "dtypes: float32(2), float64(3), object(5)\n",
      "memory usage: 456.7+ KB\n"
     ]
    }
   ],
   "source": [
    "merged_df2.info()"
   ]
  },
  {
   "cell_type": "code",
   "execution_count": 23,
   "metadata": {},
   "outputs": [
    {
     "data": {
      "text/html": [
       "<div>\n",
       "<style scoped>\n",
       "    .dataframe tbody tr th:only-of-type {\n",
       "        vertical-align: middle;\n",
       "    }\n",
       "\n",
       "    .dataframe tbody tr th {\n",
       "        vertical-align: top;\n",
       "    }\n",
       "\n",
       "    .dataframe thead th {\n",
       "        text-align: right;\n",
       "    }\n",
       "</style>\n",
       "<table border=\"1\" class=\"dataframe\">\n",
       "  <thead>\n",
       "    <tr style=\"text-align: right;\">\n",
       "      <th></th>\n",
       "      <th>title</th>\n",
       "      <th>production_budget</th>\n",
       "      <th>worldwide_gross</th>\n",
       "      <th>net</th>\n",
       "      <th>ratio</th>\n",
       "      <th>year</th>\n",
       "      <th>studio</th>\n",
       "      <th>tconst</th>\n",
       "      <th>runtime_minutes</th>\n",
       "      <th>genres</th>\n",
       "    </tr>\n",
       "  </thead>\n",
       "  <tbody>\n",
       "    <tr>\n",
       "      <th>0</th>\n",
       "      <td>avatar</td>\n",
       "      <td>425000000.00</td>\n",
       "      <td>2776345344.00</td>\n",
       "      <td>2351345344.00</td>\n",
       "      <td>5.53</td>\n",
       "      <td>2009</td>\n",
       "      <td>Unknown</td>\n",
       "      <td>Unknown</td>\n",
       "      <td>nan</td>\n",
       "      <td>Unknown</td>\n",
       "    </tr>\n",
       "    <tr>\n",
       "      <th>1</th>\n",
       "      <td>pirates of  caribbean on stranger tides</td>\n",
       "      <td>410600000.00</td>\n",
       "      <td>1045663872.00</td>\n",
       "      <td>635063872.00</td>\n",
       "      <td>1.55</td>\n",
       "      <td>2011</td>\n",
       "      <td>BV</td>\n",
       "      <td>tt1298650</td>\n",
       "      <td>136.00</td>\n",
       "      <td>Action,Adventure,Fantasy</td>\n",
       "    </tr>\n",
       "    <tr>\n",
       "      <th>2</th>\n",
       "      <td>dark phoenix</td>\n",
       "      <td>350000000.00</td>\n",
       "      <td>149762352.00</td>\n",
       "      <td>-200237648.00</td>\n",
       "      <td>-0.57</td>\n",
       "      <td>2019</td>\n",
       "      <td>Unknown</td>\n",
       "      <td>tt6565702</td>\n",
       "      <td>113.00</td>\n",
       "      <td>Action,Adventure,Sci-Fi</td>\n",
       "    </tr>\n",
       "    <tr>\n",
       "      <th>3</th>\n",
       "      <td>avengers age of ultron</td>\n",
       "      <td>330600000.00</td>\n",
       "      <td>1403014016.00</td>\n",
       "      <td>1072414016.00</td>\n",
       "      <td>3.24</td>\n",
       "      <td>2015</td>\n",
       "      <td>BV</td>\n",
       "      <td>tt2395427</td>\n",
       "      <td>141.00</td>\n",
       "      <td>Action,Adventure,Sci-Fi</td>\n",
       "    </tr>\n",
       "    <tr>\n",
       "      <th>4</th>\n",
       "      <td>star wars ep viii  last jedi</td>\n",
       "      <td>317000000.00</td>\n",
       "      <td>1316721792.00</td>\n",
       "      <td>999721792.00</td>\n",
       "      <td>3.15</td>\n",
       "      <td>2017</td>\n",
       "      <td>Unknown</td>\n",
       "      <td>Unknown</td>\n",
       "      <td>nan</td>\n",
       "      <td>Unknown</td>\n",
       "    </tr>\n",
       "  </tbody>\n",
       "</table>\n",
       "</div>"
      ],
      "text/plain": [
       "                                     title  production_budget  \\\n",
       "0                                   avatar       425000000.00   \n",
       "1  pirates of  caribbean on stranger tides       410600000.00   \n",
       "2                             dark phoenix       350000000.00   \n",
       "3                   avengers age of ultron       330600000.00   \n",
       "4             star wars ep viii  last jedi       317000000.00   \n",
       "\n",
       "   worldwide_gross           net  ratio  year   studio     tconst  \\\n",
       "0    2776345344.00 2351345344.00   5.53  2009  Unknown    Unknown   \n",
       "1    1045663872.00  635063872.00   1.55  2011       BV  tt1298650   \n",
       "2     149762352.00 -200237648.00  -0.57  2019  Unknown  tt6565702   \n",
       "3    1403014016.00 1072414016.00   3.24  2015       BV  tt2395427   \n",
       "4    1316721792.00  999721792.00   3.15  2017  Unknown    Unknown   \n",
       "\n",
       "   runtime_minutes                    genres  \n",
       "0              nan                   Unknown  \n",
       "1           136.00  Action,Adventure,Fantasy  \n",
       "2           113.00   Action,Adventure,Sci-Fi  \n",
       "3           141.00   Action,Adventure,Sci-Fi  \n",
       "4              nan                   Unknown  "
      ]
     },
     "execution_count": 23,
     "metadata": {},
     "output_type": "execute_result"
    }
   ],
   "source": [
    "merged_df2.head()"
   ]
  },
  {
   "cell_type": "code",
   "execution_count": null,
   "metadata": {},
   "outputs": [],
   "source": [
    "\n",
    "bom_20 = bom_gross.loc[(bom_gross.domestic_gross >= bom_gross.domestic_gross.quantile(.8)) \n",
    "             | (bom_gross.foreign_gross >= bom_gross.foreign_gross.quantile(.8))]"
   ]
  },
  {
   "cell_type": "code",
   "execution_count": 27,
   "metadata": {},
   "outputs": [
    {
     "data": {
      "text/plain": [
       "array(['2009', '2011', '2019', '2015', '2017', '2018', '2007', '2012',\n",
       "       '2013', '2010', '2016', '2014', '2006', '2008', '2005', '1997',\n",
       "       '2004', '1999', '1995', '2003', '2001', '2020', '2002', '1998',\n",
       "       '2000', '1991', '1994', '1996', '1993', '1992', '1988', '1990',\n",
       "       '1989', '1978', '1981', '1984', '1982', '1985', '1980', '1963',\n",
       "       '1987', '1986', '1983', '1979', '1977', '1970', '1969', '1976',\n",
       "       '1965', '1962', '1964', '1959', '1966', '1974', '1956', '1975',\n",
       "       '1973', '1960', '1967', '1968', '1971', '1951', '1972', '1961',\n",
       "       '1946', '1944', '1953', '1954', '1957', '1952', '1930', '1939',\n",
       "       '1925', '1950', '1948', '1958', '1943', '1940', '1945', '1947',\n",
       "       '1938', '1927', '1949', '1955', '1936', '1937', '1941', '1942',\n",
       "       '1933', '1935', '1931', '1916', '1929', '1934', '1915', '1920'],\n",
       "      dtype=object)"
      ]
     },
     "execution_count": 27,
     "metadata": {},
     "output_type": "execute_result"
    }
   ],
   "source": [
    "merged_df2.year.unique()"
   ]
  },
  {
   "cell_type": "code",
   "execution_count": 28,
   "metadata": {},
   "outputs": [],
   "source": [
    "merged_df2['year'] = merged_df2['year'].astype(int)"
   ]
  },
  {
   "cell_type": "code",
   "execution_count": 32,
   "metadata": {},
   "outputs": [
    {
     "name": "stdout",
     "output_type": "stream",
     "text": [
      "<class 'pandas.core.frame.DataFrame'>\n",
      "Int64Index: 5846 entries, 0 to 5845\n",
      "Data columns (total 10 columns):\n",
      "title                5846 non-null object\n",
      "production_budget    5846 non-null float32\n",
      "worldwide_gross      5846 non-null float32\n",
      "net                  5846 non-null float64\n",
      "ratio                5846 non-null float64\n",
      "year                 5846 non-null int32\n",
      "studio               5846 non-null object\n",
      "tconst               5846 non-null object\n",
      "runtime_minutes      1596 non-null float64\n",
      "genres               5846 non-null object\n",
      "dtypes: float32(2), float64(3), int32(1), object(4)\n",
      "memory usage: 433.9+ KB\n"
     ]
    }
   ],
   "source": [
    "merged_df2.info()"
   ]
  },
  {
   "cell_type": "code",
   "execution_count": 33,
   "metadata": {},
   "outputs": [],
   "source": [
    "merged_df2 = merged_df2.loc[merged_df2.year >= 2010]"
   ]
  },
  {
   "cell_type": "code",
   "execution_count": 37,
   "metadata": {},
   "outputs": [
    {
     "name": "stderr",
     "output_type": "stream",
     "text": [
      "C:\\Users\\Rocio\\Anaconda3\\lib\\site-packages\\ipykernel_launcher.py:1: SettingWithCopyWarning: \n",
      "A value is trying to be set on a copy of a slice from a DataFrame.\n",
      "Try using .loc[row_indexer,col_indexer] = value instead\n",
      "\n",
      "See the caveats in the documentation: http://pandas.pydata.org/pandas-docs/stable/indexing.html#indexing-view-versus-copy\n",
      "  \"\"\"Entry point for launching an IPython kernel.\n"
     ]
    }
   ],
   "source": [
    "merged_df2['year'] = merged_df2['year'].astype(str)"
   ]
  },
  {
   "cell_type": "code",
   "execution_count": 39,
   "metadata": {
    "scrolled": true
   },
   "outputs": [
    {
     "data": {
      "text/html": [
       "<div>\n",
       "<style scoped>\n",
       "    .dataframe tbody tr th:only-of-type {\n",
       "        vertical-align: middle;\n",
       "    }\n",
       "\n",
       "    .dataframe tbody tr th {\n",
       "        vertical-align: top;\n",
       "    }\n",
       "\n",
       "    .dataframe thead th {\n",
       "        text-align: right;\n",
       "    }\n",
       "</style>\n",
       "<table border=\"1\" class=\"dataframe\">\n",
       "  <thead>\n",
       "    <tr style=\"text-align: right;\">\n",
       "      <th></th>\n",
       "      <th>title</th>\n",
       "      <th>production_budget</th>\n",
       "      <th>worldwide_gross</th>\n",
       "      <th>net</th>\n",
       "      <th>ratio</th>\n",
       "      <th>year</th>\n",
       "      <th>studio</th>\n",
       "      <th>tconst</th>\n",
       "      <th>runtime_minutes</th>\n",
       "      <th>genres</th>\n",
       "    </tr>\n",
       "  </thead>\n",
       "  <tbody>\n",
       "    <tr>\n",
       "      <th>1</th>\n",
       "      <td>pirates of  caribbean on stranger tides</td>\n",
       "      <td>410600000.00</td>\n",
       "      <td>1045663872.00</td>\n",
       "      <td>635063872.00</td>\n",
       "      <td>1.55</td>\n",
       "      <td>2011</td>\n",
       "      <td>BV</td>\n",
       "      <td>tt1298650</td>\n",
       "      <td>136.00</td>\n",
       "      <td>Action,Adventure,Fantasy</td>\n",
       "    </tr>\n",
       "    <tr>\n",
       "      <th>2</th>\n",
       "      <td>dark phoenix</td>\n",
       "      <td>350000000.00</td>\n",
       "      <td>149762352.00</td>\n",
       "      <td>-200237648.00</td>\n",
       "      <td>-0.57</td>\n",
       "      <td>2019</td>\n",
       "      <td>Unknown</td>\n",
       "      <td>tt6565702</td>\n",
       "      <td>113.00</td>\n",
       "      <td>Action,Adventure,Sci-Fi</td>\n",
       "    </tr>\n",
       "    <tr>\n",
       "      <th>3</th>\n",
       "      <td>avengers age of ultron</td>\n",
       "      <td>330600000.00</td>\n",
       "      <td>1403014016.00</td>\n",
       "      <td>1072414016.00</td>\n",
       "      <td>3.24</td>\n",
       "      <td>2015</td>\n",
       "      <td>BV</td>\n",
       "      <td>tt2395427</td>\n",
       "      <td>141.00</td>\n",
       "      <td>Action,Adventure,Sci-Fi</td>\n",
       "    </tr>\n",
       "    <tr>\n",
       "      <th>4</th>\n",
       "      <td>star wars ep viii  last jedi</td>\n",
       "      <td>317000000.00</td>\n",
       "      <td>1316721792.00</td>\n",
       "      <td>999721792.00</td>\n",
       "      <td>3.15</td>\n",
       "      <td>2017</td>\n",
       "      <td>Unknown</td>\n",
       "      <td>Unknown</td>\n",
       "      <td>nan</td>\n",
       "      <td>Unknown</td>\n",
       "    </tr>\n",
       "    <tr>\n",
       "      <th>5</th>\n",
       "      <td>star wars ep vii  force awakens</td>\n",
       "      <td>306000000.00</td>\n",
       "      <td>2053311232.00</td>\n",
       "      <td>1747311232.00</td>\n",
       "      <td>5.71</td>\n",
       "      <td>2015</td>\n",
       "      <td>Unknown</td>\n",
       "      <td>Unknown</td>\n",
       "      <td>nan</td>\n",
       "      <td>Unknown</td>\n",
       "    </tr>\n",
       "  </tbody>\n",
       "</table>\n",
       "</div>"
      ],
      "text/plain": [
       "                                     title  production_budget  \\\n",
       "1  pirates of  caribbean on stranger tides       410600000.00   \n",
       "2                             dark phoenix       350000000.00   \n",
       "3                   avengers age of ultron       330600000.00   \n",
       "4             star wars ep viii  last jedi       317000000.00   \n",
       "5          star wars ep vii  force awakens       306000000.00   \n",
       "\n",
       "   worldwide_gross           net  ratio  year   studio     tconst  \\\n",
       "1    1045663872.00  635063872.00   1.55  2011       BV  tt1298650   \n",
       "2     149762352.00 -200237648.00  -0.57  2019  Unknown  tt6565702   \n",
       "3    1403014016.00 1072414016.00   3.24  2015       BV  tt2395427   \n",
       "4    1316721792.00  999721792.00   3.15  2017  Unknown    Unknown   \n",
       "5    2053311232.00 1747311232.00   5.71  2015  Unknown    Unknown   \n",
       "\n",
       "   runtime_minutes                    genres  \n",
       "1           136.00  Action,Adventure,Fantasy  \n",
       "2           113.00   Action,Adventure,Sci-Fi  \n",
       "3           141.00   Action,Adventure,Sci-Fi  \n",
       "4              nan                   Unknown  \n",
       "5              nan                   Unknown  "
      ]
     },
     "execution_count": 39,
     "metadata": {},
     "output_type": "execute_result"
    }
   ],
   "source": [
    "merged_df2.head()"
   ]
  },
  {
   "cell_type": "code",
   "execution_count": 68,
   "metadata": {},
   "outputs": [],
   "source": [
    "studio_ratio_mean = merged_df2.groupby(['studio']).ratio.mean()"
   ]
  },
  {
   "cell_type": "code",
   "execution_count": 69,
   "metadata": {},
   "outputs": [
    {
     "data": {
      "text/plain": [
       "studio\n",
       "WB (NL)    15.12\n",
       "UTV        10.13\n",
       "FD          8.94\n",
       "Orch.       8.54\n",
       "GrtIndia    7.78\n",
       "BH Tilt     6.03\n",
       "Uni.        5.54\n",
       "Par.        5.13\n",
       "MBox        4.88\n",
       "A24         4.71\n",
       "TriS        4.54\n",
       "ParV        4.48\n",
       "PNT         4.28\n",
       "Eros        3.99\n",
       "Wein.       3.44\n",
       "FoxS        3.40\n",
       "LGF         3.20\n",
       "Affirm      3.04\n",
       "W/Dim.      2.98\n",
       "CJ          2.87\n",
       "Name: ratio, dtype: float64"
      ]
     },
     "execution_count": 69,
     "metadata": {},
     "output_type": "execute_result"
    }
   ],
   "source": [
    "studio_ratio_mean.sort_values(ascending=False)[:20]"
   ]
  },
  {
   "cell_type": "code",
   "execution_count": 70,
   "metadata": {},
   "outputs": [],
   "source": [
    "studio_ratio_median = merged_df2.groupby(['studio']).ratio.median()"
   ]
  },
  {
   "cell_type": "code",
   "execution_count": 71,
   "metadata": {
    "scrolled": false
   },
   "outputs": [
    {
     "data": {
      "text/plain": [
       "studio\n",
       "Orch.      8.54\n",
       "GrtIndia   7.78\n",
       "UTV        5.66\n",
       "PNT        5.26\n",
       "MBox       4.88\n",
       "TriS       3.46\n",
       "Eros       3.37\n",
       "BH Tilt    3.12\n",
       "Affirm     3.04\n",
       "CJ         2.87\n",
       "PFR        2.66\n",
       "P/DW       2.63\n",
       "WB (NL)    2.57\n",
       "W/Dim.     2.49\n",
       "3D         2.30\n",
       "BV         2.28\n",
       "Uni.       2.15\n",
       "SGem       1.92\n",
       "Fox        1.81\n",
       "A24        1.78\n",
       "Name: ratio, dtype: float64"
      ]
     },
     "execution_count": 71,
     "metadata": {},
     "output_type": "execute_result"
    }
   ],
   "source": [
    "studio_ratio_median.sort_values(ascending=False)[:20]"
   ]
  },
  {
   "cell_type": "code",
   "execution_count": 72,
   "metadata": {
    "scrolled": true
   },
   "outputs": [
    {
     "name": "stdout",
     "output_type": "stream",
     "text": [
      "<class 'pandas.core.frame.DataFrame'>\n",
      "Int64Index: 2258 entries, 1 to 5844\n",
      "Data columns (total 10 columns):\n",
      "title                2258 non-null object\n",
      "production_budget    2258 non-null float32\n",
      "worldwide_gross      2258 non-null float32\n",
      "net                  2258 non-null float64\n",
      "ratio                2258 non-null float64\n",
      "year                 2258 non-null object\n",
      "studio               2258 non-null object\n",
      "tconst               2258 non-null object\n",
      "runtime_minutes      1596 non-null float64\n",
      "genres               2258 non-null object\n",
      "dtypes: float32(2), float64(3), object(5)\n",
      "memory usage: 176.4+ KB\n"
     ]
    }
   ],
   "source": [
    "merged_df2.info()"
   ]
  },
  {
   "cell_type": "code",
   "execution_count": 80,
   "metadata": {},
   "outputs": [
    {
     "data": {
      "text/html": [
       "<div>\n",
       "<style scoped>\n",
       "    .dataframe tbody tr th:only-of-type {\n",
       "        vertical-align: middle;\n",
       "    }\n",
       "\n",
       "    .dataframe tbody tr th {\n",
       "        vertical-align: top;\n",
       "    }\n",
       "\n",
       "    .dataframe thead th {\n",
       "        text-align: right;\n",
       "    }\n",
       "</style>\n",
       "<table border=\"1\" class=\"dataframe\">\n",
       "  <thead>\n",
       "    <tr style=\"text-align: right;\">\n",
       "      <th></th>\n",
       "      <th>nconst</th>\n",
       "      <th>primary_name</th>\n",
       "      <th>birth_year</th>\n",
       "      <th>death_year</th>\n",
       "      <th>primary_profession</th>\n",
       "      <th>known_for_titles</th>\n",
       "    </tr>\n",
       "  </thead>\n",
       "  <tbody>\n",
       "    <tr>\n",
       "      <th>0</th>\n",
       "      <td>nm0061671</td>\n",
       "      <td>Mary Ellen Bauder</td>\n",
       "      <td>nan</td>\n",
       "      <td>nan</td>\n",
       "      <td>miscellaneous,production_manager,producer</td>\n",
       "      <td>tt0837562,tt2398241,tt0844471,tt0118553</td>\n",
       "    </tr>\n",
       "    <tr>\n",
       "      <th>1</th>\n",
       "      <td>nm0061865</td>\n",
       "      <td>Joseph Bauer</td>\n",
       "      <td>nan</td>\n",
       "      <td>nan</td>\n",
       "      <td>composer,music_department,sound_department</td>\n",
       "      <td>tt0896534,tt6791238,tt0287072,tt1682940</td>\n",
       "    </tr>\n",
       "    <tr>\n",
       "      <th>2</th>\n",
       "      <td>nm0062070</td>\n",
       "      <td>Bruce Baum</td>\n",
       "      <td>nan</td>\n",
       "      <td>nan</td>\n",
       "      <td>miscellaneous,actor,writer</td>\n",
       "      <td>tt1470654,tt0363631,tt0104030,tt0102898</td>\n",
       "    </tr>\n",
       "    <tr>\n",
       "      <th>3</th>\n",
       "      <td>nm0062195</td>\n",
       "      <td>Axel Baumann</td>\n",
       "      <td>nan</td>\n",
       "      <td>nan</td>\n",
       "      <td>camera_department,cinematographer,art_department</td>\n",
       "      <td>tt0114371,tt2004304,tt1618448,tt1224387</td>\n",
       "    </tr>\n",
       "    <tr>\n",
       "      <th>4</th>\n",
       "      <td>nm0062798</td>\n",
       "      <td>Pete Baxter</td>\n",
       "      <td>nan</td>\n",
       "      <td>nan</td>\n",
       "      <td>production_designer,art_department,set_decorator</td>\n",
       "      <td>tt0452644,tt0452692,tt3458030,tt2178256</td>\n",
       "    </tr>\n",
       "  </tbody>\n",
       "</table>\n",
       "</div>"
      ],
      "text/plain": [
       "      nconst       primary_name  birth_year  death_year  \\\n",
       "0  nm0061671  Mary Ellen Bauder         nan         nan   \n",
       "1  nm0061865       Joseph Bauer         nan         nan   \n",
       "2  nm0062070         Bruce Baum         nan         nan   \n",
       "3  nm0062195       Axel Baumann         nan         nan   \n",
       "4  nm0062798        Pete Baxter         nan         nan   \n",
       "\n",
       "                                 primary_profession  \\\n",
       "0         miscellaneous,production_manager,producer   \n",
       "1        composer,music_department,sound_department   \n",
       "2                        miscellaneous,actor,writer   \n",
       "3  camera_department,cinematographer,art_department   \n",
       "4  production_designer,art_department,set_decorator   \n",
       "\n",
       "                          known_for_titles  \n",
       "0  tt0837562,tt2398241,tt0844471,tt0118553  \n",
       "1  tt0896534,tt6791238,tt0287072,tt1682940  \n",
       "2  tt1470654,tt0363631,tt0104030,tt0102898  \n",
       "3  tt0114371,tt2004304,tt1618448,tt1224387  \n",
       "4  tt0452644,tt0452692,tt3458030,tt2178256  "
      ]
     },
     "execution_count": 80,
     "metadata": {},
     "output_type": "execute_result"
    }
   ],
   "source": [
    "imbd_name.head()"
   ]
  },
  {
   "cell_type": "code",
   "execution_count": 82,
   "metadata": {},
   "outputs": [
    {
     "data": {
      "text/html": [
       "<div>\n",
       "<style scoped>\n",
       "    .dataframe tbody tr th:only-of-type {\n",
       "        vertical-align: middle;\n",
       "    }\n",
       "\n",
       "    .dataframe tbody tr th {\n",
       "        vertical-align: top;\n",
       "    }\n",
       "\n",
       "    .dataframe thead th {\n",
       "        text-align: right;\n",
       "    }\n",
       "</style>\n",
       "<table border=\"1\" class=\"dataframe\">\n",
       "  <thead>\n",
       "    <tr style=\"text-align: right;\">\n",
       "      <th></th>\n",
       "      <th>tconst</th>\n",
       "      <th>ordering</th>\n",
       "      <th>nconst</th>\n",
       "      <th>category</th>\n",
       "      <th>job</th>\n",
       "      <th>characters</th>\n",
       "    </tr>\n",
       "  </thead>\n",
       "  <tbody>\n",
       "    <tr>\n",
       "      <th>0</th>\n",
       "      <td>tt0111414</td>\n",
       "      <td>1</td>\n",
       "      <td>nm0246005</td>\n",
       "      <td>actor</td>\n",
       "      <td>NaN</td>\n",
       "      <td>[\"The Man\"]</td>\n",
       "    </tr>\n",
       "    <tr>\n",
       "      <th>1</th>\n",
       "      <td>tt0111414</td>\n",
       "      <td>2</td>\n",
       "      <td>nm0398271</td>\n",
       "      <td>director</td>\n",
       "      <td>NaN</td>\n",
       "      <td>NaN</td>\n",
       "    </tr>\n",
       "    <tr>\n",
       "      <th>2</th>\n",
       "      <td>tt0111414</td>\n",
       "      <td>3</td>\n",
       "      <td>nm3739909</td>\n",
       "      <td>producer</td>\n",
       "      <td>producer</td>\n",
       "      <td>NaN</td>\n",
       "    </tr>\n",
       "    <tr>\n",
       "      <th>3</th>\n",
       "      <td>tt0323808</td>\n",
       "      <td>10</td>\n",
       "      <td>nm0059247</td>\n",
       "      <td>editor</td>\n",
       "      <td>NaN</td>\n",
       "      <td>NaN</td>\n",
       "    </tr>\n",
       "    <tr>\n",
       "      <th>4</th>\n",
       "      <td>tt0323808</td>\n",
       "      <td>1</td>\n",
       "      <td>nm3579312</td>\n",
       "      <td>actress</td>\n",
       "      <td>NaN</td>\n",
       "      <td>[\"Beth Boothby\"]</td>\n",
       "    </tr>\n",
       "  </tbody>\n",
       "</table>\n",
       "</div>"
      ],
      "text/plain": [
       "      tconst  ordering     nconst  category       job        characters\n",
       "0  tt0111414         1  nm0246005     actor       NaN       [\"The Man\"]\n",
       "1  tt0111414         2  nm0398271  director       NaN               NaN\n",
       "2  tt0111414         3  nm3739909  producer  producer               NaN\n",
       "3  tt0323808        10  nm0059247    editor       NaN               NaN\n",
       "4  tt0323808         1  nm3579312   actress       NaN  [\"Beth Boothby\"]"
      ]
     },
     "execution_count": 82,
     "metadata": {},
     "output_type": "execute_result"
    }
   ],
   "source": [
    "imbd_principals.head()"
   ]
  },
  {
   "cell_type": "code",
   "execution_count": 83,
   "metadata": {},
   "outputs": [],
   "source": [
    "imbd_name_prin = pd.merge(imbd_principals, imbd_name, on = [\"nconst\"], how = \"left\")"
   ]
  },
  {
   "cell_type": "code",
   "execution_count": 86,
   "metadata": {},
   "outputs": [],
   "source": [
    "imbd_name_prin = imbd_name_prin.drop(columns = ['ordering', 'nconst', \n",
    "                               'job', 'characters', 'birth_year', 'death_year', \n",
    "                               'primary_profession', 'known_for_titles'])"
   ]
  },
  {
   "cell_type": "code",
   "execution_count": 90,
   "metadata": {},
   "outputs": [],
   "source": [
    "directors = imbd_name_prin.loc[imbd_name_prin.category == 'director']"
   ]
  },
  {
   "cell_type": "code",
   "execution_count": 91,
   "metadata": {},
   "outputs": [
    {
     "data": {
      "text/html": [
       "<div>\n",
       "<style scoped>\n",
       "    .dataframe tbody tr th:only-of-type {\n",
       "        vertical-align: middle;\n",
       "    }\n",
       "\n",
       "    .dataframe tbody tr th {\n",
       "        vertical-align: top;\n",
       "    }\n",
       "\n",
       "    .dataframe thead th {\n",
       "        text-align: right;\n",
       "    }\n",
       "</style>\n",
       "<table border=\"1\" class=\"dataframe\">\n",
       "  <thead>\n",
       "    <tr style=\"text-align: right;\">\n",
       "      <th></th>\n",
       "      <th>title</th>\n",
       "      <th>production_budget</th>\n",
       "      <th>worldwide_gross</th>\n",
       "      <th>net</th>\n",
       "      <th>ratio</th>\n",
       "      <th>year</th>\n",
       "      <th>studio</th>\n",
       "      <th>tconst</th>\n",
       "      <th>runtime_minutes</th>\n",
       "      <th>genres</th>\n",
       "    </tr>\n",
       "  </thead>\n",
       "  <tbody>\n",
       "    <tr>\n",
       "      <th>1</th>\n",
       "      <td>pirates of  caribbean on stranger tides</td>\n",
       "      <td>410600000.00</td>\n",
       "      <td>1045663872.00</td>\n",
       "      <td>635063872.00</td>\n",
       "      <td>1.55</td>\n",
       "      <td>2011</td>\n",
       "      <td>BV</td>\n",
       "      <td>tt1298650</td>\n",
       "      <td>136.00</td>\n",
       "      <td>Action,Adventure,Fantasy</td>\n",
       "    </tr>\n",
       "    <tr>\n",
       "      <th>2</th>\n",
       "      <td>dark phoenix</td>\n",
       "      <td>350000000.00</td>\n",
       "      <td>149762352.00</td>\n",
       "      <td>-200237648.00</td>\n",
       "      <td>-0.57</td>\n",
       "      <td>2019</td>\n",
       "      <td>Unknown</td>\n",
       "      <td>tt6565702</td>\n",
       "      <td>113.00</td>\n",
       "      <td>Action,Adventure,Sci-Fi</td>\n",
       "    </tr>\n",
       "    <tr>\n",
       "      <th>3</th>\n",
       "      <td>avengers age of ultron</td>\n",
       "      <td>330600000.00</td>\n",
       "      <td>1403014016.00</td>\n",
       "      <td>1072414016.00</td>\n",
       "      <td>3.24</td>\n",
       "      <td>2015</td>\n",
       "      <td>BV</td>\n",
       "      <td>tt2395427</td>\n",
       "      <td>141.00</td>\n",
       "      <td>Action,Adventure,Sci-Fi</td>\n",
       "    </tr>\n",
       "    <tr>\n",
       "      <th>4</th>\n",
       "      <td>star wars ep viii  last jedi</td>\n",
       "      <td>317000000.00</td>\n",
       "      <td>1316721792.00</td>\n",
       "      <td>999721792.00</td>\n",
       "      <td>3.15</td>\n",
       "      <td>2017</td>\n",
       "      <td>Unknown</td>\n",
       "      <td>Unknown</td>\n",
       "      <td>nan</td>\n",
       "      <td>Unknown</td>\n",
       "    </tr>\n",
       "    <tr>\n",
       "      <th>5</th>\n",
       "      <td>star wars ep vii  force awakens</td>\n",
       "      <td>306000000.00</td>\n",
       "      <td>2053311232.00</td>\n",
       "      <td>1747311232.00</td>\n",
       "      <td>5.71</td>\n",
       "      <td>2015</td>\n",
       "      <td>Unknown</td>\n",
       "      <td>Unknown</td>\n",
       "      <td>nan</td>\n",
       "      <td>Unknown</td>\n",
       "    </tr>\n",
       "  </tbody>\n",
       "</table>\n",
       "</div>"
      ],
      "text/plain": [
       "                                     title  production_budget  \\\n",
       "1  pirates of  caribbean on stranger tides       410600000.00   \n",
       "2                             dark phoenix       350000000.00   \n",
       "3                   avengers age of ultron       330600000.00   \n",
       "4             star wars ep viii  last jedi       317000000.00   \n",
       "5          star wars ep vii  force awakens       306000000.00   \n",
       "\n",
       "   worldwide_gross           net  ratio  year   studio     tconst  \\\n",
       "1    1045663872.00  635063872.00   1.55  2011       BV  tt1298650   \n",
       "2     149762352.00 -200237648.00  -0.57  2019  Unknown  tt6565702   \n",
       "3    1403014016.00 1072414016.00   3.24  2015       BV  tt2395427   \n",
       "4    1316721792.00  999721792.00   3.15  2017  Unknown    Unknown   \n",
       "5    2053311232.00 1747311232.00   5.71  2015  Unknown    Unknown   \n",
       "\n",
       "   runtime_minutes                    genres  \n",
       "1           136.00  Action,Adventure,Fantasy  \n",
       "2           113.00   Action,Adventure,Sci-Fi  \n",
       "3           141.00   Action,Adventure,Sci-Fi  \n",
       "4              nan                   Unknown  \n",
       "5              nan                   Unknown  "
      ]
     },
     "execution_count": 91,
     "metadata": {},
     "output_type": "execute_result"
    }
   ],
   "source": [
    "merged_df2.head()"
   ]
  },
  {
   "cell_type": "code",
   "execution_count": 93,
   "metadata": {},
   "outputs": [],
   "source": [
    "merged_df3 = pd.merge(merged_df2, directors, on = [\"tconst\"], how = \"left\")"
   ]
  },
  {
   "cell_type": "code",
   "execution_count": 95,
   "metadata": {},
   "outputs": [],
   "source": [
    "merged_df3 = merged_df3.drop(columns = 'category')\n",
    "merged_df3 = merged_df3.rename(columns = {'primary_name': 'director'})"
   ]
  },
  {
   "cell_type": "code",
   "execution_count": 96,
   "metadata": {
    "scrolled": true
   },
   "outputs": [
    {
     "data": {
      "text/html": [
       "<div>\n",
       "<style scoped>\n",
       "    .dataframe tbody tr th:only-of-type {\n",
       "        vertical-align: middle;\n",
       "    }\n",
       "\n",
       "    .dataframe tbody tr th {\n",
       "        vertical-align: top;\n",
       "    }\n",
       "\n",
       "    .dataframe thead th {\n",
       "        text-align: right;\n",
       "    }\n",
       "</style>\n",
       "<table border=\"1\" class=\"dataframe\">\n",
       "  <thead>\n",
       "    <tr style=\"text-align: right;\">\n",
       "      <th></th>\n",
       "      <th>title</th>\n",
       "      <th>production_budget</th>\n",
       "      <th>worldwide_gross</th>\n",
       "      <th>net</th>\n",
       "      <th>ratio</th>\n",
       "      <th>year</th>\n",
       "      <th>studio</th>\n",
       "      <th>tconst</th>\n",
       "      <th>runtime_minutes</th>\n",
       "      <th>genres</th>\n",
       "      <th>director</th>\n",
       "    </tr>\n",
       "  </thead>\n",
       "  <tbody>\n",
       "    <tr>\n",
       "      <th>0</th>\n",
       "      <td>pirates of  caribbean on stranger tides</td>\n",
       "      <td>410600000.00</td>\n",
       "      <td>1045663872.00</td>\n",
       "      <td>635063872.00</td>\n",
       "      <td>1.55</td>\n",
       "      <td>2011</td>\n",
       "      <td>BV</td>\n",
       "      <td>tt1298650</td>\n",
       "      <td>136.00</td>\n",
       "      <td>Action,Adventure,Fantasy</td>\n",
       "      <td>Rob Marshall</td>\n",
       "    </tr>\n",
       "    <tr>\n",
       "      <th>1</th>\n",
       "      <td>dark phoenix</td>\n",
       "      <td>350000000.00</td>\n",
       "      <td>149762352.00</td>\n",
       "      <td>-200237648.00</td>\n",
       "      <td>-0.57</td>\n",
       "      <td>2019</td>\n",
       "      <td>Unknown</td>\n",
       "      <td>tt6565702</td>\n",
       "      <td>113.00</td>\n",
       "      <td>Action,Adventure,Sci-Fi</td>\n",
       "      <td>Simon Kinberg</td>\n",
       "    </tr>\n",
       "    <tr>\n",
       "      <th>2</th>\n",
       "      <td>avengers age of ultron</td>\n",
       "      <td>330600000.00</td>\n",
       "      <td>1403014016.00</td>\n",
       "      <td>1072414016.00</td>\n",
       "      <td>3.24</td>\n",
       "      <td>2015</td>\n",
       "      <td>BV</td>\n",
       "      <td>tt2395427</td>\n",
       "      <td>141.00</td>\n",
       "      <td>Action,Adventure,Sci-Fi</td>\n",
       "      <td>Joss Whedon</td>\n",
       "    </tr>\n",
       "    <tr>\n",
       "      <th>3</th>\n",
       "      <td>star wars ep viii  last jedi</td>\n",
       "      <td>317000000.00</td>\n",
       "      <td>1316721792.00</td>\n",
       "      <td>999721792.00</td>\n",
       "      <td>3.15</td>\n",
       "      <td>2017</td>\n",
       "      <td>Unknown</td>\n",
       "      <td>Unknown</td>\n",
       "      <td>nan</td>\n",
       "      <td>Unknown</td>\n",
       "      <td>NaN</td>\n",
       "    </tr>\n",
       "    <tr>\n",
       "      <th>4</th>\n",
       "      <td>star wars ep vii  force awakens</td>\n",
       "      <td>306000000.00</td>\n",
       "      <td>2053311232.00</td>\n",
       "      <td>1747311232.00</td>\n",
       "      <td>5.71</td>\n",
       "      <td>2015</td>\n",
       "      <td>Unknown</td>\n",
       "      <td>Unknown</td>\n",
       "      <td>nan</td>\n",
       "      <td>Unknown</td>\n",
       "      <td>NaN</td>\n",
       "    </tr>\n",
       "  </tbody>\n",
       "</table>\n",
       "</div>"
      ],
      "text/plain": [
       "                                     title  production_budget  \\\n",
       "0  pirates of  caribbean on stranger tides       410600000.00   \n",
       "1                             dark phoenix       350000000.00   \n",
       "2                   avengers age of ultron       330600000.00   \n",
       "3             star wars ep viii  last jedi       317000000.00   \n",
       "4          star wars ep vii  force awakens       306000000.00   \n",
       "\n",
       "   worldwide_gross           net  ratio  year   studio     tconst  \\\n",
       "0    1045663872.00  635063872.00   1.55  2011       BV  tt1298650   \n",
       "1     149762352.00 -200237648.00  -0.57  2019  Unknown  tt6565702   \n",
       "2    1403014016.00 1072414016.00   3.24  2015       BV  tt2395427   \n",
       "3    1316721792.00  999721792.00   3.15  2017  Unknown    Unknown   \n",
       "4    2053311232.00 1747311232.00   5.71  2015  Unknown    Unknown   \n",
       "\n",
       "   runtime_minutes                    genres       director  \n",
       "0           136.00  Action,Adventure,Fantasy   Rob Marshall  \n",
       "1           113.00   Action,Adventure,Sci-Fi  Simon Kinberg  \n",
       "2           141.00   Action,Adventure,Sci-Fi    Joss Whedon  \n",
       "3              nan                   Unknown            NaN  \n",
       "4              nan                   Unknown            NaN  "
      ]
     },
     "execution_count": 96,
     "metadata": {},
     "output_type": "execute_result"
    }
   ],
   "source": [
    "merged_df3.head()"
   ]
  },
  {
   "cell_type": "code",
   "execution_count": 97,
   "metadata": {},
   "outputs": [],
   "source": [
    "merged_df3['director'] = merged_df3.director.fillna('Not listed')"
   ]
  },
  {
   "cell_type": "code",
   "execution_count": 99,
   "metadata": {},
   "outputs": [],
   "source": [
    "producers = imbd_name_prin.loc[imbd_name_prin.category == 'producer']"
   ]
  },
  {
   "cell_type": "code",
   "execution_count": 101,
   "metadata": {},
   "outputs": [],
   "source": [
    "producers = producers.rename(columns = {'primary_name': 'producer'})"
   ]
  },
  {
   "cell_type": "code",
   "execution_count": 102,
   "metadata": {},
   "outputs": [],
   "source": [
    "producers = producers.drop(columns = 'category')"
   ]
  },
  {
   "cell_type": "code",
   "execution_count": 104,
   "metadata": {},
   "outputs": [],
   "source": [
    "merged_df4 = pd.merge(merged_df3, producers, on = [\"tconst\"], how = \"left\")"
   ]
  },
  {
   "cell_type": "code",
   "execution_count": 106,
   "metadata": {},
   "outputs": [],
   "source": [
    "merged_df4['producer'] = merged_df4.producer.fillna('Not listed')"
   ]
  },
  {
   "cell_type": "code",
   "execution_count": 107,
   "metadata": {
    "scrolled": false
   },
   "outputs": [
    {
     "data": {
      "text/html": [
       "<div>\n",
       "<style scoped>\n",
       "    .dataframe tbody tr th:only-of-type {\n",
       "        vertical-align: middle;\n",
       "    }\n",
       "\n",
       "    .dataframe tbody tr th {\n",
       "        vertical-align: top;\n",
       "    }\n",
       "\n",
       "    .dataframe thead th {\n",
       "        text-align: right;\n",
       "    }\n",
       "</style>\n",
       "<table border=\"1\" class=\"dataframe\">\n",
       "  <thead>\n",
       "    <tr style=\"text-align: right;\">\n",
       "      <th></th>\n",
       "      <th>title</th>\n",
       "      <th>production_budget</th>\n",
       "      <th>worldwide_gross</th>\n",
       "      <th>net</th>\n",
       "      <th>ratio</th>\n",
       "      <th>year</th>\n",
       "      <th>studio</th>\n",
       "      <th>tconst</th>\n",
       "      <th>runtime_minutes</th>\n",
       "      <th>genres</th>\n",
       "      <th>director</th>\n",
       "      <th>producer</th>\n",
       "    </tr>\n",
       "  </thead>\n",
       "  <tbody>\n",
       "    <tr>\n",
       "      <th>0</th>\n",
       "      <td>pirates of  caribbean on stranger tides</td>\n",
       "      <td>410600000.00</td>\n",
       "      <td>1045663872.00</td>\n",
       "      <td>635063872.00</td>\n",
       "      <td>1.55</td>\n",
       "      <td>2011</td>\n",
       "      <td>BV</td>\n",
       "      <td>tt1298650</td>\n",
       "      <td>136.00</td>\n",
       "      <td>Action,Adventure,Fantasy</td>\n",
       "      <td>Rob Marshall</td>\n",
       "      <td>Not listed</td>\n",
       "    </tr>\n",
       "    <tr>\n",
       "      <th>1</th>\n",
       "      <td>dark phoenix</td>\n",
       "      <td>350000000.00</td>\n",
       "      <td>149762352.00</td>\n",
       "      <td>-200237648.00</td>\n",
       "      <td>-0.57</td>\n",
       "      <td>2019</td>\n",
       "      <td>Unknown</td>\n",
       "      <td>tt6565702</td>\n",
       "      <td>113.00</td>\n",
       "      <td>Action,Adventure,Sci-Fi</td>\n",
       "      <td>Simon Kinberg</td>\n",
       "      <td>Not listed</td>\n",
       "    </tr>\n",
       "    <tr>\n",
       "      <th>2</th>\n",
       "      <td>avengers age of ultron</td>\n",
       "      <td>330600000.00</td>\n",
       "      <td>1403014016.00</td>\n",
       "      <td>1072414016.00</td>\n",
       "      <td>3.24</td>\n",
       "      <td>2015</td>\n",
       "      <td>BV</td>\n",
       "      <td>tt2395427</td>\n",
       "      <td>141.00</td>\n",
       "      <td>Action,Adventure,Sci-Fi</td>\n",
       "      <td>Joss Whedon</td>\n",
       "      <td>Kevin Feige</td>\n",
       "    </tr>\n",
       "    <tr>\n",
       "      <th>3</th>\n",
       "      <td>star wars ep viii  last jedi</td>\n",
       "      <td>317000000.00</td>\n",
       "      <td>1316721792.00</td>\n",
       "      <td>999721792.00</td>\n",
       "      <td>3.15</td>\n",
       "      <td>2017</td>\n",
       "      <td>Unknown</td>\n",
       "      <td>Unknown</td>\n",
       "      <td>nan</td>\n",
       "      <td>Unknown</td>\n",
       "      <td>Not listed</td>\n",
       "      <td>Not listed</td>\n",
       "    </tr>\n",
       "    <tr>\n",
       "      <th>4</th>\n",
       "      <td>star wars ep vii  force awakens</td>\n",
       "      <td>306000000.00</td>\n",
       "      <td>2053311232.00</td>\n",
       "      <td>1747311232.00</td>\n",
       "      <td>5.71</td>\n",
       "      <td>2015</td>\n",
       "      <td>Unknown</td>\n",
       "      <td>Unknown</td>\n",
       "      <td>nan</td>\n",
       "      <td>Unknown</td>\n",
       "      <td>Not listed</td>\n",
       "      <td>Not listed</td>\n",
       "    </tr>\n",
       "  </tbody>\n",
       "</table>\n",
       "</div>"
      ],
      "text/plain": [
       "                                     title  production_budget  \\\n",
       "0  pirates of  caribbean on stranger tides       410600000.00   \n",
       "1                             dark phoenix       350000000.00   \n",
       "2                   avengers age of ultron       330600000.00   \n",
       "3             star wars ep viii  last jedi       317000000.00   \n",
       "4          star wars ep vii  force awakens       306000000.00   \n",
       "\n",
       "   worldwide_gross           net  ratio  year   studio     tconst  \\\n",
       "0    1045663872.00  635063872.00   1.55  2011       BV  tt1298650   \n",
       "1     149762352.00 -200237648.00  -0.57  2019  Unknown  tt6565702   \n",
       "2    1403014016.00 1072414016.00   3.24  2015       BV  tt2395427   \n",
       "3    1316721792.00  999721792.00   3.15  2017  Unknown    Unknown   \n",
       "4    2053311232.00 1747311232.00   5.71  2015  Unknown    Unknown   \n",
       "\n",
       "   runtime_minutes                    genres       director     producer  \n",
       "0           136.00  Action,Adventure,Fantasy   Rob Marshall   Not listed  \n",
       "1           113.00   Action,Adventure,Sci-Fi  Simon Kinberg   Not listed  \n",
       "2           141.00   Action,Adventure,Sci-Fi    Joss Whedon  Kevin Feige  \n",
       "3              nan                   Unknown     Not listed   Not listed  \n",
       "4              nan                   Unknown     Not listed   Not listed  "
      ]
     },
     "execution_count": 107,
     "metadata": {},
     "output_type": "execute_result"
    }
   ],
   "source": [
    "merged_df4.head()"
   ]
  },
  {
   "cell_type": "code",
   "execution_count": 115,
   "metadata": {},
   "outputs": [],
   "source": [
    "director_ratio_mean = merged_df4.groupby(['director']).ratio.mean().sort_values(ascending=False)[:20]"
   ]
  },
  {
   "cell_type": "code",
   "execution_count": 116,
   "metadata": {},
   "outputs": [
    {
     "data": {
      "text/plain": [
       "director\n",
       "Chris Lofing         415.56\n",
       "Travis Cluff         415.56\n",
       "Tod Williams          58.17\n",
       "Bradley Parker        41.41\n",
       "Jordan Peele          30.89\n",
       "Nitesh Tiwari         30.02\n",
       "Jose G. Ramos         28.76\n",
       "Yun Xie               26.18\n",
       "Junshu Huang          26.18\n",
       "John R. Leonetti      26.00\n",
       "William Brent Bell    24.81\n",
       "Josh Boone            24.60\n",
       "Alex Kendrick         23.66\n",
       "Henry Joost           22.69\n",
       "Ariel Schulman        22.69\n",
       "Daniel Stamm          22.39\n",
       "Dan Trachtenberg      20.66\n",
       "David F. Sandberg     19.90\n",
       "Stiles White          19.66\n",
       "Barry Jenkins         18.59\n",
       "Name: ratio, dtype: float64"
      ]
     },
     "execution_count": 116,
     "metadata": {},
     "output_type": "execute_result"
    }
   ],
   "source": [
    "director_ratio_mean"
   ]
  },
  {
   "cell_type": "code",
   "execution_count": 117,
   "metadata": {},
   "outputs": [],
   "source": [
    "producer_ratio_mean = merged_df4.groupby(['producer']).ratio.mean().sort_values(ascending=False)[:20]"
   ]
  },
  {
   "cell_type": "code",
   "execution_count": 118,
   "metadata": {},
   "outputs": [
    {
     "data": {
      "text/plain": [
       "producer\n",
       "Benjamin Forkner     415.56\n",
       "Dean Schnider        415.56\n",
       "Guymon Casady        208.69\n",
       "Morris Paulson       100.76\n",
       "Edward H. Hamm Jr.    50.07\n",
       "Brian Witten          41.41\n",
       "Jason Blum            34.50\n",
       "Lawrence Grey         28.76\n",
       "Adam Donaghey         26.70\n",
       "Zheng Jun             26.18\n",
       "Jera Wang             26.18\n",
       "Jack Zheng            26.18\n",
       "Malek Akkad           24.49\n",
       "James Wan             22.69\n",
       "Thomas A. Bliss       21.67\n",
       "Adele Romanski        21.58\n",
       "Steven Schneider      20.68\n",
       "Lindsey Weber         20.66\n",
       "Sean McKittrick       20.46\n",
       "Oren Peli             19.41\n",
       "Name: ratio, dtype: float64"
      ]
     },
     "execution_count": 118,
     "metadata": {},
     "output_type": "execute_result"
    }
   ],
   "source": [
    "producer_ratio_mean"
   ]
  },
  {
   "cell_type": "code",
   "execution_count": 111,
   "metadata": {},
   "outputs": [
    {
     "data": {
      "text/plain": [
       "Not listed                931\n",
       "Jason Blum                 42\n",
       "Tim Bevan                  21\n",
       "Eric Fellner               19\n",
       "Scott Rudin                17\n",
       "Lorenzo di Bonaventura     16\n",
       "Peter Chernin              15\n",
       "Broderick Johnson          13\n",
       "Ryan Kavanaugh             13\n",
       "Neal H. Moritz             13\n",
       "Janet Healy                12\n",
       "Scott Stuber               12\n",
       "Andrew A. Kosove           12\n",
       "Wyck Godfrey               12\n",
       "Michael De Luca            12\n",
       "John Davis                 11\n",
       "Beau Flynn                 11\n",
       "Brian Grazer               11\n",
       "Nina Jacobson              11\n",
       "Marty Bowen                11\n",
       "Michael Bay                11\n",
       "Name: producer, dtype: int64"
      ]
     },
     "execution_count": 111,
     "metadata": {},
     "output_type": "execute_result"
    }
   ],
   "source": [
    "merged_df4.producer.value_counts()[:21]"
   ]
  },
  {
   "cell_type": "code",
   "execution_count": null,
   "metadata": {
    "scrolled": true
   },
   "outputs": [],
   "source": [
    "merged_df.head()"
   ]
  },
  {
   "cell_type": "code",
   "execution_count": null,
   "metadata": {},
   "outputs": [],
   "source": [
    "title_ids = list(merged_df.title_id.unique())"
   ]
  },
  {
   "cell_type": "code",
   "execution_count": null,
   "metadata": {},
   "outputs": [],
   "source": [
    "#Drop \"birth_year\" and \"death_year\" columns. Fill in null values with 'null'.\n",
    "imbd_name = imbd_name.drop(columns = ['birth_year', 'death_year', 'primary_profession', 'known_for_titles'])\n",
    "#imbd_name = imbd_name.fillna('null')\n",
    "\n",
    "#Turn 'primary_profession' and 'known_for_titles' from string to list\n",
    "#imbd_name['primary_profession'] = imbd_name['primary_profession'].str.split(',')\n",
    "#imbd_name['known_for_titles'] = imbd_name['known_for_titles'].str.split(',')"
   ]
  },
  {
   "cell_type": "code",
   "execution_count": null,
   "metadata": {},
   "outputs": [],
   "source": []
  },
  {
   "cell_type": "code",
   "execution_count": null,
   "metadata": {},
   "outputs": [],
   "source": [
    "imbd_basics.head()"
   ]
  },
  {
   "cell_type": "code",
   "execution_count": null,
   "metadata": {},
   "outputs": [],
   "source": [
    "imbd_basics.primary_title = imbd_basics.primary_title.str.strip()\n",
    "imbd_basics.primary_title = imbd_basics.primary_title.apply(lambda x: x.lower())\n",
    "imbd_basics.primary_title = imbd_basics.primary_title.apply(lambda x: x.translate(str.maketrans('', '', '!\"#$%&\\'()*+,-./:;<=>?@[\\\\]^_`{|}~')))\n",
    "imbd_basics.primary_title = imbd_basics.primary_title.replace(['the', 'and'], value='', regex=True)"
   ]
  },
  {
   "cell_type": "code",
   "execution_count": null,
   "metadata": {},
   "outputs": [],
   "source": [
    "imbd_basics = imbd_basics.drop(columns = ['original_title', 'runtime_minutes'])"
   ]
  },
  {
   "cell_type": "code",
   "execution_count": null,
   "metadata": {},
   "outputs": [],
   "source": [
    "imbd_basics = imbd_basics.rename(columns = {'primary_title': 'title', 'start_year': 'year'})"
   ]
  },
  {
   "cell_type": "code",
   "execution_count": null,
   "metadata": {},
   "outputs": [],
   "source": [
    "imbd_basics['year'] = imbd_basics['year'].astype(str)"
   ]
  },
  {
   "cell_type": "code",
   "execution_count": null,
   "metadata": {},
   "outputs": [],
   "source": []
  },
  {
   "cell_type": "code",
   "execution_count": null,
   "metadata": {},
   "outputs": [],
   "source": [
    "merged_df = pd.merge(bom_20, imbd_basics, on = [\"title\", 'year'], how = \"inner\")"
   ]
  },
  {
   "cell_type": "code",
   "execution_count": null,
   "metadata": {},
   "outputs": [],
   "source": [
    "merged_df.head()"
   ]
  },
  {
   "cell_type": "code",
   "execution_count": null,
   "metadata": {},
   "outputs": [],
   "source": [
    "imbd_principals = imbd_principals.drop(columns = ['ordering', 'job', 'characters'])"
   ]
  },
  {
   "cell_type": "code",
   "execution_count": null,
   "metadata": {},
   "outputs": [],
   "source": [
    "imbd_principals.head()"
   ]
  },
  {
   "cell_type": "code",
   "execution_count": null,
   "metadata": {},
   "outputs": [],
   "source": [
    "imbd_merge = pd.merge(imbd_name, imbd_principals, on = ['nconst'], how = \"outer\")"
   ]
  },
  {
   "cell_type": "code",
   "execution_count": null,
   "metadata": {},
   "outputs": [],
   "source": [
    "imbd_merge.head()"
   ]
  },
  {
   "cell_type": "code",
   "execution_count": null,
   "metadata": {},
   "outputs": [],
   "source": [
    "imbd_director = imbd_merge.rename(columns = {'nconst': 'directors', 'primary_name': 'director_name'})"
   ]
  },
  {
   "cell_type": "code",
   "execution_count": null,
   "metadata": {},
   "outputs": [],
   "source": [
    "imbd_director = imbd_director.drop(columns = 'category')"
   ]
  },
  {
   "cell_type": "code",
   "execution_count": null,
   "metadata": {},
   "outputs": [],
   "source": [
    "imbd_director"
   ]
  },
  {
   "cell_type": "code",
   "execution_count": null,
   "metadata": {},
   "outputs": [],
   "source": [
    "imbd_crews = pd.merge(imbd_crews, imbd_director, on = ['directors', 'tconst'])"
   ]
  },
  {
   "cell_type": "code",
   "execution_count": null,
   "metadata": {},
   "outputs": [],
   "source": [
    "imbd_directors = imbd_crews.drop(columns = \"writers\")"
   ]
  },
  {
   "cell_type": "code",
   "execution_count": null,
   "metadata": {},
   "outputs": [],
   "source": [
    "imbd_basics = pd.merge(imbd_basics, imbd_directors, on = 'tconst')"
   ]
  },
  {
   "cell_type": "code",
   "execution_count": null,
   "metadata": {},
   "outputs": [],
   "source": [
    "imbd_bom = pd.merge(bom_20, imbd_basics, on = ['title', 'year'], how = 'left')"
   ]
  },
  {
   "cell_type": "code",
   "execution_count": null,
   "metadata": {},
   "outputs": [],
   "source": [
    "imbd_bom.info()"
   ]
  },
  {
   "cell_type": "code",
   "execution_count": null,
   "metadata": {},
   "outputs": [],
   "source": [
    "list_dup = list(imbd_bom.loc[imbd_bom.title.duplicated() == True].title.unique())"
   ]
  },
  {
   "cell_type": "code",
   "execution_count": null,
   "metadata": {},
   "outputs": [],
   "source": [
    "imbd_bom.loc[imbd_bom.title.isin(list_dup) == True]"
   ]
  },
  {
   "cell_type": "code",
   "execution_count": null,
   "metadata": {},
   "outputs": [],
   "source": [
    "original_list = ['David F. Sandberg', 'Robert Zemeckis', 'Tom McCarthy', 'Jason Moore', 'Tim Johnson', \n",
    "               'Kenneth Branagh', 'Brad Anderson', 'John Singleton', 'Michel Hazanavicius', 'David Fincher',\n",
    "              'Steve Antin', 'Ridley Scott', 'Tim Burton']"
   ]
  },
  {
   "cell_type": "code",
   "execution_count": null,
   "metadata": {},
   "outputs": [],
   "source": [
    "imbd_bom = imbd_bom.loc[(imbd_bom.title.isin(list_dup) == False) \n",
    "             | ((imbd_bom.director_name.isin(original_list) == True) \n",
    "               & (imbd_bom.title.isin(list_dup) == True))]"
   ]
  },
  {
   "cell_type": "code",
   "execution_count": null,
   "metadata": {},
   "outputs": [],
   "source": [
    "imbd_bom.head()"
   ]
  },
  {
   "cell_type": "code",
   "execution_count": null,
   "metadata": {},
   "outputs": [],
   "source": [
    "imbd_bom.loc[(imbd_bom.director_name.duplicated() == True) & ( imbd_bom.director_name.isna() == False)].director_name.nunique()"
   ]
  },
  {
   "cell_type": "code",
   "execution_count": null,
   "metadata": {},
   "outputs": [],
   "source": [
    "imbd_principals.head()"
   ]
  },
  {
   "cell_type": "code",
   "execution_count": null,
   "metadata": {},
   "outputs": [],
   "source": [
    "imbd_actor = imbd_principals.loc[imbd_principals.category == \"actor\"]"
   ]
  },
  {
   "cell_type": "code",
   "execution_count": null,
   "metadata": {},
   "outputs": [],
   "source": [
    "imbd_name.head()"
   ]
  },
  {
   "cell_type": "code",
   "execution_count": null,
   "metadata": {},
   "outputs": [],
   "source": [
    "imbd_actor = pd.merge(imbd_actor, imbd_name, on = 'nconst', how = 'inner')"
   ]
  },
  {
   "cell_type": "code",
   "execution_count": null,
   "metadata": {},
   "outputs": [],
   "source": [
    "imbd_actor = imbd_actor.rename(columns = {'primary_name': 'actor_name'})"
   ]
  },
  {
   "cell_type": "code",
   "execution_count": null,
   "metadata": {},
   "outputs": [],
   "source": [
    "imbd_actress = imbd_principals.loc[imbd_principals.category == \"actress\"]"
   ]
  },
  {
   "cell_type": "code",
   "execution_count": null,
   "metadata": {},
   "outputs": [],
   "source": [
    "imbd_actress = pd.merge(imbd_actress, imbd_name, on = 'nconst', how = 'inner')"
   ]
  },
  {
   "cell_type": "code",
   "execution_count": null,
   "metadata": {},
   "outputs": [],
   "source": [
    "imbd_actress = imbd_actress.rename(columns = {'primary_name': 'actress_name'})"
   ]
  },
  {
   "cell_type": "code",
   "execution_count": null,
   "metadata": {},
   "outputs": [],
   "source": [
    "imbd_actress.head()"
   ]
  },
  {
   "cell_type": "code",
   "execution_count": null,
   "metadata": {},
   "outputs": [],
   "source": [
    "imbd_actors = pd.merge(imbd_actor, imbd_actress, on = ['tconst', 'nconst'])"
   ]
  },
  {
   "cell_type": "code",
   "execution_count": null,
   "metadata": {},
   "outputs": [],
   "source": [
    "imbd_actors = pd.concat[imbd_actor, imbd_actress]"
   ]
  },
  {
   "cell_type": "code",
   "execution_count": null,
   "metadata": {},
   "outputs": [],
   "source": []
  }
 ],
 "metadata": {
  "kernelspec": {
   "display_name": "Python 3",
   "language": "python",
   "name": "python3"
  },
  "language_info": {
   "codemirror_mode": {
    "name": "ipython",
    "version": 3
   },
   "file_extension": ".py",
   "mimetype": "text/x-python",
   "name": "python",
   "nbconvert_exporter": "python",
   "pygments_lexer": "ipython3",
   "version": "3.7.3"
  }
 },
 "nbformat": 4,
 "nbformat_minor": 2
}

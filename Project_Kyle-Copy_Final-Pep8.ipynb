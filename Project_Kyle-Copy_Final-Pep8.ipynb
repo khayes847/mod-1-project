{
 "cells": [
  {
   "cell_type": "code",
   "execution_count": 1,
   "metadata": {},
   "outputs": [],
   "source": [
    "# Import packages\n",
    "import pandas as pd\n",
    "import matplotlib.pyplot as plt\n",
    "import seaborn as sns\n",
    "\n",
    "# Turn off scientific notation in Pandas\n",
    "pd.set_option('display.float_format', lambda x: '%.2f' % x)\n",
    "\n",
    "# Import data\n",
    "tn_budget = pd.read_csv('Data/Zipped_Data/tn.movie_budgets.csv.gz',\n",
    "                        compression='gzip')\n",
    "bom_gross = pd.read_csv('Data/Zipped_Data/bom.movie_gross.csv.gz',\n",
    "                        compression='gzip')\n",
    "imbd_basics = pd.read_csv('Data/Zipped_Data/imdb.title.basics.csv.gz',\n",
    "                          compression='gzip')\n",
    "imbd_name = pd.read_csv('Data/Zipped_Data/imdb.name.basics.csv.gz',\n",
    "                        compression='gzip')\n",
    "imbd_principals = pd.read_csv('Data/Zipped_Data/imdb.title.principals.csv.gz',\n",
    "                              compression='gzip')"
   ]
  },
  {
   "cell_type": "code",
   "execution_count": 2,
   "metadata": {},
   "outputs": [],
   "source": [
    "# Remove punctuation from producton and worldwide.\n",
    "# Switch variables from string to float.\n",
    "tn_budget['production_budget'] = tn_budget['production_budget'].\\\n",
    " apply(lambda x: x.translate(str.maketrans\n",
    "                             ('', '', '!\"#$%&\\'()*+,-./:;<=>?@[\\\\]^_`{|}~')))\n",
    "tn_budget['worldwide_gross'] = tn_budget['worldwide_gross'].\\\n",
    " apply(lambda x: x.translate(str.maketrans\n",
    "                             ('', '', '!\"#$%&\\'()*+,-./:;<=>?@[\\\\]^_`{|}~')))\n",
    "tn_budget['production_budget'] = pd.to_numeric(tn_budget.production_budget,\n",
    "                                               downcast='float',\n",
    "                                               errors='coerce')\n",
    "tn_budget['worldwide_gross'] = pd.to_numeric(tn_budget.worldwide_gross,\n",
    "                                             downcast='float',\n",
    "                                             errors='coerce')"
   ]
  },
  {
   "cell_type": "code",
   "execution_count": 3,
   "metadata": {},
   "outputs": [],
   "source": [
    "# Create column for net profit (worldwide gross minus production budget).\n",
    "tn_budget['net'] = list(tn_budget.apply(lambda x:\n",
    "                                        x.worldwide_gross\n",
    "                                        - x.production_budget,\n",
    "                                        axis=1))\n",
    "\n",
    "# Create column for ratio (net profit divided by production budget)\n",
    "tn_budget['ratio'] = list(tn_budget.apply\n",
    "                          (lambda x: x.net / x.production_budget, axis=1))\n",
    "\n",
    "# Rename column 'movie' to 'title'\n",
    "tn_budget = tn_budget.rename(columns={'movie': 'title'})\n",
    "\n",
    "# Remove whitespace, potential extra words, punctuation, and case from titles\n",
    "years = [r'\\(2010\\)', r\"\\(2011\\)\",\n",
    "         r\"\\(2012\\)\", r\"\\(2013\\)\", r\"\\(2014\\)\",\n",
    "         r\"\\(2015\\)\", r\"\\(2016\\)\", r\"\\(2017\\)\", r\"\\(2018\\)\"]\n",
    "tn_budget.title = tn_budget.title.replace(years, value='', regex=True)\n",
    "tn_budget.title = tn_budget.title.str.strip()\n",
    "tn_budget.title = tn_budget.title.apply(lambda x: x.lower())\n",
    "tn_budget.title = tn_budget.title.\\\n",
    "apply(lambda x: x.translate(str.maketrans\n",
    "                             ('', '', '!\"#$%&\\'()*+,-./:;<=>?@[\\\\]^_`{|}~')))\n",
    "tn_budget.title = tn_budget.title.replace(['the', 'and', 'â'], value='', regex=True)\n",
    "\n",
    "# Remove month and year from date. Drop redundant columns\n",
    "tn_budget['year'] = list(tn_budget['release_date'].str[-4:])\n",
    "tn_budget = tn_budget.drop(columns=['id', 'domestic_gross', 'release_date'])"
   ]
  },
  {
   "cell_type": "code",
   "execution_count": 4,
   "metadata": {},
   "outputs": [],
   "source": [
    "# Remove 'studio', 'domestic_gross', 'foreign_gross' column.\n",
    "# Set 'foreign_gross' to float and 'year' to string\n",
    "bom_gross = bom_gross.drop(columns=['domestic_gross', 'foreign_gross'])\n",
    "bom_gross['year'] = bom_gross['year'].astype(str)\n",
    "\n",
    "# Remove years and right whitespace from titles.\n",
    "# Remove potentially extraneous words.\n",
    "years = [r'\\(2010\\)', r\"\\(2011\\)\",\n",
    "         r\"\\(2012\\)\", r\"\\(2013\\)\", r\"\\(2014\\)\",\n",
    "         r\"\\(2015\\)\", r\"\\(2016\\)\", r\"\\(2017\\)\", r\"\\(2018\\)\"]\n",
    "bom_gross.title = bom_gross.title.replace(years, value='', regex=True)\n",
    "bom_gross.title = bom_gross.title.str.strip()\n",
    "bom_gross.title = bom_gross.title.apply(lambda x: x.lower())\n",
    "bom_gross.title = bom_gross.title.\\\n",
    "apply(lambda x: x.translate(str.maketrans\n",
    "                             ('', '', '!\"#$%&\\'()*+,-./:;<=>?@[\\\\]^_`{|}~')))\n",
    "bom_gross.title = bom_gross.title.replace(['the', 'and', 'â'], value='', regex=True)"
   ]
  },
  {
   "cell_type": "code",
   "execution_count": 5,
   "metadata": {},
   "outputs": [],
   "source": [
    "# Merge tn_budget and bom_gross\n",
    "merged_df = pd.merge(tn_budget, bom_gross, on=[\"title\", \"year\"], how=\"left\")\n",
    "\n",
    "# Replace null studio values\n",
    "merged_df['studio'] = merged_df.studio.fillna('Unknown')"
   ]
  },
  {
   "cell_type": "code",
   "execution_count": 6,
   "metadata": {},
   "outputs": [
    {
     "data": {
      "text/html": [
       "<div>\n",
       "<style scoped>\n",
       "    .dataframe tbody tr th:only-of-type {\n",
       "        vertical-align: middle;\n",
       "    }\n",
       "\n",
       "    .dataframe tbody tr th {\n",
       "        vertical-align: top;\n",
       "    }\n",
       "\n",
       "    .dataframe thead th {\n",
       "        text-align: right;\n",
       "    }\n",
       "</style>\n",
       "<table border=\"1\" class=\"dataframe\">\n",
       "  <thead>\n",
       "    <tr style=\"text-align: right;\">\n",
       "      <th></th>\n",
       "      <th>tconst</th>\n",
       "      <th>primary_title</th>\n",
       "      <th>original_title</th>\n",
       "      <th>start_year</th>\n",
       "      <th>runtime_minutes</th>\n",
       "      <th>genres</th>\n",
       "    </tr>\n",
       "  </thead>\n",
       "  <tbody>\n",
       "    <tr>\n",
       "      <th>0</th>\n",
       "      <td>tt0063540</td>\n",
       "      <td>Sunghursh</td>\n",
       "      <td>Sunghursh</td>\n",
       "      <td>2013</td>\n",
       "      <td>175.00</td>\n",
       "      <td>Action,Crime,Drama</td>\n",
       "    </tr>\n",
       "    <tr>\n",
       "      <th>1</th>\n",
       "      <td>tt0066787</td>\n",
       "      <td>One Day Before the Rainy Season</td>\n",
       "      <td>Ashad Ka Ek Din</td>\n",
       "      <td>2019</td>\n",
       "      <td>114.00</td>\n",
       "      <td>Biography,Drama</td>\n",
       "    </tr>\n",
       "    <tr>\n",
       "      <th>2</th>\n",
       "      <td>tt0069049</td>\n",
       "      <td>The Other Side of the Wind</td>\n",
       "      <td>The Other Side of the Wind</td>\n",
       "      <td>2018</td>\n",
       "      <td>122.00</td>\n",
       "      <td>Drama</td>\n",
       "    </tr>\n",
       "    <tr>\n",
       "      <th>3</th>\n",
       "      <td>tt0069204</td>\n",
       "      <td>Sabse Bada Sukh</td>\n",
       "      <td>Sabse Bada Sukh</td>\n",
       "      <td>2018</td>\n",
       "      <td>nan</td>\n",
       "      <td>Comedy,Drama</td>\n",
       "    </tr>\n",
       "    <tr>\n",
       "      <th>4</th>\n",
       "      <td>tt0100275</td>\n",
       "      <td>The Wandering Soap Opera</td>\n",
       "      <td>La Telenovela Errante</td>\n",
       "      <td>2017</td>\n",
       "      <td>80.00</td>\n",
       "      <td>Comedy,Drama,Fantasy</td>\n",
       "    </tr>\n",
       "  </tbody>\n",
       "</table>\n",
       "</div>"
      ],
      "text/plain": [
       "      tconst                    primary_title              original_title  \\\n",
       "0  tt0063540                        Sunghursh                   Sunghursh   \n",
       "1  tt0066787  One Day Before the Rainy Season             Ashad Ka Ek Din   \n",
       "2  tt0069049       The Other Side of the Wind  The Other Side of the Wind   \n",
       "3  tt0069204                  Sabse Bada Sukh             Sabse Bada Sukh   \n",
       "4  tt0100275         The Wandering Soap Opera       La Telenovela Errante   \n",
       "\n",
       "   start_year  runtime_minutes                genres  \n",
       "0        2013           175.00    Action,Crime,Drama  \n",
       "1        2019           114.00       Biography,Drama  \n",
       "2        2018           122.00                 Drama  \n",
       "3        2018              nan          Comedy,Drama  \n",
       "4        2017            80.00  Comedy,Drama,Fantasy  "
      ]
     },
     "execution_count": 6,
     "metadata": {},
     "output_type": "execute_result"
    }
   ],
   "source": [
    "imbd_basics.head()"
   ]
  },
  {
   "cell_type": "code",
   "execution_count": 7,
   "metadata": {},
   "outputs": [],
   "source": [
    "# Create 'year' string column from 'start_year'\n",
    "imbd_basics['year'] = imbd_basics['start_year'].astype(str)\n",
    "\n",
    "# Drop unused columns\n",
    "imbd_basics = imbd_basics.drop(columns=['original_title', 'start_year',])\n",
    "\n",
    "# Rename column for easier merging\n",
    "imbd_basics = imbd_basics.rename(columns={'primary_title': 'title'})\n",
    "\n",
    "# Remove years and right whitespace from titles.\n",
    "# Remove potentially extraneous words.\n",
    "years = [r'\\(2010\\)', r\"\\(2011\\)\",\n",
    "         r\"\\(2012\\)\", r\"\\(2013\\)\", r\"\\(2014\\)\",\n",
    "         r\"\\(2015\\)\", r\"\\(2016\\)\", r\"\\(2017\\)\", r\"\\(2018\\)\"]\n",
    "imbd_basics.title = imbd_basics.title.replace(years, value='', regex=True)\n",
    "imbd_basics.title = imbd_basics.title.str.strip()\n",
    "imbd_basics.title = imbd_basics.title.apply(lambda x: x.lower())\n",
    "imbd_basics.title = imbd_basics.title.\\\n",
    "apply(lambda x: x.translate(str.maketrans\n",
    "                             ('', '', '!\"#$%&\\'()*+,-./:;<=>?@[\\\\]^_`{|}~')))\n",
    "imbd_basics.title = imbd_basics.title.replace(['the', 'and', \"â\"],\n",
    "                                              value='',\n",
    "                                              regex=True)"
   ]
  },
  {
   "cell_type": "code",
   "execution_count": 8,
   "metadata": {},
   "outputs": [],
   "source": [
    "# Merge imbd_basics with merged datafile\n",
    "merged_df2 = pd.merge(merged_df, imbd_basics, on=[\"title\", \"year\"], how=\"left\")\n",
    "\n",
    "# Change year to integer, and remove all films made\n",
    "# before 2010. Turn year back to string.\n",
    "merged_df2['year'] = merged_df2['year'].astype(int)\n",
    "merged_df2 = merged_df2.loc[merged_df2.year >= 2010]\n",
    "merged_df2['year'] = merged_df2['year'].astype(str)"
   ]
  },
  {
   "cell_type": "code",
   "execution_count": 9,
   "metadata": {},
   "outputs": [],
   "source": [
    "# Merge imbd_principals and imbd_name\n",
    "imbd_name_prin = pd.merge(imbd_principals, imbd_name,\n",
    "                          on=[\"nconst\"], how=\"left\")\n",
    "\n",
    "# Remove extraneous columns\n",
    "imbd_name_prin = imbd_name_prin.drop(columns=['ordering',\n",
    "                                              'nconst', 'job',\n",
    "                                              'characters', 'birth_year',\n",
    "                                              'death_year',\n",
    "                                              'primary_profession',\n",
    "                                              'known_for_titles'])"
   ]
  },
  {
   "cell_type": "code",
   "execution_count": 10,
   "metadata": {},
   "outputs": [],
   "source": [
    "# Create list of directors from imbd_name_prin\n",
    "directors = imbd_name_prin.loc[imbd_name_prin.category == 'director']"
   ]
  },
  {
   "cell_type": "code",
   "execution_count": 11,
   "metadata": {},
   "outputs": [],
   "source": [
    "# Merge list of directors with merged document\n",
    "merged_df3 = pd.merge(merged_df2, directors, on=[\"tconst\"], how=\"left\")\n",
    "\n",
    "# Remove extra columns, rename primary_name to director\n",
    "merged_df3 = merged_df3.drop(columns=['category', 'runtime_minutes',\n",
    "                                     'genres'])\n",
    "merged_df3 = merged_df3.rename(columns={'primary_name': 'director'})\n",
    "\n",
    "# Fill in null values for director\n",
    "merged_df3['director'] = merged_df3.director.fillna('Not listed')"
   ]
  },
  {
   "cell_type": "code",
   "execution_count": 12,
   "metadata": {},
   "outputs": [],
   "source": [
    "# Remove duplicate titles\n",
    "merged_df_cleaned = merged_df3.loc[~(merged_df3.title.duplicated())]\n",
    "\n",
    "# Drop extra column\n",
    "merged_df_cleaned = merged_df_cleaned.drop(columns='tconst')"
   ]
  },
  {
   "cell_type": "code",
   "execution_count": 16,
   "metadata": {},
   "outputs": [
    {
     "data": {
      "text/html": [
       "<div>\n",
       "<style scoped>\n",
       "    .dataframe tbody tr th:only-of-type {\n",
       "        vertical-align: middle;\n",
       "    }\n",
       "\n",
       "    .dataframe tbody tr th {\n",
       "        vertical-align: top;\n",
       "    }\n",
       "\n",
       "    .dataframe thead th {\n",
       "        text-align: right;\n",
       "    }\n",
       "</style>\n",
       "<table border=\"1\" class=\"dataframe\">\n",
       "  <thead>\n",
       "    <tr style=\"text-align: right;\">\n",
       "      <th></th>\n",
       "      <th>title</th>\n",
       "      <th>production_budget</th>\n",
       "      <th>worldwide_gross</th>\n",
       "      <th>net</th>\n",
       "      <th>ratio</th>\n",
       "      <th>year</th>\n",
       "      <th>studio</th>\n",
       "      <th>director</th>\n",
       "    </tr>\n",
       "  </thead>\n",
       "  <tbody>\n",
       "    <tr>\n",
       "      <th>2122</th>\n",
       "      <td>gods not dead</td>\n",
       "      <td>1150000.00</td>\n",
       "      <td>63777092.00</td>\n",
       "      <td>62627092.00</td>\n",
       "      <td>54.46</td>\n",
       "      <td>2014</td>\n",
       "      <td>Free</td>\n",
       "      <td>Harold Cronk</td>\n",
       "    </tr>\n",
       "  </tbody>\n",
       "</table>\n",
       "</div>"
      ],
      "text/plain": [
       "              title  production_budget  worldwide_gross         net  ratio  \\\n",
       "2122  gods not dead         1150000.00      63777092.00 62627092.00  54.46   \n",
       "\n",
       "      year studio      director  \n",
       "2122  2014   Free  Harold Cronk  "
      ]
     },
     "execution_count": 16,
     "metadata": {},
     "output_type": "execute_result"
    }
   ],
   "source": [
    "merged_df_cleaned.loc[merged_df_cleaned.title == 'gods not dead']"
   ]
  },
  {
   "cell_type": "code",
   "execution_count": 17,
   "metadata": {},
   "outputs": [
    {
     "data": {
      "image/png": "[encoded data removed]",
      "text/plain": [
       "<Figure size 1440x720 with 1 Axes>"
      ]
     },
     "metadata": {
      "needs_background": "light"
     },
     "output_type": "display_data"
    }
   ],
   "source": [
    "# Create earnings/cost graph for films with top ROI\n",
    "top_net = merged_df_cleaned.sort_values(by=['net'], ascending=False)[:10]\n",
    "\n",
    "index = list(top_net['title'])\n",
    "production_budget = list(top_net['production_budget'])\n",
    "worldwide_gross = list(top_net['worldwide_gross'])\n",
    "df = pd.DataFrame({'Production Budget USD (Billion)':\n",
    "                   production_budget,\n",
    "                   'Worldwide Gross USD (Billion)':\n",
    "                   worldwide_gross}, index=index)\n",
    "ax = df.plot.barh(figsize=(20, 10), rot=0)"
   ]
  },
  {
   "cell_type": "code",
   "execution_count": 18,
   "metadata": {},
   "outputs": [
    {
     "data": {
      "image/png": "[encoded data removed]",
      "text/plain": [
       "<Figure size 1440x720 with 1 Axes>"
      ]
     },
     "metadata": {
      "needs_background": "light"
     },
     "output_type": "display_data"
    }
   ],
   "source": [
    "# Create earnings/cost graph for films with top ROI\n",
    "top_ratio = merged_df_cleaned.sort_values(by=['ratio'], ascending=False)[:10]\n",
    "\n",
    "index = list(top_ratio['title'])\n",
    "production_budget = list(top_ratio['production_budget'])\n",
    "worldwide_gross = list(top_ratio['worldwide_gross'])\n",
    "df = pd.DataFrame({'Production Budget USD (Million)': production_budget,\n",
    "                   'Worldwide Gross USD (Million)': worldwide_gross},\n",
    "                  index=index)\n",
    "ax = df.plot.barh(figsize=(20, 10), rot=0)"
   ]
  },
  {
   "cell_type": "code",
   "execution_count": 19,
   "metadata": {},
   "outputs": [
    {
     "data": {
      "text/html": [
       "<div>\n",
       "<style scoped>\n",
       "    .dataframe tbody tr th:only-of-type {\n",
       "        vertical-align: middle;\n",
       "    }\n",
       "\n",
       "    .dataframe tbody tr th {\n",
       "        vertical-align: top;\n",
       "    }\n",
       "\n",
       "    .dataframe thead th {\n",
       "        text-align: right;\n",
       "    }\n",
       "</style>\n",
       "<table border=\"1\" class=\"dataframe\">\n",
       "  <thead>\n",
       "    <tr style=\"text-align: right;\">\n",
       "      <th></th>\n",
       "      <th>title</th>\n",
       "      <th>production_budget</th>\n",
       "      <th>worldwide_gross</th>\n",
       "      <th>net</th>\n",
       "      <th>ratio</th>\n",
       "      <th>year</th>\n",
       "      <th>studio</th>\n",
       "      <th>director</th>\n",
       "    </tr>\n",
       "  </thead>\n",
       "  <tbody>\n",
       "    <tr>\n",
       "      <th>2354</th>\n",
       "      <td>gallows</td>\n",
       "      <td>100000.00</td>\n",
       "      <td>41656472.00</td>\n",
       "      <td>41556472.00</td>\n",
       "      <td>415.56</td>\n",
       "      <td>2015</td>\n",
       "      <td>WB (NL)</td>\n",
       "      <td>Travis Cluff</td>\n",
       "    </tr>\n",
       "    <tr>\n",
       "      <th>2131</th>\n",
       "      <td>devil inside</td>\n",
       "      <td>1000000.00</td>\n",
       "      <td>101759488.00</td>\n",
       "      <td>100759488.00</td>\n",
       "      <td>100.76</td>\n",
       "      <td>2012</td>\n",
       "      <td>Par.</td>\n",
       "      <td>William Brent Bell</td>\n",
       "    </tr>\n",
       "    <tr>\n",
       "      <th>2066</th>\n",
       "      <td>insidious</td>\n",
       "      <td>1500000.00</td>\n",
       "      <td>99870888.00</td>\n",
       "      <td>98370888.00</td>\n",
       "      <td>65.58</td>\n",
       "      <td>2011</td>\n",
       "      <td>FD</td>\n",
       "      <td>Not listed</td>\n",
       "    </tr>\n",
       "    <tr>\n",
       "      <th>2132</th>\n",
       "      <td>unfriended</td>\n",
       "      <td>1000000.00</td>\n",
       "      <td>64364200.00</td>\n",
       "      <td>63364200.00</td>\n",
       "      <td>63.36</td>\n",
       "      <td>2015</td>\n",
       "      <td>Uni.</td>\n",
       "      <td>Not listed</td>\n",
       "    </tr>\n",
       "    <tr>\n",
       "      <th>1893</th>\n",
       "      <td>paranormal activity 2</td>\n",
       "      <td>3000000.00</td>\n",
       "      <td>177512032.00</td>\n",
       "      <td>174512032.00</td>\n",
       "      <td>58.17</td>\n",
       "      <td>2010</td>\n",
       "      <td>Par.</td>\n",
       "      <td>Tod Williams</td>\n",
       "    </tr>\n",
       "    <tr>\n",
       "      <th>1704</th>\n",
       "      <td>split</td>\n",
       "      <td>5000000.00</td>\n",
       "      <td>278964800.00</td>\n",
       "      <td>273964800.00</td>\n",
       "      <td>54.79</td>\n",
       "      <td>2017</td>\n",
       "      <td>Uni.</td>\n",
       "      <td>Not listed</td>\n",
       "    </tr>\n",
       "    <tr>\n",
       "      <th>2122</th>\n",
       "      <td>gods not dead</td>\n",
       "      <td>1150000.00</td>\n",
       "      <td>63777092.00</td>\n",
       "      <td>62627092.00</td>\n",
       "      <td>54.46</td>\n",
       "      <td>2014</td>\n",
       "      <td>Free</td>\n",
       "      <td>Harold Cronk</td>\n",
       "    </tr>\n",
       "    <tr>\n",
       "      <th>1703</th>\n",
       "      <td>get out</td>\n",
       "      <td>5000000.00</td>\n",
       "      <td>255367952.00</td>\n",
       "      <td>250367952.00</td>\n",
       "      <td>50.07</td>\n",
       "      <td>2017</td>\n",
       "      <td>Uni.</td>\n",
       "      <td>Jordan Peele</td>\n",
       "    </tr>\n",
       "    <tr>\n",
       "      <th>1415</th>\n",
       "      <td>les intouchables</td>\n",
       "      <td>10800000.00</td>\n",
       "      <td>484873056.00</td>\n",
       "      <td>474073056.00</td>\n",
       "      <td>43.90</td>\n",
       "      <td>2012</td>\n",
       "      <td>Unknown</td>\n",
       "      <td>Not listed</td>\n",
       "    </tr>\n",
       "    <tr>\n",
       "      <th>2067</th>\n",
       "      <td>moonlight</td>\n",
       "      <td>1500000.00</td>\n",
       "      <td>65245512.00</td>\n",
       "      <td>63745512.00</td>\n",
       "      <td>42.50</td>\n",
       "      <td>2016</td>\n",
       "      <td>A24</td>\n",
       "      <td>Barry Jenkins</td>\n",
       "    </tr>\n",
       "  </tbody>\n",
       "</table>\n",
       "</div>"
      ],
      "text/plain": [
       "                      title  production_budget  worldwide_gross          net  \\\n",
       "2354                gallows          100000.00      41656472.00  41556472.00   \n",
       "2131           devil inside         1000000.00     101759488.00 100759488.00   \n",
       "2066              insidious         1500000.00      99870888.00  98370888.00   \n",
       "2132             unfriended         1000000.00      64364200.00  63364200.00   \n",
       "1893  paranormal activity 2         3000000.00     177512032.00 174512032.00   \n",
       "1704                  split         5000000.00     278964800.00 273964800.00   \n",
       "2122          gods not dead         1150000.00      63777092.00  62627092.00   \n",
       "1703                get out         5000000.00     255367952.00 250367952.00   \n",
       "1415       les intouchables        10800000.00     484873056.00 474073056.00   \n",
       "2067              moonlight         1500000.00      65245512.00  63745512.00   \n",
       "\n",
       "      ratio  year   studio            director  \n",
       "2354 415.56  2015  WB (NL)        Travis Cluff  \n",
       "2131 100.76  2012     Par.  William Brent Bell  \n",
       "2066  65.58  2011       FD          Not listed  \n",
       "2132  63.36  2015     Uni.          Not listed  \n",
       "1893  58.17  2010     Par.        Tod Williams  \n",
       "1704  54.79  2017     Uni.          Not listed  \n",
       "2122  54.46  2014     Free        Harold Cronk  \n",
       "1703  50.07  2017     Uni.        Jordan Peele  \n",
       "1415  43.90  2012  Unknown          Not listed  \n",
       "2067  42.50  2016      A24       Barry Jenkins  "
      ]
     },
     "execution_count": 19,
     "metadata": {},
     "output_type": "execute_result"
    }
   ],
   "source": [
    "top_ratio"
   ]
  },
  {
   "cell_type": "code",
   "execution_count": 21,
   "metadata": {},
   "outputs": [],
   "source": [
    "# Create a list of 20 studios with the top ratio means\n",
    "studio_ratio_mean = (merged_df_cleaned.groupby\n",
    "                     (['studio']).ratio.mean().\n",
    "                     sort_values(ascending=False)[:20])\n",
    "\n",
    "# Create a list of 20 directors with the top ratio means\n",
    "director_ratio_mean = (merged_df_cleaned.groupby\n",
    "                       (['director']).ratio.mean().\n",
    "                       sort_values(ascending=False)[0:20])\n",
    "\n",
    "# Create a list of 19 directors with the top ROI means,\n",
    "# with top value removed\n",
    "director_ratio_mean_19 = (merged_df_cleaned.groupby\n",
    "                          (['director']).ratio.mean().\n",
    "                          sort_values(ascending=False)[1:20])\n",
    "\n",
    "# Provides a count for the number of films made by\n",
    "# each director with a top-20 ROI\n",
    "director_roi_count = (merged_df_cleaned.groupby\n",
    "                      ('director')['ratio', 'title'].agg\n",
    "                      ({'ratio': 'mean', 'title': 'nunique'})\n",
    "                      .sort_values\n",
    "                      (by='ratio', ascending=False))[0:20].reset_index()"
   ]
  },
  {
   "cell_type": "code",
   "execution_count": 22,
   "metadata": {},
   "outputs": [
    {
     "data": {
      "text/plain": [
       "<matplotlib.axes._subplots.AxesSubplot at 0x2498f0f0ac8>"
      ]
     },
     "execution_count": 22,
     "metadata": {},
     "output_type": "execute_result"
    },
    {
     "data": {
      "image/png": "[encoded data removed]",
      "text/plain": [
       "<Figure size 432x288 with 1 Axes>"
      ]
     },
     "metadata": {
      "needs_background": "light"
     },
     "output_type": "display_data"
    }
   ],
   "source": [
    "# Creates a graph of the 2-20 directors with the best ROI\n",
    "director_ratio_mean_19.plot(kind='barh')"
   ]
  },
  {
   "cell_type": "code",
   "execution_count": 23,
   "metadata": {},
   "outputs": [
    {
     "data": {
      "image/png": "[encoded data removed]",
      "text/plain": [
       "<Figure size 432x288 with 1 Axes>"
      ]
     },
     "metadata": {
      "needs_background": "light"
     },
     "output_type": "display_data"
    }
   ],
   "source": [
    "# Make a barplot - top 20 directors by ROI - Count\n",
    "top_20_directors_roi_count = (merged_df_cleaned.groupby\n",
    "                              ('director')['ratio', 'title']\n",
    "                              .agg({'ratio':\n",
    "                                    'mean', 'title': 'nunique'})\n",
    "                              .sort_values\n",
    "                              (by='ratio',\n",
    "                               ascending=False))[0:20].reset_index()\n",
    "ax = sns.barplot(x=top_20_directors_roi_count['title'],\n",
    "                 y=top_20_directors_roi_count['director'])\n",
    "ax.set_xticklabels(ax.get_xticklabels(), rotation=45, ha=\"right\")\n",
    "plt.rcParams[\"figure.figsize\"] = (20, 10)\n",
    "plt.rcParams[\"xtick.labelsize\"] = 20\n",
    "plt.rcParams[\"ytick.labelsize\"] = 1\n",
    "plt.tight_layout()\n",
    "plt.show()"
   ]
  },
  {
   "cell_type": "code",
   "execution_count": null,
   "metadata": {},
   "outputs": [],
   "source": []
  }
 ],
 "metadata": {
  "kernelspec": {
   "display_name": "Python 3",
   "language": "python",
   "name": "python3"
  },
  "language_info": {
   "codemirror_mode": {
    "name": "ipython",
    "version": 3
   },
   "file_extension": ".py",
   "mimetype": "text/x-python",
   "name": "python",
   "nbconvert_exporter": "python",
   "pygments_lexer": "ipython3",
   "version": "3.7.3"
  }
 },
 "nbformat": 4,
 "nbformat_minor": 2
}

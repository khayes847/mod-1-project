{
 "cells": [
  {
   "cell_type": "code",
   "execution_count": null,
   "metadata": {},
   "outputs": [],
   "source": [
    "# Import packages\n",
    "import pandas as pd\n",
    "import matplotlib.pyplot as plt\n",
    "import numpy as np\n",
    "\n",
    "# Turn off scientific notation in Pandas\n",
    "pd.set_option('display.float_format', lambda x: '%.2f' % x)\n",
    "\n",
    "# Import data\n",
    "tn_budget = pd.read_csv('Data/Zipped_Data/tn.movie_budgets.csv.gz',\n",
    "                        compression='gzip')\n",
    "bom_gross = pd.read_csv('Data/Zipped_Data/bom.movie_gross.csv.gz',\n",
    "                        compression='gzip')\n",
    "imbd_basics = pd.read_csv('Data/Zipped_Data/imdb.title.basics.csv.gz',\n",
    "                          compression='gzip')\n",
    "imbd_name = pd.read_csv('Data/Zipped_Data/imdb.name.basics.csv.gz',\n",
    "                        compression='gzip')\n",
    "imbd_principals = pd.read_csv('Data/Zipped_Data/imdb.title.principals.csv.gz',\n",
    "                              compression='gzip')"
   ]
  },
  {
   "cell_type": "code",
   "execution_count": null,
   "metadata": {},
   "outputs": [],
   "source": [
    "# Remove punctuation from producton and worldwide.\n",
    "# Switch variables from string to float.\n",
    "tn_budget['production_budget'] = tn_budget['production_budget']\\\n",
    " .apply(lambda x: x.translate\n",
    "        (str.maketrans('', '', '!\"#$%&\\'()*+,-./:;<=>?@[\\\\]^_`{|}~')))\n",
    "tn_budget['worldwide_gross'] = tn_budget['worldwide_gross']\\\n",
    " .apply(lambda x: x.translate\n",
    "        (str.maketrans('', '', '!\"#$%&\\'()*+,-./:;<=>?@[\\\\]^_`{|}~')))\n",
    "tn_budget['production_budget'] = pd.to_numeric(tn_budget.production_budget,\n",
    "                                               downcast='float',\n",
    "                                               errors='coerce')\n",
    "tn_budget['worldwide_gross'] = pd.to_numeric(tn_budget.worldwide_gross,\n",
    "                                             downcast='float',\n",
    "                                             errors='coerce')"
   ]
  },
  {
   "cell_type": "code",
   "execution_count": null,
   "metadata": {},
   "outputs": [],
   "source": [
    "# Create column for net profit (worldwide gross minus production budget).\n",
    "tn_budget['net'] = list(tn_budget.apply(lambda x:\n",
    "                                        x.worldwide_gross\n",
    "                                        - x.production_budget,\n",
    "                                        axis=1))\n",
    "\n",
    "# Create column for ratio (net profit divided by production budget)\n",
    "tn_budget['ratio'] = list(tn_budget.apply\n",
    "                          (lambda x: x.net / x.production_budget, axis=1))\n",
    "\n",
    "# Rename column 'movie' to 'title'\n",
    "tn_budget = tn_budget.rename(columns={'movie': 'title'})\n",
    "\n",
    "# Remove whitespace, potential extra words, punctuation,\n",
    "# corrupted text, and case from titles\n",
    "years = [r'\\(2010\\)', r\"\\(2011\\)\",\n",
    "         r\"\\(2012\\)\", r\"\\(2013\\)\", r\"\\(2014\\)\",\n",
    "         r\"\\(2015\\)\", r\"\\(2016\\)\", r\"\\(2017\\)\", r\"\\(2018\\)\"]\n",
    "tn_budget.title = tn_budget.title.replace(years, value='', regex=True)\n",
    "tn_budget.title = tn_budget.title.str.strip()\n",
    "tn_budget.title = tn_budget.title.apply(lambda x: x.lower())\n",
    "tn_budget.title = tn_budget.title\\\n",
    " .apply(lambda x: x.translate\n",
    "        (str.maketrans('', '', '!\"#$%&\\'()*+,-./:;<=>?@[\\\\]^_`{|}~')))\n",
    "tn_budget.title = tn_budget.title.replace(['the', 'and', 'â',\n",
    "                                          '\\x80\\x99'], value='', regex=True)\n",
    "\n",
    "# Remove month and year from date. Drop redundant columns\n",
    "tn_budget['year'] = list(tn_budget['release_date'].str[-4:])\n",
    "tn_budget = tn_budget.drop(columns=['id', 'domestic_gross', 'release_date'])"
   ]
  },
  {
   "cell_type": "code",
   "execution_count": null,
   "metadata": {},
   "outputs": [],
   "source": [
    "# Remove 'studio', 'domestic_gross', 'foreign_gross' column.\n",
    "# Set 'foreign_gross' to float and 'year' to string\n",
    "bom_gross = bom_gross.drop(columns=['domestic_gross', 'foreign_gross'])\n",
    "bom_gross['year'] = bom_gross['year'].astype(str)\n",
    "\n",
    "# Remove whitespace, potential extra words, punctuation,\n",
    "# corrupted text, and case from titles\n",
    "years = [r'\\(2010\\)', r\"\\(2011\\)\",\n",
    "         r\"\\(2012\\)\", r\"\\(2013\\)\", r\"\\(2014\\)\",\n",
    "         r\"\\(2015\\)\", r\"\\(2016\\)\", r\"\\(2017\\)\", r\"\\(2018\\)\"]\n",
    "bom_gross.title = bom_gross.title.replace(years, value='', regex=True)\n",
    "bom_gross.title = bom_gross.title.str.strip()\n",
    "bom_gross.title = bom_gross.title.apply(lambda x: x.lower())\n",
    "bom_gross.title = bom_gross.title\\\n",
    " .apply(lambda x: x.translate\n",
    "        (str.maketrans('', '', '!\"#$%&\\'()*+,-./:;<=>?@[\\\\]^_`{|}~')))\n",
    "bom_gross.title = bom_gross.title.replace(['the', 'and', 'â',\n",
    "                                          '\\x80\\x99'], value='', regex=True)"
   ]
  },
  {
   "cell_type": "code",
   "execution_count": null,
   "metadata": {},
   "outputs": [],
   "source": [
    "# Merge tn_budget and bom_gross\n",
    "merged_df = pd.merge(tn_budget, bom_gross, on=[\"title\", \"year\"], how=\"left\")\n",
    "\n",
    "# Replace null studio values\n",
    "merged_df['studio'] = merged_df.studio.fillna('Unknown')"
   ]
  },
  {
   "cell_type": "code",
   "execution_count": null,
   "metadata": {},
   "outputs": [],
   "source": [
    "# Create 'year' string column from 'start_year'\n",
    "imbd_basics['year'] = imbd_basics['start_year'].astype(str)\n",
    "\n",
    "# Drop unused columns\n",
    "imbd_basics = imbd_basics.drop(columns=['original_title', 'start_year'])\n",
    "\n",
    "# Rename column for easier merging\n",
    "imbd_basics = imbd_basics.rename(columns={'primary_title': 'title'})\n",
    "\n",
    "# Remove whitespace, potential extra words, punctuation,\n",
    "# corrupted text, and case from titles\n",
    "years = [r'\\(2010\\)', r\"\\(2011\\)\",\n",
    "         r\"\\(2012\\)\", r\"\\(2013\\)\", r\"\\(2014\\)\",\n",
    "         r\"\\(2015\\)\", r\"\\(2016\\)\", r\"\\(2017\\)\", r\"\\(2018\\)\"]\n",
    "imbd_basics.title = imbd_basics.title.replace(years, value='', regex=True)\n",
    "imbd_basics.title = imbd_basics.title.str.strip()\n",
    "imbd_basics.title = imbd_basics.title.apply(lambda x: x.lower())\n",
    "imbd_basics.title = imbd_basics.title\\\n",
    " .apply(lambda x: x.translate\n",
    "        (str.maketrans('', '', '!\"#$%&\\'()*+,-./:;<=>?@[\\\\]^_`{|}~')))\n",
    "imbd_basics.title = imbd_basics.title.replace(['the', 'and', \"â\",\n",
    "                                              '\\x80\\x99'],\n",
    "                                              value='',\n",
    "                                              regex=True)"
   ]
  },
  {
   "cell_type": "code",
   "execution_count": null,
   "metadata": {},
   "outputs": [],
   "source": [
    "# Merge imbd_basics with merged datafile\n",
    "merged_df2 = pd.merge(merged_df, imbd_basics, on=[\"title\", \"year\"], how=\"left\")\n",
    "\n",
    "# Change year to integer, and remove all films made\n",
    "# before 2010. Turn year back to string.\n",
    "merged_df2['year'] = merged_df2['year'].astype(int)\n",
    "merged_df2 = merged_df2.loc[merged_df2.year >= 2010]\n",
    "merged_df2['year'] = merged_df2['year'].astype(str)"
   ]
  },
  {
   "cell_type": "code",
   "execution_count": null,
   "metadata": {},
   "outputs": [],
   "source": [
    "# Merge imbd_principals and imbd_name\n",
    "imbd_name_prin = pd.merge(imbd_principals, imbd_name,\n",
    "                          on=[\"nconst\"], how=\"left\")\n",
    "\n",
    "# Remove extraneous columns\n",
    "imbd_name_prin = imbd_name_prin.drop(columns=['ordering',\n",
    "                                              'nconst', 'job',\n",
    "                                              'characters', 'birth_year',\n",
    "                                              'death_year',\n",
    "                                              'primary_profession',\n",
    "                                              'known_for_titles'])"
   ]
  },
  {
   "cell_type": "code",
   "execution_count": null,
   "metadata": {},
   "outputs": [],
   "source": [
    "# Create list of directors from imbd_name_prin\n",
    "directors = imbd_name_prin.loc[imbd_name_prin.category == 'director']"
   ]
  },
  {
   "cell_type": "code",
   "execution_count": null,
   "metadata": {},
   "outputs": [],
   "source": [
    "# Merge list of directors with merged document\n",
    "merged_df3 = pd.merge(merged_df2, directors, on=[\"tconst\"], how=\"left\")\n",
    "\n",
    "# Remove extra columns, rename primary_name to director\n",
    "merged_df3 = merged_df3.drop(columns=['category', 'runtime_minutes',\n",
    "                                      'genres'])\n",
    "merged_df3 = merged_df3.rename(columns={'primary_name': 'director'})\n",
    "\n",
    "# Fill in null values for director\n",
    "merged_df3['director'] = merged_df3.director.fillna('Not listed')"
   ]
  },
  {
   "cell_type": "code",
   "execution_count": null,
   "metadata": {},
   "outputs": [],
   "source": [
    "# Remove duplicate titles\n",
    "merged_df_cleaned = merged_df3.loc[~(merged_df3.title.duplicated())]\n",
    "\n",
    "# Drop extra column\n",
    "merged_df_cleaned = merged_df_cleaned.drop(columns='tconst')"
   ]
  },
  {
   "cell_type": "code",
   "execution_count": null,
   "metadata": {},
   "outputs": [],
   "source": [
    "# Create list of films with top ROI\n",
    "top_net = merged_df_cleaned.sort_values(by=['net'], ascending=False)[:10]\n",
    "\n",
    "# Create list of films with top ROI\n",
    "top_ratio = merged_df_cleaned.sort_values(by=['ratio'], ascending=False)[:10]\n",
    "\n",
    "# Create a list of 20 studios with the top ratio means\n",
    "studio_ratio_mean = (merged_df_cleaned.groupby\n",
    "                     (['studio']).ratio.mean().\n",
    "                     sort_values(ascending=False)[:20])\n",
    "\n",
    "# Create a list of 20 directors with the top ratio means\n",
    "director_ratio_mean = (merged_df_cleaned.groupby\n",
    "                       (['director']).ratio.mean().\n",
    "                       sort_values(ascending=False)[0:20])\n",
    "\n",
    "# Create a list of 19 directors with the top ROI means,\n",
    "# with top value removed\n",
    "director_ratio_mean_19 = (merged_df_cleaned.groupby\n",
    "                          (['director']).ratio.mean().\n",
    "                          sort_values(ascending=False)[1:20])\n",
    "\n",
    "# Provides a count for the number of films made by\n",
    "# each director with a top-20 ROI\n",
    "directors_roi_count = (merged_df_cleaned.groupby\n",
    "                       ('director')['ratio', 'title'].agg\n",
    "                       ({'ratio': 'mean', 'title': 'nunique'}).sort_values\n",
    "                       (by='ratio', ascending=False))[0:20].reset_index()"
   ]
  },
  {
   "cell_type": "code",
   "execution_count": null,
   "metadata": {},
   "outputs": [],
   "source": [
    "# Clean titles\n",
    "top_net.title = top_net.title.replace(['beauty   beast'],\n",
    "                                      value='beauty and the beast', regex=True)\n",
    "top_net.title = top_net.title.replace(['black panr'],\n",
    "                                      value='black panther', regex=True)\n",
    "top_net.title = top_net.title\\\n",
    " .replace(['harry potter   deathly hallows part ii'],\n",
    "          value='harry potter deathly hallows part ii', regex=True)\n",
    "top_net.title = top_net.title\\\n",
    " .replace(['star wars ep vii  force awakens'],\n",
    "          value='star wars ep vii force awakens', regex=True)"
   ]
  },
  {
   "cell_type": "code",
   "execution_count": null,
   "metadata": {},
   "outputs": [],
   "source": [
    "# Create earnings/cost graph for films with top net\n",
    "index = list(top_net['title'])\n",
    "production_budget = list(top_net['production_budget'])\n",
    "worldwide_gross = list(top_net['worldwide_gross'])\n",
    "df = pd.DataFrame({'Production Budget USD (Billion)':\n",
    "                   production_budget,\n",
    "                   'Worldwide Gross USD (Billion)':\n",
    "                   worldwide_gross}, index=index,)\n",
    "ax = df.plot.barh(figsize=(20, 15), rot=0, fontsize=20).invert_yaxis()"
   ]
  },
  {
   "cell_type": "code",
   "execution_count": null,
   "metadata": {},
   "outputs": [],
   "source": [
    "# Create earnings/cost graph for films with top ROI\n",
    "index = list(top_ratio['title'])\n",
    "production_budget = list(top_ratio['production_budget'])\n",
    "worldwide_gross = list(top_ratio['worldwide_gross'])\n",
    "df = pd.DataFrame({'Production Budget USD (100 Million)': production_budget,\n",
    "                   'Worldwide Gross USD (100 Million)': worldwide_gross},\n",
    "                  index=index)\n",
    "ax = df.plot.barh(figsize=(20, 15), rot=0, fontsize=20).invert_yaxis()"
   ]
  },
  {
   "cell_type": "code",
   "execution_count": null,
   "metadata": {},
   "outputs": [],
   "source": [
    "# Creates a graph of the 20 studios with the best ROI\n",
    "studio_ratio_mean.plot(kind='barh',\n",
    "                       figsize=(15, 10), fontsize=15).invert_yaxis()"
   ]
  },
  {
   "cell_type": "code",
   "execution_count": null,
   "metadata": {},
   "outputs": [],
   "source": [
    "# Creates a graph of the 2-20 directors with the best ROI\n",
    "director_ratio_mean_19.plot(kind='barh',\n",
    "                            figsize=(15, 10), fontsize=15).invert_yaxis()"
   ]
  },
  {
   "cell_type": "code",
   "execution_count": 88,
   "metadata": {},
   "outputs": [],
   "source": [
    "# Creates a graph showing the number of films the\n",
    "# top 20 ROI directors have made\n",
    "index = list(directors_roi_count['director'])\n",
    "title_count = list(directors_roi_count['title'])\n",
    "df = pd.DataFrame({'# Movies Directed': title_count},\n",
    "                  index=index)\n",
    "ax = df.plot.barh(figsize=(15, 10), rot=0, fontsize=15).invert_yaxis()\n",
    "plt.xticks(np.arange(0, 4, 1))"
   ]
  },
  {
   "cell_type": "code",
   "execution_count": null,
   "metadata": {},
   "outputs": [],
   "source": []
  }
 ],
 "metadata": {
  "kernelspec": {
   "display_name": "Python 3",
   "language": "python",
   "name": "python3"
  },
  "language_info": {
   "codemirror_mode": {
    "name": "ipython",
    "version": 3
   },
   "file_extension": ".py",
   "mimetype": "text/x-python",
   "name": "python",
   "nbconvert_exporter": "python",
   "pygments_lexer": "ipython3",
   "version": "3.7.3"
  }
 },
 "nbformat": 4,
 "nbformat_minor": 2
}

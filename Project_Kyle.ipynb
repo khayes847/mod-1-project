{
 "cells": [
  {
   "cell_type": "code",
   "execution_count": null,
   "metadata": {},
   "outputs": [],
   "source": [
    "#Import packages\n",
    "import pandas as pd\n",
    "import numpy as np\n",
    "import matplotlib.pyplot as plt\n",
    "import string\n",
    "%matplotlib inline\n",
    "\n",
    "#Turn off scientific notation in Pandas\n",
    "pd.set_option('display.float_format', lambda x: '%.2f' % x)\n",
    "\n",
    "# Import data\n",
    "tn_budget = pd.read_csv('Data/Zipped_Data/tn.movie_budgets.csv.gz', compression = 'gzip')\n",
    "bom_gross = pd.read_csv('Data/Zipped_Data/bom.movie_gross.csv.gz', compression = 'gzip')\n",
    "imbd_basics = pd.read_csv('Data/Zipped_Data/imdb.title.basics.csv.gz', compression = 'gzip')\n",
    "imbd_name = pd.read_csv('Data/Zipped_Data/imdb.name.basics.csv.gz', compression = 'gzip')\n",
    "imbd_principals = pd.read_csv('Data/Zipped_Data/imdb.title.principals.csv.gz', compression = 'gzip')"
   ]
  },
  {
   "cell_type": "code",
   "execution_count": null,
   "metadata": {},
   "outputs": [],
   "source": [
    "#Remove punctuation from producton and worldwide. Switch variables from string to float.\n",
    "tn_budget['production_budget'] = tn_budget['production_budget'].apply(lambda x: x.translate(str.maketrans('', '', '!\"#$%&\\'()*+,-./:;<=>?@[\\\\]^_`{|}~')))\n",
    "tn_budget['worldwide_gross'] = tn_budget['worldwide_gross'].apply(lambda x: x.translate(str.maketrans('', '', '!\"#$%&\\'()*+,-./:;<=>?@[\\\\]^_`{|}~')))\n",
    "tn_budget['production_budget'] = pd.to_numeric(tn_budget.production_budget, downcast = 'float', errors = 'coerce')\n",
    "tn_budget['worldwide_gross'] = pd.to_numeric(tn_budget.worldwide_gross, downcast = 'float', errors = 'coerce')\n",
    "\n",
    "#Create column for net profit (worldwide gross minus production budget).\n",
    "tn_budget['net'] = list(tn_budget.apply(lambda x: x.worldwide_gross - x.production_budget, axis=1))\n",
    "\n",
    "#Create column for ratio (net profit divided by production budget)\n",
    "tn_budget['ratio'] = list(tn_budget.apply(lambda x: x.net / x.production_budget, axis=1))\n",
    "\n",
    "# Rename column 'movie' to 'title'\n",
    "tn_budget = tn_budget.rename(columns = {'movie': 'title'})\n",
    "\n",
    "#remove whitespace, potential extra words, punctuation, and case from titles\n",
    "years = ['\\(2010\\)', \"\\(2011\\)\", \n",
    "         \"\\(2012\\)\", \"\\(2013\\)\", \"\\(2014\\)\", \n",
    "         \"\\(2015\\)\", \"\\(2016\\)\", \"\\(2017\\)\", \"\\(2018\\)\"]\n",
    "tn_budget.title = tn_budget.title.replace(years, value='', regex=True)\n",
    "tn_budget.title = tn_budget.title.str.strip()\n",
    "tn_budget.title = tn_budget.title.apply(lambda x: x.lower())\n",
    "tn_budget.title = tn_budget.title.apply(lambda x: x.translate(str.maketrans('', '', '!\"#$%&\\'()*+,-./:;<=>?@[\\\\]^_`{|}~')))\n",
    "tn_budget.title = tn_budget.title.replace(['the', 'and'], value='', regex=True)\n",
    "\n",
    "#Remove month and year from date. Drop redundant columns\n",
    "tn_budget['year'] = list(tn_budget['release_date'].str[-4:])\n",
    "tn_budget = tn_budget.drop(columns = ['id', 'domestic_gross', 'release_date'])"
   ]
  },
  {
   "cell_type": "code",
   "execution_count": null,
   "metadata": {},
   "outputs": [],
   "source": [
    "#Remove 'studio', 'domestic_gross', 'foreign_gross' column. Set 'foreign_gross' to float and 'year' to string\n",
    "bom_gross = bom_gross.drop(columns = ['domestic_gross', 'foreign_gross'])\n",
    "bom_gross['year'] = bom_gross['year'].astype(str)\n",
    "\n",
    "#Remove years and right whitespace from titles. Remove potentially extraneous words.\n",
    "years = ['\\(2010\\)', \"\\(2011\\)\", \n",
    "         \"\\(2012\\)\", \"\\(2013\\)\", \"\\(2014\\)\", \n",
    "         \"\\(2015\\)\", \"\\(2016\\)\", \"\\(2017\\)\", \"\\(2018\\)\"]\n",
    "bom_gross.title = bom_gross.title.replace(years, value='', regex=True)\n",
    "bom_gross.title = bom_gross.title.str.strip()\n",
    "bom_gross.title = bom_gross.title.apply(lambda x: x.lower())\n",
    "bom_gross.title = bom_gross.title.apply(lambda x: x.translate(str.maketrans('', '', '!\"#$%&\\'()*+,-./:;<=>?@[\\\\]^_`{|}~')))\n",
    "bom_gross.title = bom_gross.title.replace(['the', 'and'], value='', regex=True)"
   ]
  },
  {
   "cell_type": "code",
   "execution_count": null,
   "metadata": {},
   "outputs": [],
   "source": [
    "#Merge tn_budget and bom_gross\n",
    "merged_df = pd.merge(tn_budget, bom_gross, on = [\"title\", \"year\"], how = \"left\")\n",
    "\n",
    "#Replace null studio values\n",
    "merged_df['studio'] = merged_df.studio.fillna('Unknown')"
   ]
  },
  {
   "cell_type": "code",
   "execution_count": null,
   "metadata": {},
   "outputs": [],
   "source": [
    "#Create 'year' string column from 'start_year'\n",
    "imbd_basics['year'] = imbd_basics['start_year'].astype(str)\n",
    "\n",
    "#Drop unused columns\n",
    "imbd_basics = imbd_basics.drop(columns = ['original_title', 'start_year'])\n",
    "\n",
    "#Rename column for easier merging\n",
    "imbd_basics = imbd_basics.rename(columns = {'primary_title': 'title'})\n",
    "\n",
    "#Remove years and right whitespace from titles. Remove potentially extraneous words.\n",
    "years = ['\\(2010\\)', \"\\(2011\\)\", \n",
    "         \"\\(2012\\)\", \"\\(2013\\)\", \"\\(2014\\)\", \n",
    "         \"\\(2015\\)\", \"\\(2016\\)\", \"\\(2017\\)\", \"\\(2018\\)\"]\n",
    "imbd_basics.title = imbd_basics.title.replace(years, value='', regex=True)\n",
    "imbd_basics.title = imbd_basics.title.str.strip()\n",
    "imbd_basics.title = imbd_basics.title.apply(lambda x: x.lower())\n",
    "imbd_basics.title = imbd_basics.title.apply(lambda x: x.translate(str.maketrans('', '', '!\"#$%&\\'()*+,-./:;<=>?@[\\\\]^_`{|}~')))\n",
    "imbd_basics.title = imbd_basics.title.replace(['the', 'and'], value='', regex=True)"
   ]
  },
  {
   "cell_type": "code",
   "execution_count": null,
   "metadata": {},
   "outputs": [],
   "source": [
    "#Merge imbd_basics with merged datafile\n",
    "merged_df2 = pd.merge(merged_df, imbd_basics, on = [\"title\", \"year\"], how = \"left\")"
   ]
  },
  {
   "cell_type": "code",
   "execution_count": null,
   "metadata": {},
   "outputs": [],
   "source": [
    "#Change year to integer, and remove all films made before 2010. Turn year back to string.\n",
    "merged_df2['year'] = merged_df2['year'].astype(int)\n",
    "merged_df2 = merged_df2.loc[merged_df2.year >= 2010]\n",
    "merged_df2['year'] = merged_df2['year'].astype(str)"
   ]
  },
  {
   "cell_type": "code",
   "execution_count": null,
   "metadata": {},
   "outputs": [],
   "source": [
    "#Merge imbd_principals and imbd_name\n",
    "imbd_name_prin = pd.merge(imbd_principals, imbd_name, on = [\"nconst\"], how = \"left\")"
   ]
  },
  {
   "cell_type": "code",
   "execution_count": null,
   "metadata": {},
   "outputs": [],
   "source": [
    "#Remove extraneous columns\n",
    "imbd_name_prin = imbd_name_prin.drop(columns = ['ordering', 'nconst', \n",
    "                               'job', 'characters', 'birth_year', 'death_year', \n",
    "                               'primary_profession', 'known_for_titles'])"
   ]
  },
  {
   "cell_type": "code",
   "execution_count": 10,
   "metadata": {},
   "outputs": [],
   "source": [
    "#Create list of directors from imbd_name_prin\n",
    "directors = imbd_name_prin.loc[imbd_name_prin.category == 'director']"
   ]
  },
  {
   "cell_type": "code",
   "execution_count": 11,
   "metadata": {},
   "outputs": [],
   "source": [
    "#Merge list of directors with merged document\n",
    "merged_df3 = pd.merge(merged_df2, directors, on = [\"tconst\"], how = \"left\")"
   ]
  },
  {
   "cell_type": "code",
   "execution_count": 12,
   "metadata": {},
   "outputs": [],
   "source": [
    "#Remove extra columns, rename primary_name to director\n",
    "merged_df3 = merged_df3.drop(columns = ['category', 'runtime_minutes', 'genres'])\n",
    "merged_df3 = merged_df3.rename(columns = {'primary_name': 'director'})"
   ]
  },
  {
   "cell_type": "code",
   "execution_count": 13,
   "metadata": {},
   "outputs": [],
   "source": [
    "#Fill in null values for director\n",
    "merged_df3['director'] = merged_df3.director.fillna('Not listed')"
   ]
  },
  {
   "cell_type": "code",
   "execution_count": 34,
   "metadata": {},
   "outputs": [
    {
     "data": {
      "text/html": [
       "<div>\n",
       "<style scoped>\n",
       "    .dataframe tbody tr th:only-of-type {\n",
       "        vertical-align: middle;\n",
       "    }\n",
       "\n",
       "    .dataframe tbody tr th {\n",
       "        vertical-align: top;\n",
       "    }\n",
       "\n",
       "    .dataframe thead th {\n",
       "        text-align: right;\n",
       "    }\n",
       "</style>\n",
       "<table border=\"1\" class=\"dataframe\">\n",
       "  <thead>\n",
       "    <tr style=\"text-align: right;\">\n",
       "      <th></th>\n",
       "      <th>title</th>\n",
       "      <th>production_budget</th>\n",
       "      <th>worldwide_gross</th>\n",
       "      <th>net</th>\n",
       "      <th>ratio</th>\n",
       "      <th>year</th>\n",
       "      <th>studio</th>\n",
       "      <th>tconst</th>\n",
       "      <th>runtime_minutes</th>\n",
       "      <th>genres</th>\n",
       "      <th>director</th>\n",
       "    </tr>\n",
       "  </thead>\n",
       "  <tbody>\n",
       "    <tr>\n",
       "      <th>0</th>\n",
       "      <td>pirates of  caribbean on stranger tides</td>\n",
       "      <td>410600000.00</td>\n",
       "      <td>1045663872.00</td>\n",
       "      <td>635063872.00</td>\n",
       "      <td>1.55</td>\n",
       "      <td>2011</td>\n",
       "      <td>BV</td>\n",
       "      <td>tt1298650</td>\n",
       "      <td>136.00</td>\n",
       "      <td>Action,Adventure,Fantasy</td>\n",
       "      <td>Rob Marshall</td>\n",
       "    </tr>\n",
       "    <tr>\n",
       "      <th>1</th>\n",
       "      <td>dark phoenix</td>\n",
       "      <td>350000000.00</td>\n",
       "      <td>149762352.00</td>\n",
       "      <td>-200237648.00</td>\n",
       "      <td>-0.57</td>\n",
       "      <td>2019</td>\n",
       "      <td>Unknown</td>\n",
       "      <td>tt6565702</td>\n",
       "      <td>113.00</td>\n",
       "      <td>Action,Adventure,Sci-Fi</td>\n",
       "      <td>Simon Kinberg</td>\n",
       "    </tr>\n",
       "    <tr>\n",
       "      <th>2</th>\n",
       "      <td>avengers age of ultron</td>\n",
       "      <td>330600000.00</td>\n",
       "      <td>1403014016.00</td>\n",
       "      <td>1072414016.00</td>\n",
       "      <td>3.24</td>\n",
       "      <td>2015</td>\n",
       "      <td>BV</td>\n",
       "      <td>tt2395427</td>\n",
       "      <td>141.00</td>\n",
       "      <td>Action,Adventure,Sci-Fi</td>\n",
       "      <td>Joss Whedon</td>\n",
       "    </tr>\n",
       "    <tr>\n",
       "      <th>3</th>\n",
       "      <td>star wars ep viii  last jedi</td>\n",
       "      <td>317000000.00</td>\n",
       "      <td>1316721792.00</td>\n",
       "      <td>999721792.00</td>\n",
       "      <td>3.15</td>\n",
       "      <td>2017</td>\n",
       "      <td>Unknown</td>\n",
       "      <td>NaN</td>\n",
       "      <td>nan</td>\n",
       "      <td>NaN</td>\n",
       "      <td>Not listed</td>\n",
       "    </tr>\n",
       "    <tr>\n",
       "      <th>4</th>\n",
       "      <td>star wars ep vii  force awakens</td>\n",
       "      <td>306000000.00</td>\n",
       "      <td>2053311232.00</td>\n",
       "      <td>1747311232.00</td>\n",
       "      <td>5.71</td>\n",
       "      <td>2015</td>\n",
       "      <td>Unknown</td>\n",
       "      <td>NaN</td>\n",
       "      <td>nan</td>\n",
       "      <td>NaN</td>\n",
       "      <td>Not listed</td>\n",
       "    </tr>\n",
       "  </tbody>\n",
       "</table>\n",
       "</div>"
      ],
      "text/plain": [
       "                                     title  production_budget  \\\n",
       "0  pirates of  caribbean on stranger tides       410600000.00   \n",
       "1                             dark phoenix       350000000.00   \n",
       "2                   avengers age of ultron       330600000.00   \n",
       "3             star wars ep viii  last jedi       317000000.00   \n",
       "4          star wars ep vii  force awakens       306000000.00   \n",
       "\n",
       "   worldwide_gross           net  ratio  year   studio     tconst  \\\n",
       "0    1045663872.00  635063872.00   1.55  2011       BV  tt1298650   \n",
       "1     149762352.00 -200237648.00  -0.57  2019  Unknown  tt6565702   \n",
       "2    1403014016.00 1072414016.00   3.24  2015       BV  tt2395427   \n",
       "3    1316721792.00  999721792.00   3.15  2017  Unknown        NaN   \n",
       "4    2053311232.00 1747311232.00   5.71  2015  Unknown        NaN   \n",
       "\n",
       "   runtime_minutes                    genres       director  \n",
       "0           136.00  Action,Adventure,Fantasy   Rob Marshall  \n",
       "1           113.00   Action,Adventure,Sci-Fi  Simon Kinberg  \n",
       "2           141.00   Action,Adventure,Sci-Fi    Joss Whedon  \n",
       "3              nan                       NaN     Not listed  \n",
       "4              nan                       NaN     Not listed  "
      ]
     },
     "execution_count": 34,
     "metadata": {},
     "output_type": "execute_result"
    }
   ],
   "source": [
    "merged_df3.head()"
   ]
  },
  {
   "cell_type": "code",
   "execution_count": 14,
   "metadata": {},
   "outputs": [],
   "source": [
    "#Create list of producers from imbd_name_prin\n",
    "producers = imbd_name_prin.loc[imbd_name_prin.category == 'producer']"
   ]
  },
  {
   "cell_type": "code",
   "execution_count": 15,
   "metadata": {},
   "outputs": [],
   "source": [
    "#Rename column primary_name to producer\n",
    "producers = producers.rename(columns = {'primary_name': 'producer'})"
   ]
  },
  {
   "cell_type": "code",
   "execution_count": 16,
   "metadata": {},
   "outputs": [],
   "source": [
    "#Drop column 'category'\n",
    "producers = producers.drop(columns = 'category')"
   ]
  },
  {
   "cell_type": "code",
   "execution_count": 17,
   "metadata": {},
   "outputs": [],
   "source": [
    "#Merge list of producers with merged document\n",
    "merged_df4 = pd.merge(merged_df3, producers, on = [\"tconst\"], how = \"left\")"
   ]
  },
  {
   "cell_type": "code",
   "execution_count": 18,
   "metadata": {},
   "outputs": [],
   "source": [
    "#Fill null producer values\n",
    "merged_df4['producer'] = merged_df4.producer.fillna('Not listed')"
   ]
  },
  {
   "cell_type": "code",
   "execution_count": 19,
   "metadata": {},
   "outputs": [],
   "source": [
    "#Remove duplicate titles\n",
    "merged_df_cleaned = merged_df4.loc[merged_df4.title.duplicated() == False]"
   ]
  },
  {
   "cell_type": "code",
   "execution_count": null,
   "metadata": {},
   "outputs": [],
   "source": [
    "#Drop extra column\n",
    "merged_df_cleaned = merged_df_cleaned.drop(columns = 'tconst')"
   ]
  },
  {
   "cell_type": "code",
   "execution_count": 33,
   "metadata": {},
   "outputs": [
    {
     "data": {
      "text/html": [
       "<div>\n",
       "<style scoped>\n",
       "    .dataframe tbody tr th:only-of-type {\n",
       "        vertical-align: middle;\n",
       "    }\n",
       "\n",
       "    .dataframe tbody tr th {\n",
       "        vertical-align: top;\n",
       "    }\n",
       "\n",
       "    .dataframe thead th {\n",
       "        text-align: right;\n",
       "    }\n",
       "</style>\n",
       "<table border=\"1\" class=\"dataframe\">\n",
       "  <thead>\n",
       "    <tr style=\"text-align: right;\">\n",
       "      <th></th>\n",
       "      <th>title</th>\n",
       "      <th>production_budget</th>\n",
       "      <th>worldwide_gross</th>\n",
       "      <th>net</th>\n",
       "      <th>ratio</th>\n",
       "      <th>year</th>\n",
       "      <th>studio</th>\n",
       "      <th>tconst</th>\n",
       "      <th>runtime_minutes</th>\n",
       "      <th>genres</th>\n",
       "      <th>director</th>\n",
       "      <th>producer</th>\n",
       "    </tr>\n",
       "  </thead>\n",
       "  <tbody>\n",
       "    <tr>\n",
       "      <th>0</th>\n",
       "      <td>pirates of  caribbean on stranger tides</td>\n",
       "      <td>410600000.00</td>\n",
       "      <td>1045663872.00</td>\n",
       "      <td>635063872.00</td>\n",
       "      <td>1.55</td>\n",
       "      <td>2011</td>\n",
       "      <td>BV</td>\n",
       "      <td>tt1298650</td>\n",
       "      <td>136.00</td>\n",
       "      <td>Action,Adventure,Fantasy</td>\n",
       "      <td>Rob Marshall</td>\n",
       "      <td>Not listed</td>\n",
       "    </tr>\n",
       "    <tr>\n",
       "      <th>1</th>\n",
       "      <td>dark phoenix</td>\n",
       "      <td>350000000.00</td>\n",
       "      <td>149762352.00</td>\n",
       "      <td>-200237648.00</td>\n",
       "      <td>-0.57</td>\n",
       "      <td>2019</td>\n",
       "      <td>Unknown</td>\n",
       "      <td>tt6565702</td>\n",
       "      <td>113.00</td>\n",
       "      <td>Action,Adventure,Sci-Fi</td>\n",
       "      <td>Simon Kinberg</td>\n",
       "      <td>Not listed</td>\n",
       "    </tr>\n",
       "    <tr>\n",
       "      <th>2</th>\n",
       "      <td>avengers age of ultron</td>\n",
       "      <td>330600000.00</td>\n",
       "      <td>1403014016.00</td>\n",
       "      <td>1072414016.00</td>\n",
       "      <td>3.24</td>\n",
       "      <td>2015</td>\n",
       "      <td>BV</td>\n",
       "      <td>tt2395427</td>\n",
       "      <td>141.00</td>\n",
       "      <td>Action,Adventure,Sci-Fi</td>\n",
       "      <td>Joss Whedon</td>\n",
       "      <td>Kevin Feige</td>\n",
       "    </tr>\n",
       "    <tr>\n",
       "      <th>3</th>\n",
       "      <td>star wars ep viii  last jedi</td>\n",
       "      <td>317000000.00</td>\n",
       "      <td>1316721792.00</td>\n",
       "      <td>999721792.00</td>\n",
       "      <td>3.15</td>\n",
       "      <td>2017</td>\n",
       "      <td>Unknown</td>\n",
       "      <td>NaN</td>\n",
       "      <td>nan</td>\n",
       "      <td>NaN</td>\n",
       "      <td>Not listed</td>\n",
       "      <td>Not listed</td>\n",
       "    </tr>\n",
       "    <tr>\n",
       "      <th>4</th>\n",
       "      <td>star wars ep vii  force awakens</td>\n",
       "      <td>306000000.00</td>\n",
       "      <td>2053311232.00</td>\n",
       "      <td>1747311232.00</td>\n",
       "      <td>5.71</td>\n",
       "      <td>2015</td>\n",
       "      <td>Unknown</td>\n",
       "      <td>NaN</td>\n",
       "      <td>nan</td>\n",
       "      <td>NaN</td>\n",
       "      <td>Not listed</td>\n",
       "      <td>Not listed</td>\n",
       "    </tr>\n",
       "  </tbody>\n",
       "</table>\n",
       "</div>"
      ],
      "text/plain": [
       "                                     title  production_budget  \\\n",
       "0  pirates of  caribbean on stranger tides       410600000.00   \n",
       "1                             dark phoenix       350000000.00   \n",
       "2                   avengers age of ultron       330600000.00   \n",
       "3             star wars ep viii  last jedi       317000000.00   \n",
       "4          star wars ep vii  force awakens       306000000.00   \n",
       "\n",
       "   worldwide_gross           net  ratio  year   studio     tconst  \\\n",
       "0    1045663872.00  635063872.00   1.55  2011       BV  tt1298650   \n",
       "1     149762352.00 -200237648.00  -0.57  2019  Unknown  tt6565702   \n",
       "2    1403014016.00 1072414016.00   3.24  2015       BV  tt2395427   \n",
       "3    1316721792.00  999721792.00   3.15  2017  Unknown        NaN   \n",
       "4    2053311232.00 1747311232.00   5.71  2015  Unknown        NaN   \n",
       "\n",
       "   runtime_minutes                    genres       director     producer  \n",
       "0           136.00  Action,Adventure,Fantasy   Rob Marshall   Not listed  \n",
       "1           113.00   Action,Adventure,Sci-Fi  Simon Kinberg   Not listed  \n",
       "2           141.00   Action,Adventure,Sci-Fi    Joss Whedon  Kevin Feige  \n",
       "3              nan                       NaN     Not listed   Not listed  \n",
       "4              nan                       NaN     Not listed   Not listed  "
      ]
     },
     "execution_count": 33,
     "metadata": {},
     "output_type": "execute_result"
    }
   ],
   "source": [
    "merged_df5.head()"
   ]
  },
  {
   "cell_type": "code",
   "execution_count": 20,
   "metadata": {},
   "outputs": [],
   "source": [
    "##### Create a list of 20 studios with the top ratio means\n",
    "studio_ratio_mean = merged_df_cleaned.groupby(['studio']).ratio.mean().sort_values(ascending=False)[:20]\n",
    "\n",
    "#Create a list of 20 directors with the top ratio means\n",
    "director_ratio_mean = merged_df_cleaned.groupby(['director']).ratio.mean().sort_values(ascending=False)[:20]\n",
    "\n",
    "#Create a list of 20 producers with the top ratio means\n",
    "producer_ratio_mean = merged_df_cleaned.groupby(['producer']).ratio.mean().sort_values(ascending=False)[:20]"
   ]
  },
  {
   "cell_type": "code",
   "execution_count": 36,
   "metadata": {},
   "outputs": [
    {
     "data": {
      "text/plain": [
       "studio\n",
       "WB (NL)    14.79\n",
       "UTV        10.13\n",
       "FD          8.94\n",
       "Orch.       8.54\n",
       "GrtIndia    7.78\n",
       "BH Tilt     6.90\n",
       "Uni.        5.45\n",
       "Par.        5.17\n",
       "MBox        4.88\n",
       "TriS        4.74\n",
       "A24         4.71\n",
       "ParV        4.48\n",
       "PNT         4.28\n",
       "Eros        3.99\n",
       "FoxS        3.46\n",
       "Wein.       3.39\n",
       "LGF         3.24\n",
       "Affirm      3.04\n",
       "LG/S        3.04\n",
       "W/Dim.      2.98\n",
       "Name: ratio, dtype: float64"
      ]
     },
     "execution_count": 36,
     "metadata": {},
     "output_type": "execute_result"
    }
   ],
   "source": [
    "studio_ratio_mean"
   ]
  },
  {
   "cell_type": "code",
   "execution_count": 37,
   "metadata": {},
   "outputs": [
    {
     "data": {
      "text/plain": [
       "director\n",
       "Travis Cluff         415.56\n",
       "Tod Williams          58.17\n",
       "William Brent Bell    53.29\n",
       "Bradley Parker        41.41\n",
       "Jordan Peele          30.89\n",
       "Nitesh Tiwari         30.02\n",
       "Josh Boone            24.60\n",
       "Alex Kendrick         23.66\n",
       "Henry Joost           23.50\n",
       "Barry Jenkins         21.58\n",
       "Dan Trachtenberg      20.66\n",
       "John R. Leonetti      19.74\n",
       "Stiles White          19.66\n",
       "Daniel Stamm          18.50\n",
       "James DeMonaco        17.22\n",
       "David F. Sandberg     17.13\n",
       "Adam Robitel          15.79\n",
       "Stephen Susco         15.43\n",
       "James Wan             14.86\n",
       "Drake Doremus         13.91\n",
       "Name: ratio, dtype: float64"
      ]
     },
     "execution_count": 37,
     "metadata": {},
     "output_type": "execute_result"
    }
   ],
   "source": [
    "director_ratio_mean"
   ]
  },
  {
   "cell_type": "code",
   "execution_count": 38,
   "metadata": {},
   "outputs": [
    {
     "data": {
      "text/plain": [
       "producer\n",
       "Dean Schnider            415.56\n",
       "Morris Paulson           100.76\n",
       "Brian Witten              41.41\n",
       "Lawrence Grey             28.76\n",
       "Adam Donaghey             26.70\n",
       "Malek Akkad               24.49\n",
       "Mike Medavoy              24.48\n",
       "Steven Schneider          21.65\n",
       "Lindsey Weber             20.66\n",
       "Seth Grahame-Smith        18.93\n",
       "Brandt Andersen           18.59\n",
       "Sébastien K. Lemercier    17.22\n",
       "Jamie Patricof            15.57\n",
       "Jim Beach                 15.27\n",
       "Dede Gardner              15.23\n",
       "Jason Blum                14.52\n",
       "Teddy Schwarzman          14.18\n",
       "Jonathan Schwartz         13.91\n",
       "Siddharth Roy Kapur       13.78\n",
       "Peter Safran              13.40\n",
       "Name: ratio, dtype: float64"
      ]
     },
     "execution_count": 38,
     "metadata": {},
     "output_type": "execute_result"
    }
   ],
   "source": [
    "producer_ratio_mean"
   ]
  },
  {
   "cell_type": "code",
   "execution_count": null,
   "metadata": {},
   "outputs": [],
   "source": []
  }
 ],
 "metadata": {
  "kernelspec": {
   "display_name": "Python 3",
   "language": "python",
   "name": "python3"
  },
  "language_info": {
   "codemirror_mode": {
    "name": "ipython",
    "version": 3
   },
   "file_extension": ".py",
   "mimetype": "text/x-python",
   "name": "python",
   "nbconvert_exporter": "python",
   "pygments_lexer": "ipython3",
   "version": "3.7.3"
  }
 },
 "nbformat": 4,
 "nbformat_minor": 2
}

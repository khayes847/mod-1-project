{
 "cells": [
  {
   "cell_type": "code",
   "execution_count": 1,
   "metadata": {},
   "outputs": [],
   "source": [
    "#Import packages\n",
    "import pandas as pd\n",
    "import numpy as np\n",
    "import matplotlib.pyplot as plt\n",
    "import string\n",
    "%matplotlib inline\n",
    "\n",
    "#Turn off scientific notation in Pandas\n",
    "pd.set_option('display.float_format', lambda x: '%.2f' % x)\n",
    "\n",
    "# Import data\n",
    "tn_budget = pd.read_csv('Data/Zipped_Data/tn.movie_budgets.csv.gz', compression = 'gzip')\n",
    "bom_gross = pd.read_csv('Data/Zipped_Data/bom.movie_gross.csv.gz', compression = 'gzip')\n",
    "imbd_basics = pd.read_csv('Data/Zipped_Data/imdb.title.basics.csv.gz', compression = 'gzip')\n",
    "imbd_name = pd.read_csv('Data/Zipped_Data/imdb.name.basics.csv.gz', compression = 'gzip')\n",
    "imbd_principals = pd.read_csv('Data/Zipped_Data/imdb.title.principals.csv.gz', compression = 'gzip')"
   ]
  },
  {
   "cell_type": "code",
   "execution_count": null,
   "metadata": {},
   "outputs": [],
   "source": [
    "#Remove punctuation from producton and worldwide. Switch variables from string to float.\n",
    "tn_budget['production_budget'] = tn_budget['production_budget'].apply(lambda x: x.translate(str.maketrans('', '', '!\"#$%&\\'()*+,-./:;<=>?@[\\\\]^_`{|}~')))\n",
    "tn_budget['worldwide_gross'] = tn_budget['worldwide_gross'].apply(lambda x: x.translate(str.maketrans('', '', '!\"#$%&\\'()*+,-./:;<=>?@[\\\\]^_`{|}~')))\n",
    "tn_budget['production_budget'] = pd.to_numeric(tn_budget.production_budget, downcast = 'float', errors = 'coerce')\n",
    "tn_budget['worldwide_gross'] = pd.to_numeric(tn_budget.worldwide_gross, downcast = 'float', errors = 'coerce')\n",
    "\n",
    "#Create column for net profit (worldwide gross minus production budget).\n",
    "tn_budget['net'] = list(tn_budget.apply(lambda x: x.worldwide_gross - x.production_budget, axis=1))\n",
    "\n",
    "#Create column for ratio (net profit divided by production budget)\n",
    "tn_budget['ratio'] = list(tn_budget.apply(lambda x: x.net / x.production_budget, axis=1))\n",
    "\n",
    "# Rename column 'movie' to 'title'\n",
    "tn_budget = tn_budget.rename(columns = {'movie': 'title'})\n",
    "\n",
    "#remove whitespace, potential extra words, punctuation, and case from titles\n",
    "years = ['\\(2010\\)', \"\\(2011\\)\", \n",
    "         \"\\(2012\\)\", \"\\(2013\\)\", \"\\(2014\\)\", \n",
    "         \"\\(2015\\)\", \"\\(2016\\)\", \"\\(2017\\)\", \"\\(2018\\)\"]\n",
    "tn_budget.title = tn_budget.title.replace(years, value='', regex=True)\n",
    "tn_budget.title = tn_budget.title.str.strip()\n",
    "tn_budget.title = tn_budget.title.apply(lambda x: x.lower())\n",
    "tn_budget.title = tn_budget.title.apply(lambda x: x.translate(str.maketrans('', '', '!\"#$%&\\'()*+,-./:;<=>?@[\\\\]^_`{|}~')))\n",
    "tn_budget.title = tn_budget.title.replace(['the', 'and'], value='', regex=True)\n",
    "\n",
    "#Remove month and year from date. Drop redundant columns\n",
    "tn_budget['year'] = list(tn_budget['release_date'].str[-4:])\n",
    "tn_budget = tn_budget.drop(columns = ['id', 'domestic_gross', 'release_date'])"
   ]
  },
  {
   "cell_type": "code",
   "execution_count": 10,
   "metadata": {},
   "outputs": [],
   "source": [
    "#Remove 'studio', 'domestic_gross', 'foreign_gross' column. Set 'foreign_gross' to float and 'year' to string\n",
    "bom_gross = bom_gross.drop(columns = ['domestic_gross', 'foreign_gross'])\n",
    "bom_gross['year'] = bom_gross['year'].astype(str)\n",
    "\n",
    "#Remove years and right whitespace from titles. Remove potentially extraneous words.\n",
    "years = ['\\(2010\\)', \"\\(2011\\)\", \n",
    "         \"\\(2012\\)\", \"\\(2013\\)\", \"\\(2014\\)\", \n",
    "         \"\\(2015\\)\", \"\\(2016\\)\", \"\\(2017\\)\", \"\\(2018\\)\"]\n",
    "bom_gross.title = bom_gross.title.replace(years, value='', regex=True)\n",
    "bom_gross.title = bom_gross.title.str.strip()\n",
    "bom_gross.title = bom_gross.title.apply(lambda x: x.lower())\n",
    "bom_gross.title = bom_gross.title.apply(lambda x: x.translate(str.maketrans('', '', '!\"#$%&\\'()*+,-./:;<=>?@[\\\\]^_`{|}~')))\n",
    "bom_gross.title = bom_gross.title.replace(['the', 'and'], value='', regex=True)"
   ]
  },
  {
   "cell_type": "code",
   "execution_count": null,
   "metadata": {},
   "outputs": [],
   "source": [
    "#Merge tn_budget and bom_gross\n",
    "merged_df = pd.merge(tn_budget, bom_gross, on = [\"title\", \"year\"], how = \"left\")\n",
    "\n",
    "#Replace null studio values\n",
    "merged_df['studio'] = merged_df.studio.fillna('Unknown')"
   ]
  },
  {
   "cell_type": "code",
   "execution_count": 17,
   "metadata": {},
   "outputs": [],
   "source": [
    "#Create 'year' string column from 'start_year'\n",
    "imbd_basics['year'] = imbd_basics['start_year'].astype(str)\n",
    "\n",
    "#Drop unused columns\n",
    "imbd_basics = imbd_basics.drop(columns = ['original_title', 'start_year'])\n",
    "\n",
    "#Rename column for easier merging\n",
    "imbd_basics = imbd_basics.rename(columns = {'primary_title': 'title'})\n",
    "\n",
    "#Remove years and right whitespace from titles. Remove potentially extraneous words.\n",
    "years = ['\\(2010\\)', \"\\(2011\\)\", \n",
    "         \"\\(2012\\)\", \"\\(2013\\)\", \"\\(2014\\)\", \n",
    "         \"\\(2015\\)\", \"\\(2016\\)\", \"\\(2017\\)\", \"\\(2018\\)\"]\n",
    "imbd_basics.title = imbd_basics.title.replace(years, value='', regex=True)\n",
    "imbd_basics.title = imbd_basics.title.str.strip()\n",
    "imbd_basics.title = imbd_basics.title.apply(lambda x: x.lower())\n",
    "imbd_basics.title = imbd_basics.title.apply(lambda x: x.translate(str.maketrans('', '', '!\"#$%&\\'()*+,-./:;<=>?@[\\\\]^_`{|}~')))\n",
    "imbd_basics.title = imbd_basics.title.replace(['the', 'and'], value='', regex=True)"
   ]
  },
  {
   "cell_type": "code",
   "execution_count": 18,
   "metadata": {},
   "outputs": [],
   "source": [
    "#Merge imbd_basics with merged datafile\n",
    "merged_df2 = pd.merge(merged_df, imbd_basics, on = [\"title\", \"year\"], how = \"left\")"
   ]
  },
  {
   "cell_type": "code",
   "execution_count": 37,
   "metadata": {},
   "outputs": [
    {
     "name": "stderr",
     "output_type": "stream",
     "text": [
      "C:\\Users\\Rocio\\Anaconda3\\lib\\site-packages\\ipykernel_launcher.py:1: SettingWithCopyWarning: \n",
      "A value is trying to be set on a copy of a slice from a DataFrame.\n",
      "Try using .loc[row_indexer,col_indexer] = value instead\n",
      "\n",
      "See the caveats in the documentation: http://pandas.pydata.org/pandas-docs/stable/indexing.html#indexing-view-versus-copy\n",
      "  \"\"\"Entry point for launching an IPython kernel.\n"
     ]
    }
   ],
   "source": [
    "#Change year to integer, and remove all films made before 2010. Turn year back to string.\n",
    "merged_df2['year'] = merged_df2['year'].astype(int)\n",
    "merged_df2 = merged_df2.loc[merged_df2.year >= 2010]\n",
    "merged_df2['year'] = merged_df2['year'].astype(str)"
   ]
  },
  {
   "cell_type": "code",
   "execution_count": 83,
   "metadata": {},
   "outputs": [],
   "source": [
    "#Merge imbd_principals and imbd_name\n",
    "imbd_name_prin = pd.merge(imbd_principals, imbd_name, on = [\"nconst\"], how = \"left\")"
   ]
  },
  {
   "cell_type": "code",
   "execution_count": 86,
   "metadata": {},
   "outputs": [],
   "source": [
    "#Remove extraneous columns\n",
    "imbd_name_prin = imbd_name_prin.drop(columns = ['ordering', 'nconst', \n",
    "                               'job', 'characters', 'birth_year', 'death_year', \n",
    "                               'primary_profession', 'known_for_titles'])"
   ]
  },
  {
   "cell_type": "code",
   "execution_count": 90,
   "metadata": {},
   "outputs": [],
   "source": [
    "#Create list of directors from imbd_name_prin\n",
    "directors = imbd_name_prin.loc[imbd_name_prin.category == 'director']"
   ]
  },
  {
   "cell_type": "code",
   "execution_count": 93,
   "metadata": {},
   "outputs": [],
   "source": [
    "#Merge list of directors with merged document\n",
    "merged_df3 = pd.merge(merged_df2, directors, on = [\"tconst\"], how = \"left\")"
   ]
  },
  {
   "cell_type": "code",
   "execution_count": 95,
   "metadata": {},
   "outputs": [],
   "source": [
    "#Remove extra column, rename primary_name to director\n",
    "merged_df3 = merged_df3.drop(columns = 'category')\n",
    "merged_df3 = merged_df3.rename(columns = {'primary_name': 'director'})"
   ]
  },
  {
   "cell_type": "code",
   "execution_count": 97,
   "metadata": {},
   "outputs": [],
   "source": [
    "#Fill in null values for director\n",
    "merged_df3['director'] = merged_df3.director.fillna('Not listed')"
   ]
  },
  {
   "cell_type": "code",
   "execution_count": 99,
   "metadata": {},
   "outputs": [],
   "source": [
    "#Create list of producers from imbd_name_prin\n",
    "producers = imbd_name_prin.loc[imbd_name_prin.category == 'producer']"
   ]
  },
  {
   "cell_type": "code",
   "execution_count": 101,
   "metadata": {},
   "outputs": [],
   "source": [
    "#Rename column primary_name to producer\n",
    "producers = producers.rename(columns = {'primary_name': 'producer'})"
   ]
  },
  {
   "cell_type": "code",
   "execution_count": 102,
   "metadata": {},
   "outputs": [],
   "source": [
    "#Drop column 'category'\n",
    "producers = producers.drop(columns = 'category')"
   ]
  },
  {
   "cell_type": "code",
   "execution_count": 104,
   "metadata": {},
   "outputs": [],
   "source": [
    "#Merge list of producers with merged document\n",
    "merged_df4 = pd.merge(merged_df3, producers, on = [\"tconst\"], how = \"left\")"
   ]
  },
  {
   "cell_type": "code",
   "execution_count": 106,
   "metadata": {},
   "outputs": [],
   "source": [
    "#Fill null producer values\n",
    "merged_df4['producer'] = merged_df4.producer.fillna('Not listed')"
   ]
  },
  {
   "cell_type": "code",
   "execution_count": 70,
   "metadata": {},
   "outputs": [],
   "source": [
    "#Create a list of 20 studios with the top ratio means\n",
    "studio_ratio_mean = merged_df2.groupby(['studio']).ratio.mean().sort_values(ascending=False)[:20]\n",
    "\n",
    "#Create a list of 20 studios with the top ratio medians\n",
    "studio_ratio_median = merged_df2.groupby(['studio']).ratio.median().sort_values(ascending=False)[:20]"
   ]
  },
  {
   "cell_type": "code",
   "execution_count": 115,
   "metadata": {},
   "outputs": [],
   "source": [
    "#Create a list of 20 directors with the top ratio means\n",
    "director_ratio_mean = merged_df4.groupby(['director']).ratio.mean().sort_values(ascending=False)[:20]"
   ]
  },
  {
   "cell_type": "code",
   "execution_count": 117,
   "metadata": {},
   "outputs": [],
   "source": [
    "#Create a list of 20 producers with the top ratio means\n",
    "producer_ratio_mean = merged_df4.groupby(['producer']).ratio.mean().sort_values(ascending=False)[:20]"
   ]
  }
 ],
 "metadata": {
  "kernelspec": {
   "display_name": "Python 3",
   "language": "python",
   "name": "python3"
  },
  "language_info": {
   "codemirror_mode": {
    "name": "ipython",
    "version": 3
   },
   "file_extension": ".py",
   "mimetype": "text/x-python",
   "name": "python",
   "nbconvert_exporter": "python",
   "pygments_lexer": "ipython3",
   "version": "3.7.3"
  }
 },
 "nbformat": 4,
 "nbformat_minor": 2
}
